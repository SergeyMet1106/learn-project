{
 "cells": [
  {
   "cell_type": "markdown",
   "metadata": {
    "toc": true
   },
   "source": [
    "<h1>Содержание<span class=\"tocSkip\"></span></h1>\n",
    "<div class=\"toc\"><ul class=\"toc-item\"><li><span><a href=\"#Подготовка-данных\" data-toc-modified-id=\"Подготовка-данных-1\"><span class=\"toc-item-num\">1&nbsp;&nbsp;</span>Подготовка данных</a></span></li><li><span><a href=\"#Исследование-задачи\" data-toc-modified-id=\"Исследование-задачи-2\"><span class=\"toc-item-num\">2&nbsp;&nbsp;</span>Исследование задачи</a></span></li><li><span><a href=\"#Исследование-моделей-с-применением-методик-борьбы-с-дисбалансом-классов\" data-toc-modified-id=\"Исследование-моделей-с-применением-методик-борьбы-с-дисбалансом-классов-3\"><span class=\"toc-item-num\">3&nbsp;&nbsp;</span>Исследование моделей с применением методик борьбы с дисбалансом классов</a></span></li><li><span><a href=\"#Тестируем-модели-с-наилучшими-гиперпараметрами.\" data-toc-modified-id=\"Тестируем-модели-с-наилучшими-гиперпараметрами.-4\"><span class=\"toc-item-num\">4&nbsp;&nbsp;</span>Тестируем модели с наилучшими гиперпараметрами.</a></span><ul class=\"toc-item\"><li><span><a href=\"#Вывод:\" data-toc-modified-id=\"Вывод:-4.1\"><span class=\"toc-item-num\">4.1&nbsp;&nbsp;</span>Вывод:</a></span></li></ul></li><li><span><a href=\"#Чек-лист-готовности-проекта\" data-toc-modified-id=\"Чек-лист-готовности-проекта-5\"><span class=\"toc-item-num\">5&nbsp;&nbsp;</span>Чек-лист готовности проекта</a></span></li></ul></div>"
   ]
  },
  {
   "cell_type": "markdown",
   "metadata": {},
   "source": [
    "# Отток клиентов"
   ]
  },
  {
   "cell_type": "markdown",
   "metadata": {},
   "source": [
    "Из «Бета-Банка» стали уходить клиенты. Каждый месяц. Немного, но заметно. Банковские маркетологи посчитали: сохранять текущих клиентов дешевле, чем привлекать новых.\n",
    "\n",
    "Нужно спрогнозировать, уйдёт клиент из банка в ближайшее время или нет. Вам предоставлены исторические данные о поведении клиентов и расторжении договоров с банком. \n",
    "\n",
    "Постройте модель с предельно большим значением *F1*-меры. Чтобы сдать проект успешно, нужно довести метрику до 0.59. Проверьте *F1*-меру на тестовой выборке самостоятельно.\n",
    "\n",
    "Дополнительно измеряйте *AUC-ROC*, сравнивайте её значение с *F1*-мерой.\n",
    "\n",
    "Источник данных: [https://www.kaggle.com/barelydedicated/bank-customer-churn-modeling](https://www.kaggle.com/barelydedicated/bank-customer-churn-modeling)"
   ]
  },
  {
   "cell_type": "markdown",
   "metadata": {},
   "source": [
    "## Подготовка данных"
   ]
  },
  {
   "cell_type": "markdown",
   "metadata": {},
   "source": [
    "Импортируем все инсрументы необходимые для работы. "
   ]
  },
  {
   "cell_type": "code",
   "execution_count": 2,
   "metadata": {},
   "outputs": [],
   "source": [
    "import pandas as pd\n",
    "from sklearn.model_selection import train_test_split\n",
    "import numpy as np\n",
    "from sklearn.preprocessing import StandardScaler\n",
    "pd.options.mode.chained_assignment = None\n",
    "from sklearn.metrics import accuracy_score, mean_squared_error, r2_score\n",
    "from sklearn.metrics import f1_score\n",
    "from sklearn.metrics import recall_score , precision_score\n",
    "from sklearn.tree import DecisionTreeClassifier\n",
    "from sklearn.ensemble import RandomForestRegressor\n",
    "from sklearn.ensemble import RandomForestClassifier\n",
    "from sklearn.linear_model import LogisticRegression\n",
    "from sklearn.utils import shuffle\n",
    "from sklearn.metrics import roc_auc_score\n",
    "from sklearn.metrics import roc_curve\n",
    "import matplotlib.pyplot as plt"
   ]
  },
  {
   "cell_type": "markdown",
   "metadata": {},
   "source": [
    "Загружаем фаил с данными."
   ]
  },
  {
   "cell_type": "code",
   "execution_count": 4,
   "metadata": {},
   "outputs": [],
   "source": [
    "data = pd.read_csv(r\"C:\\Users\\Admin\\wer\\learn-project\\Churn.csv\")"
   ]
  },
  {
   "cell_type": "code",
   "execution_count": 5,
   "metadata": {},
   "outputs": [
    {
     "data": {
      "text/html": [
       "<div>\n",
       "<style scoped>\n",
       "    .dataframe tbody tr th:only-of-type {\n",
       "        vertical-align: middle;\n",
       "    }\n",
       "\n",
       "    .dataframe tbody tr th {\n",
       "        vertical-align: top;\n",
       "    }\n",
       "\n",
       "    .dataframe thead th {\n",
       "        text-align: right;\n",
       "    }\n",
       "</style>\n",
       "<table border=\"1\" class=\"dataframe\">\n",
       "  <thead>\n",
       "    <tr style=\"text-align: right;\">\n",
       "      <th></th>\n",
       "      <th>RowNumber</th>\n",
       "      <th>CustomerId</th>\n",
       "      <th>Surname</th>\n",
       "      <th>CreditScore</th>\n",
       "      <th>Geography</th>\n",
       "      <th>Gender</th>\n",
       "      <th>Age</th>\n",
       "      <th>Tenure</th>\n",
       "      <th>Balance</th>\n",
       "      <th>NumOfProducts</th>\n",
       "      <th>HasCrCard</th>\n",
       "      <th>IsActiveMember</th>\n",
       "      <th>EstimatedSalary</th>\n",
       "      <th>Exited</th>\n",
       "    </tr>\n",
       "  </thead>\n",
       "  <tbody>\n",
       "    <tr>\n",
       "      <th>0</th>\n",
       "      <td>1</td>\n",
       "      <td>15634602</td>\n",
       "      <td>Hargrave</td>\n",
       "      <td>619</td>\n",
       "      <td>France</td>\n",
       "      <td>Female</td>\n",
       "      <td>42</td>\n",
       "      <td>2.0</td>\n",
       "      <td>0.00</td>\n",
       "      <td>1</td>\n",
       "      <td>1</td>\n",
       "      <td>1</td>\n",
       "      <td>101348.88</td>\n",
       "      <td>1</td>\n",
       "    </tr>\n",
       "    <tr>\n",
       "      <th>1</th>\n",
       "      <td>2</td>\n",
       "      <td>15647311</td>\n",
       "      <td>Hill</td>\n",
       "      <td>608</td>\n",
       "      <td>Spain</td>\n",
       "      <td>Female</td>\n",
       "      <td>41</td>\n",
       "      <td>1.0</td>\n",
       "      <td>83807.86</td>\n",
       "      <td>1</td>\n",
       "      <td>0</td>\n",
       "      <td>1</td>\n",
       "      <td>112542.58</td>\n",
       "      <td>0</td>\n",
       "    </tr>\n",
       "    <tr>\n",
       "      <th>2</th>\n",
       "      <td>3</td>\n",
       "      <td>15619304</td>\n",
       "      <td>Onio</td>\n",
       "      <td>502</td>\n",
       "      <td>France</td>\n",
       "      <td>Female</td>\n",
       "      <td>42</td>\n",
       "      <td>8.0</td>\n",
       "      <td>159660.80</td>\n",
       "      <td>3</td>\n",
       "      <td>1</td>\n",
       "      <td>0</td>\n",
       "      <td>113931.57</td>\n",
       "      <td>1</td>\n",
       "    </tr>\n",
       "    <tr>\n",
       "      <th>3</th>\n",
       "      <td>4</td>\n",
       "      <td>15701354</td>\n",
       "      <td>Boni</td>\n",
       "      <td>699</td>\n",
       "      <td>France</td>\n",
       "      <td>Female</td>\n",
       "      <td>39</td>\n",
       "      <td>1.0</td>\n",
       "      <td>0.00</td>\n",
       "      <td>2</td>\n",
       "      <td>0</td>\n",
       "      <td>0</td>\n",
       "      <td>93826.63</td>\n",
       "      <td>0</td>\n",
       "    </tr>\n",
       "    <tr>\n",
       "      <th>4</th>\n",
       "      <td>5</td>\n",
       "      <td>15737888</td>\n",
       "      <td>Mitchell</td>\n",
       "      <td>850</td>\n",
       "      <td>Spain</td>\n",
       "      <td>Female</td>\n",
       "      <td>43</td>\n",
       "      <td>2.0</td>\n",
       "      <td>125510.82</td>\n",
       "      <td>1</td>\n",
       "      <td>1</td>\n",
       "      <td>1</td>\n",
       "      <td>79084.10</td>\n",
       "      <td>0</td>\n",
       "    </tr>\n",
       "    <tr>\n",
       "      <th>...</th>\n",
       "      <td>...</td>\n",
       "      <td>...</td>\n",
       "      <td>...</td>\n",
       "      <td>...</td>\n",
       "      <td>...</td>\n",
       "      <td>...</td>\n",
       "      <td>...</td>\n",
       "      <td>...</td>\n",
       "      <td>...</td>\n",
       "      <td>...</td>\n",
       "      <td>...</td>\n",
       "      <td>...</td>\n",
       "      <td>...</td>\n",
       "      <td>...</td>\n",
       "    </tr>\n",
       "    <tr>\n",
       "      <th>9995</th>\n",
       "      <td>9996</td>\n",
       "      <td>15606229</td>\n",
       "      <td>Obijiaku</td>\n",
       "      <td>771</td>\n",
       "      <td>France</td>\n",
       "      <td>Male</td>\n",
       "      <td>39</td>\n",
       "      <td>5.0</td>\n",
       "      <td>0.00</td>\n",
       "      <td>2</td>\n",
       "      <td>1</td>\n",
       "      <td>0</td>\n",
       "      <td>96270.64</td>\n",
       "      <td>0</td>\n",
       "    </tr>\n",
       "    <tr>\n",
       "      <th>9996</th>\n",
       "      <td>9997</td>\n",
       "      <td>15569892</td>\n",
       "      <td>Johnstone</td>\n",
       "      <td>516</td>\n",
       "      <td>France</td>\n",
       "      <td>Male</td>\n",
       "      <td>35</td>\n",
       "      <td>10.0</td>\n",
       "      <td>57369.61</td>\n",
       "      <td>1</td>\n",
       "      <td>1</td>\n",
       "      <td>1</td>\n",
       "      <td>101699.77</td>\n",
       "      <td>0</td>\n",
       "    </tr>\n",
       "    <tr>\n",
       "      <th>9997</th>\n",
       "      <td>9998</td>\n",
       "      <td>15584532</td>\n",
       "      <td>Liu</td>\n",
       "      <td>709</td>\n",
       "      <td>France</td>\n",
       "      <td>Female</td>\n",
       "      <td>36</td>\n",
       "      <td>7.0</td>\n",
       "      <td>0.00</td>\n",
       "      <td>1</td>\n",
       "      <td>0</td>\n",
       "      <td>1</td>\n",
       "      <td>42085.58</td>\n",
       "      <td>1</td>\n",
       "    </tr>\n",
       "    <tr>\n",
       "      <th>9998</th>\n",
       "      <td>9999</td>\n",
       "      <td>15682355</td>\n",
       "      <td>Sabbatini</td>\n",
       "      <td>772</td>\n",
       "      <td>Germany</td>\n",
       "      <td>Male</td>\n",
       "      <td>42</td>\n",
       "      <td>3.0</td>\n",
       "      <td>75075.31</td>\n",
       "      <td>2</td>\n",
       "      <td>1</td>\n",
       "      <td>0</td>\n",
       "      <td>92888.52</td>\n",
       "      <td>1</td>\n",
       "    </tr>\n",
       "    <tr>\n",
       "      <th>9999</th>\n",
       "      <td>10000</td>\n",
       "      <td>15628319</td>\n",
       "      <td>Walker</td>\n",
       "      <td>792</td>\n",
       "      <td>France</td>\n",
       "      <td>Female</td>\n",
       "      <td>28</td>\n",
       "      <td>NaN</td>\n",
       "      <td>130142.79</td>\n",
       "      <td>1</td>\n",
       "      <td>1</td>\n",
       "      <td>0</td>\n",
       "      <td>38190.78</td>\n",
       "      <td>0</td>\n",
       "    </tr>\n",
       "  </tbody>\n",
       "</table>\n",
       "<p>10000 rows × 14 columns</p>\n",
       "</div>"
      ],
      "text/plain": [
       "      RowNumber  CustomerId    Surname  CreditScore Geography  Gender  Age  \\\n",
       "0             1    15634602   Hargrave          619    France  Female   42   \n",
       "1             2    15647311       Hill          608     Spain  Female   41   \n",
       "2             3    15619304       Onio          502    France  Female   42   \n",
       "3             4    15701354       Boni          699    France  Female   39   \n",
       "4             5    15737888   Mitchell          850     Spain  Female   43   \n",
       "...         ...         ...        ...          ...       ...     ...  ...   \n",
       "9995       9996    15606229   Obijiaku          771    France    Male   39   \n",
       "9996       9997    15569892  Johnstone          516    France    Male   35   \n",
       "9997       9998    15584532        Liu          709    France  Female   36   \n",
       "9998       9999    15682355  Sabbatini          772   Germany    Male   42   \n",
       "9999      10000    15628319     Walker          792    France  Female   28   \n",
       "\n",
       "      Tenure    Balance  NumOfProducts  HasCrCard  IsActiveMember  \\\n",
       "0        2.0       0.00              1          1               1   \n",
       "1        1.0   83807.86              1          0               1   \n",
       "2        8.0  159660.80              3          1               0   \n",
       "3        1.0       0.00              2          0               0   \n",
       "4        2.0  125510.82              1          1               1   \n",
       "...      ...        ...            ...        ...             ...   \n",
       "9995     5.0       0.00              2          1               0   \n",
       "9996    10.0   57369.61              1          1               1   \n",
       "9997     7.0       0.00              1          0               1   \n",
       "9998     3.0   75075.31              2          1               0   \n",
       "9999     NaN  130142.79              1          1               0   \n",
       "\n",
       "      EstimatedSalary  Exited  \n",
       "0           101348.88       1  \n",
       "1           112542.58       0  \n",
       "2           113931.57       1  \n",
       "3            93826.63       0  \n",
       "4            79084.10       0  \n",
       "...               ...     ...  \n",
       "9995         96270.64       0  \n",
       "9996        101699.77       0  \n",
       "9997         42085.58       1  \n",
       "9998         92888.52       1  \n",
       "9999         38190.78       0  \n",
       "\n",
       "[10000 rows x 14 columns]"
      ]
     },
     "execution_count": 5,
     "metadata": {},
     "output_type": "execute_result"
    }
   ],
   "source": [
    "data"
   ]
  },
  {
   "cell_type": "markdown",
   "metadata": {},
   "source": [
    "Посмотрим на первые 45 стпрочек таблицсы, проведем визуальный анализ."
   ]
  },
  {
   "cell_type": "code",
   "execution_count": null,
   "metadata": {},
   "outputs": [],
   "source": [
    "data.head(45)"
   ]
  },
  {
   "cell_type": "markdown",
   "metadata": {},
   "source": [
    "Посмотрим общию информацию и данных."
   ]
  },
  {
   "cell_type": "code",
   "execution_count": null,
   "metadata": {},
   "outputs": [],
   "source": [
    "data.info()"
   ]
  },
  {
   "cell_type": "markdown",
   "metadata": {},
   "source": [
    "Проверим на пропуски в столбцах."
   ]
  },
  {
   "cell_type": "code",
   "execution_count": null,
   "metadata": {},
   "outputs": [],
   "source": [
    "data.isna().sum()"
   ]
  },
  {
   "cell_type": "markdown",
   "metadata": {},
   "source": [
    "В столбце Tenure(сколько лет человек является клиентом банка) 909 пропусков. Посмотрим\n",
    "на эти строчки, чтобы предположить причину пропусков."
   ]
  },
  {
   "cell_type": "code",
   "execution_count": null,
   "metadata": {
    "scrolled": true
   },
   "outputs": [],
   "source": [
    "data[data['Tenure'].isna()].head(50)"
   ]
  },
  {
   "cell_type": "markdown",
   "metadata": {},
   "source": [
    "Может быть есть какая то взазь пропусков с уходом клиента из банка. Проверим,\n",
    "если будет ли явный пререкос в данных."
   ]
  },
  {
   "cell_type": "code",
   "execution_count": null,
   "metadata": {},
   "outputs": [],
   "source": [
    "data.loc[(data['Exited']==1)& (data['Tenure'].isna())].count()"
   ]
  },
  {
   "cell_type": "markdown",
   "metadata": {},
   "source": [
    "Особых закономерностей первым осмотром не выявленно, связи\n",
    "по пропускам и уход квлиента из банка не обнаружено, примерно 9%\n",
    "ухода клиентов (183)   имеют пропуски в столбце Tenure и примерно\n",
    "9% всей таблицы имеют пропуски в стлбце  Tenure. Исходя из этого\n",
    "можно предположить сто главный признак не связан с уходом клиента\n",
    "из банка. Заменим пропуски на медианное значение этого столбца."
   ]
  },
  {
   "cell_type": "code",
   "execution_count": null,
   "metadata": {},
   "outputs": [],
   "source": [
    "data['Tenure'] = data['Tenure'].fillna(data['Tenure'].median())"
   ]
  },
  {
   "cell_type": "code",
   "execution_count": 9,
   "metadata": {},
   "outputs": [
    {
     "data": {
      "text/plain": [
       "RowNumber          0\n",
       "CustomerId         0\n",
       "Surname            0\n",
       "CreditScore        0\n",
       "Geography          0\n",
       "Gender             0\n",
       "Age                0\n",
       "Tenure             0\n",
       "Balance            0\n",
       "NumOfProducts      0\n",
       "HasCrCard          0\n",
       "IsActiveMember     0\n",
       "EstimatedSalary    0\n",
       "Exited             0\n",
       "dtype: int64"
      ]
     },
     "execution_count": 9,
     "metadata": {},
     "output_type": "execute_result"
    }
   ],
   "source": [
    "data.isna().sum()"
   ]
  },
  {
   "cell_type": "markdown",
   "metadata": {},
   "source": [
    "Проверим нет ли выбросов в столбцах: Balance, CreditScore, Age, EstimatedSalary, Tenure."
   ]
  },
  {
   "cell_type": "code",
   "execution_count": 10,
   "metadata": {},
   "outputs": [
    {
     "data": {
      "text/plain": [
       "250898.09"
      ]
     },
     "execution_count": 10,
     "metadata": {},
     "output_type": "execute_result"
    }
   ],
   "source": [
    "data['Balance'].max()"
   ]
  },
  {
   "cell_type": "code",
   "execution_count": 11,
   "metadata": {},
   "outputs": [
    {
     "data": {
      "text/plain": [
       "0.0"
      ]
     },
     "execution_count": 11,
     "metadata": {},
     "output_type": "execute_result"
    }
   ],
   "source": [
    "data['Balance'].min()"
   ]
  },
  {
   "cell_type": "code",
   "execution_count": 12,
   "metadata": {},
   "outputs": [
    {
     "data": {
      "text/plain": [
       "10.0"
      ]
     },
     "execution_count": 12,
     "metadata": {},
     "output_type": "execute_result"
    }
   ],
   "source": [
    "data['Tenure'].max()"
   ]
  },
  {
   "cell_type": "code",
   "execution_count": 13,
   "metadata": {},
   "outputs": [
    {
     "data": {
      "text/plain": [
       "0.0"
      ]
     },
     "execution_count": 13,
     "metadata": {},
     "output_type": "execute_result"
    }
   ],
   "source": [
    "data['Tenure'].min()"
   ]
  },
  {
   "cell_type": "code",
   "execution_count": 14,
   "metadata": {},
   "outputs": [
    {
     "data": {
      "text/plain": [
       "850"
      ]
     },
     "execution_count": 14,
     "metadata": {},
     "output_type": "execute_result"
    }
   ],
   "source": [
    "data['CreditScore'].max()"
   ]
  },
  {
   "cell_type": "code",
   "execution_count": 15,
   "metadata": {},
   "outputs": [
    {
     "data": {
      "text/plain": [
       "350"
      ]
     },
     "execution_count": 15,
     "metadata": {},
     "output_type": "execute_result"
    }
   ],
   "source": [
    "data['CreditScore'].min()"
   ]
  },
  {
   "cell_type": "code",
   "execution_count": 16,
   "metadata": {},
   "outputs": [
    {
     "data": {
      "text/plain": [
       "92"
      ]
     },
     "execution_count": 16,
     "metadata": {},
     "output_type": "execute_result"
    }
   ],
   "source": [
    "data['Age'].max()"
   ]
  },
  {
   "cell_type": "code",
   "execution_count": 17,
   "metadata": {},
   "outputs": [
    {
     "data": {
      "text/plain": [
       "18"
      ]
     },
     "execution_count": 17,
     "metadata": {},
     "output_type": "execute_result"
    }
   ],
   "source": [
    "data['Age'].min()"
   ]
  },
  {
   "cell_type": "code",
   "execution_count": 18,
   "metadata": {},
   "outputs": [
    {
     "data": {
      "text/plain": [
       "199992.48"
      ]
     },
     "execution_count": 18,
     "metadata": {},
     "output_type": "execute_result"
    }
   ],
   "source": [
    "data['EstimatedSalary'].max()"
   ]
  },
  {
   "cell_type": "code",
   "execution_count": 19,
   "metadata": {},
   "outputs": [
    {
     "data": {
      "text/plain": [
       "11.58"
      ]
     },
     "execution_count": 19,
     "metadata": {},
     "output_type": "execute_result"
    }
   ],
   "source": [
    "data['EstimatedSalary'].min()"
   ]
  },
  {
   "cell_type": "markdown",
   "metadata": {},
   "source": [
    "Проверим уникальные значения столбца с главным признаком."
   ]
  },
  {
   "cell_type": "code",
   "execution_count": 20,
   "metadata": {},
   "outputs": [
    {
     "data": {
      "text/plain": [
       "array([1, 0])"
      ]
     },
     "execution_count": 20,
     "metadata": {},
     "output_type": "execute_result"
    }
   ],
   "source": [
    "data['Exited'].unique()"
   ]
  },
  {
   "cell_type": "markdown",
   "metadata": {},
   "source": [
    "Удалим столбцы с фамилией, номером клиента, и унткальным индетификатором клиента\n",
    "т.к. они могут не правильно повлиять на обучение модели."
   ]
  },
  {
   "cell_type": "code",
   "execution_count": 21,
   "metadata": {},
   "outputs": [],
   "source": [
    "data = data.drop(['RowNumber','Surname','CustomerId'], axis=1)"
   ]
  },
  {
   "cell_type": "markdown",
   "metadata": {},
   "source": [
    "Столбцы пол с страна проживания(Geography, Gender) нербходимо преобразовать \n",
    "методом get_dummies() прямое кодирование, с удалением первого столбца"
   ]
  },
  {
   "cell_type": "code",
   "execution_count": 22,
   "metadata": {},
   "outputs": [],
   "source": [
    "var_categorical = ['Geography', 'Gender']\n",
    "data = pd.get_dummies(data, drop_first=True, columns=var_categorical)"
   ]
  },
  {
   "cell_type": "markdown",
   "metadata": {},
   "source": [
    "Посмотрим на первые пять строк таблицы."
   ]
  },
  {
   "cell_type": "code",
   "execution_count": 23,
   "metadata": {
    "scrolled": true
   },
   "outputs": [
    {
     "data": {
      "text/html": [
       "<div>\n",
       "<style scoped>\n",
       "    .dataframe tbody tr th:only-of-type {\n",
       "        vertical-align: middle;\n",
       "    }\n",
       "\n",
       "    .dataframe tbody tr th {\n",
       "        vertical-align: top;\n",
       "    }\n",
       "\n",
       "    .dataframe thead th {\n",
       "        text-align: right;\n",
       "    }\n",
       "</style>\n",
       "<table border=\"1\" class=\"dataframe\">\n",
       "  <thead>\n",
       "    <tr style=\"text-align: right;\">\n",
       "      <th></th>\n",
       "      <th>CreditScore</th>\n",
       "      <th>Age</th>\n",
       "      <th>Tenure</th>\n",
       "      <th>Balance</th>\n",
       "      <th>NumOfProducts</th>\n",
       "      <th>HasCrCard</th>\n",
       "      <th>IsActiveMember</th>\n",
       "      <th>EstimatedSalary</th>\n",
       "      <th>Exited</th>\n",
       "      <th>Geography_Germany</th>\n",
       "      <th>Geography_Spain</th>\n",
       "      <th>Gender_Male</th>\n",
       "    </tr>\n",
       "  </thead>\n",
       "  <tbody>\n",
       "    <tr>\n",
       "      <th>0</th>\n",
       "      <td>619</td>\n",
       "      <td>42</td>\n",
       "      <td>2.0</td>\n",
       "      <td>0.00</td>\n",
       "      <td>1</td>\n",
       "      <td>1</td>\n",
       "      <td>1</td>\n",
       "      <td>101348.88</td>\n",
       "      <td>1</td>\n",
       "      <td>0</td>\n",
       "      <td>0</td>\n",
       "      <td>0</td>\n",
       "    </tr>\n",
       "    <tr>\n",
       "      <th>1</th>\n",
       "      <td>608</td>\n",
       "      <td>41</td>\n",
       "      <td>1.0</td>\n",
       "      <td>83807.86</td>\n",
       "      <td>1</td>\n",
       "      <td>0</td>\n",
       "      <td>1</td>\n",
       "      <td>112542.58</td>\n",
       "      <td>0</td>\n",
       "      <td>0</td>\n",
       "      <td>1</td>\n",
       "      <td>0</td>\n",
       "    </tr>\n",
       "    <tr>\n",
       "      <th>2</th>\n",
       "      <td>502</td>\n",
       "      <td>42</td>\n",
       "      <td>8.0</td>\n",
       "      <td>159660.80</td>\n",
       "      <td>3</td>\n",
       "      <td>1</td>\n",
       "      <td>0</td>\n",
       "      <td>113931.57</td>\n",
       "      <td>1</td>\n",
       "      <td>0</td>\n",
       "      <td>0</td>\n",
       "      <td>0</td>\n",
       "    </tr>\n",
       "    <tr>\n",
       "      <th>3</th>\n",
       "      <td>699</td>\n",
       "      <td>39</td>\n",
       "      <td>1.0</td>\n",
       "      <td>0.00</td>\n",
       "      <td>2</td>\n",
       "      <td>0</td>\n",
       "      <td>0</td>\n",
       "      <td>93826.63</td>\n",
       "      <td>0</td>\n",
       "      <td>0</td>\n",
       "      <td>0</td>\n",
       "      <td>0</td>\n",
       "    </tr>\n",
       "    <tr>\n",
       "      <th>4</th>\n",
       "      <td>850</td>\n",
       "      <td>43</td>\n",
       "      <td>2.0</td>\n",
       "      <td>125510.82</td>\n",
       "      <td>1</td>\n",
       "      <td>1</td>\n",
       "      <td>1</td>\n",
       "      <td>79084.10</td>\n",
       "      <td>0</td>\n",
       "      <td>0</td>\n",
       "      <td>1</td>\n",
       "      <td>0</td>\n",
       "    </tr>\n",
       "  </tbody>\n",
       "</table>\n",
       "</div>"
      ],
      "text/plain": [
       "   CreditScore  Age  Tenure    Balance  NumOfProducts  HasCrCard  \\\n",
       "0          619   42     2.0       0.00              1          1   \n",
       "1          608   41     1.0   83807.86              1          0   \n",
       "2          502   42     8.0  159660.80              3          1   \n",
       "3          699   39     1.0       0.00              2          0   \n",
       "4          850   43     2.0  125510.82              1          1   \n",
       "\n",
       "   IsActiveMember  EstimatedSalary  Exited  Geography_Germany  \\\n",
       "0               1        101348.88       1                  0   \n",
       "1               1        112542.58       0                  0   \n",
       "2               0        113931.57       1                  0   \n",
       "3               0         93826.63       0                  0   \n",
       "4               1         79084.10       0                  0   \n",
       "\n",
       "   Geography_Spain  Gender_Male  \n",
       "0                0            0  \n",
       "1                1            0  \n",
       "2                0            0  \n",
       "3                0            0  \n",
       "4                1            0  "
      ]
     },
     "execution_count": 23,
     "metadata": {},
     "output_type": "execute_result"
    }
   ],
   "source": [
    "data.head()"
   ]
  },
  {
   "cell_type": "code",
   "execution_count": 6,
   "metadata": {},
   "outputs": [
    {
     "data": {
      "text/plain": [
       "RowNumber            0\n",
       "CustomerId           0\n",
       "Surname              0\n",
       "CreditScore          0\n",
       "Geography            0\n",
       "Gender               0\n",
       "Age                  0\n",
       "Tenure             909\n",
       "Balance              0\n",
       "NumOfProducts        0\n",
       "HasCrCard            0\n",
       "IsActiveMember       0\n",
       "EstimatedSalary      0\n",
       "Exited               0\n",
       "dtype: int64"
      ]
     },
     "execution_count": 6,
     "metadata": {},
     "output_type": "execute_result"
    }
   ],
   "source": [
    "data.isna().sum()"
   ]
  },
  {
   "cell_type": "markdown",
   "metadata": {},
   "source": [
    "Разделим таблицу на три выборки, тренировачную, валидационную и тестовую.\n",
    "Соотношением 3:1:1"
   ]
  },
  {
   "cell_type": "code",
   "execution_count": 25,
   "metadata": {},
   "outputs": [],
   "source": [
    "features = data.drop(columns=['Exited'], axis = 1)\n",
    "target = data['Exited']\n",
    " \n",
    "features_train, features_in, target_train, target_in = train_test_split(\\\n",
    "    features, target, test_size=0.4, random_state=12345)\n",
    " \n",
    "features_valid, features_test, target_valid, target_test = train_test_split(\\\n",
    "    features_in, target_in, test_size=0.5, random_state=12345)"
   ]
  },
  {
   "cell_type": "markdown",
   "metadata": {},
   "source": [
    "Проверим результат разделения таблицы методом shape."
   ]
  },
  {
   "cell_type": "code",
   "execution_count": 26,
   "metadata": {},
   "outputs": [
    {
     "data": {
      "text/plain": [
       "((6000, 11), (6000,), (2000, 11), (2000,), (2000, 11), (2000,))"
      ]
     },
     "execution_count": 26,
     "metadata": {},
     "output_type": "execute_result"
    }
   ],
   "source": [
    "features_train.shape, target_train.shape, features_valid.shape, target_valid.shape, features_test.shape, target_test.shape"
   ]
  },
  {
   "cell_type": "markdown",
   "metadata": {},
   "source": [
    "Проведем маштабирование признаков."
   ]
  },
  {
   "cell_type": "code",
   "execution_count": 27,
   "metadata": {},
   "outputs": [
    {
     "data": {
      "text/html": [
       "<div>\n",
       "<style scoped>\n",
       "    .dataframe tbody tr th:only-of-type {\n",
       "        vertical-align: middle;\n",
       "    }\n",
       "\n",
       "    .dataframe tbody tr th {\n",
       "        vertical-align: top;\n",
       "    }\n",
       "\n",
       "    .dataframe thead th {\n",
       "        text-align: right;\n",
       "    }\n",
       "</style>\n",
       "<table border=\"1\" class=\"dataframe\">\n",
       "  <thead>\n",
       "    <tr style=\"text-align: right;\">\n",
       "      <th></th>\n",
       "      <th>CreditScore</th>\n",
       "      <th>Age</th>\n",
       "      <th>Tenure</th>\n",
       "      <th>Balance</th>\n",
       "      <th>NumOfProducts</th>\n",
       "      <th>HasCrCard</th>\n",
       "      <th>IsActiveMember</th>\n",
       "      <th>EstimatedSalary</th>\n",
       "      <th>Geography_Germany</th>\n",
       "      <th>Geography_Spain</th>\n",
       "      <th>Gender_Male</th>\n",
       "    </tr>\n",
       "  </thead>\n",
       "  <tbody>\n",
       "    <tr>\n",
       "      <th>7479</th>\n",
       "      <td>-0.886751</td>\n",
       "      <td>-0.373192</td>\n",
       "      <td>1.082277</td>\n",
       "      <td>1.232271</td>\n",
       "      <td>1</td>\n",
       "      <td>1</td>\n",
       "      <td>0</td>\n",
       "      <td>-0.187705</td>\n",
       "      <td>0</td>\n",
       "      <td>1</td>\n",
       "      <td>1</td>\n",
       "    </tr>\n",
       "    <tr>\n",
       "      <th>3411</th>\n",
       "      <td>0.608663</td>\n",
       "      <td>-0.183385</td>\n",
       "      <td>1.082277</td>\n",
       "      <td>0.600563</td>\n",
       "      <td>1</td>\n",
       "      <td>0</td>\n",
       "      <td>0</td>\n",
       "      <td>-0.333945</td>\n",
       "      <td>0</td>\n",
       "      <td>0</td>\n",
       "      <td>0</td>\n",
       "    </tr>\n",
       "    <tr>\n",
       "      <th>6027</th>\n",
       "      <td>2.052152</td>\n",
       "      <td>0.480939</td>\n",
       "      <td>-0.737696</td>\n",
       "      <td>1.027098</td>\n",
       "      <td>2</td>\n",
       "      <td>0</td>\n",
       "      <td>1</td>\n",
       "      <td>1.503095</td>\n",
       "      <td>1</td>\n",
       "      <td>0</td>\n",
       "      <td>1</td>\n",
       "    </tr>\n",
       "    <tr>\n",
       "      <th>1247</th>\n",
       "      <td>-1.457915</td>\n",
       "      <td>-1.417129</td>\n",
       "      <td>0.354288</td>\n",
       "      <td>-1.233163</td>\n",
       "      <td>2</td>\n",
       "      <td>1</td>\n",
       "      <td>0</td>\n",
       "      <td>-1.071061</td>\n",
       "      <td>0</td>\n",
       "      <td>0</td>\n",
       "      <td>1</td>\n",
       "    </tr>\n",
       "    <tr>\n",
       "      <th>3716</th>\n",
       "      <td>0.130961</td>\n",
       "      <td>-1.132419</td>\n",
       "      <td>-1.101690</td>\n",
       "      <td>1.140475</td>\n",
       "      <td>1</td>\n",
       "      <td>0</td>\n",
       "      <td>0</td>\n",
       "      <td>1.524268</td>\n",
       "      <td>1</td>\n",
       "      <td>0</td>\n",
       "      <td>0</td>\n",
       "    </tr>\n",
       "  </tbody>\n",
       "</table>\n",
       "</div>"
      ],
      "text/plain": [
       "      CreditScore       Age    Tenure   Balance  NumOfProducts  HasCrCard  \\\n",
       "7479    -0.886751 -0.373192  1.082277  1.232271              1          1   \n",
       "3411     0.608663 -0.183385  1.082277  0.600563              1          0   \n",
       "6027     2.052152  0.480939 -0.737696  1.027098              2          0   \n",
       "1247    -1.457915 -1.417129  0.354288 -1.233163              2          1   \n",
       "3716     0.130961 -1.132419 -1.101690  1.140475              1          0   \n",
       "\n",
       "      IsActiveMember  EstimatedSalary  Geography_Germany  Geography_Spain  \\\n",
       "7479               0        -0.187705                  0                1   \n",
       "3411               0        -0.333945                  0                0   \n",
       "6027               1         1.503095                  1                0   \n",
       "1247               0        -1.071061                  0                0   \n",
       "3716               0         1.524268                  1                0   \n",
       "\n",
       "      Gender_Male  \n",
       "7479            1  \n",
       "3411            0  \n",
       "6027            1  \n",
       "1247            1  \n",
       "3716            0  "
      ]
     },
     "execution_count": 27,
     "metadata": {},
     "output_type": "execute_result"
    }
   ],
   "source": [
    "numeric = [ 'CreditScore', 'Age', 'Tenure', 'Balance', 'EstimatedSalary']\n",
    "scaler = StandardScaler()\n",
    "scaler.fit(features_train[numeric])\n",
    "features_train[numeric] = scaler.transform(features_train[numeric])\n",
    "features_valid[numeric] = scaler.transform(features_valid[numeric])\n",
    "features_test[numeric] = scaler.transform(features_test[numeric])\n",
    "pd.options.mode.chained_assignment = None\n",
    "features_train.head()"
   ]
  },
  {
   "cell_type": "markdown",
   "metadata": {},
   "source": [
    "## Исследование задачи"
   ]
  },
  {
   "cell_type": "markdown",
   "metadata": {},
   "source": [
    "Необходимо построить модель для предсказания уйдёт клиент из банка в ближайшее \n",
    "время или нет. Распологаемые данные  о поведении клиентов и расторжении договоров\n",
    "с банком, практически подготовленны для построения оптимальной модели.\n",
    "Необходимо довести метрику F1 до 0.59. После чего проверим ее F1-меру на тестовой\n",
    "выборке.\n",
    "Иследуем три модели: Случайный лес, Дерево решений, логистическую регрессию с\n",
    "изменением гиперпараметров."
   ]
  },
  {
   "cell_type": "markdown",
   "metadata": {},
   "source": [
    "Так как в дальнейшем понадобится вычислять метрику auc_roc (площадь под ROC-кривой),\n",
    "напишем функцию \"auc_roc\"  при обращении к которой данная метрика будет  вычисляться\n",
    "автоматичечки с помощью передачи параметров(model, признаки, целевой признак)."
   ]
  },
  {
   "cell_type": "code",
   "execution_count": 40,
   "metadata": {},
   "outputs": [],
   "source": [
    "def auc_roc(model, features, target):\n",
    "    probabilities = model.predict_proba(features)\n",
    "    probabilities_one = probabilities[:, 1]\n",
    "    auc_roc = roc_auc_score(target, probabilities_one)\n",
    "    return 'Площадь под ROC-кривой ', auc_roc"
   ]
  },
  {
   "cell_type": "code",
   "execution_count": 34,
   "metadata": {},
   "outputs": [
    {
     "name": "stdout",
     "output_type": "stream",
     "text": [
      "F1 наилучшей модели на валидационной выборке: 0.5696969696969697\n",
      "Глубина:  6\n"
     ]
    },
    {
     "data": {
      "text/plain": [
       "('Площадь под ROC-кривой ', 0.8164631712023421)"
      ]
     },
     "execution_count": 34,
     "metadata": {},
     "output_type": "execute_result"
    }
   ],
   "source": [
    "model = None\n",
    "best_result = 0\n",
    "best_result1 = 0\n",
    "for i in range(1,21):\n",
    "    model = DecisionTreeClassifier(max_depth = i, random_state=12345)\n",
    "    model.fit(features_train, target_train)\n",
    "    p = model.predict(features_valid)\n",
    "    best_result = f1_score(target_valid, p)\n",
    "    if best_result1 < best_result:\n",
    "        best_result1 = best_result\n",
    "        depth = i\n",
    "        f1 = best_result\n",
    "        mod_roc = model\n",
    "print(\"F1 наилучшей модели на валидационной выборке:\", f1)\n",
    "print('Глубина: ', depth)\n",
    "\n",
    "\n",
    "auc_roc(mod_roc, features_valid, target_valid)"
   ]
  },
  {
   "cell_type": "code",
   "execution_count": 36,
   "metadata": {},
   "outputs": [
    {
     "name": "stdout",
     "output_type": "stream",
     "text": [
      "F1 наилучшей модели на валидационной выборке: 0.5999999999999999 9 14\n",
      "Глубина:  14\n",
      "Количество деревьев:  9\n",
      "Площадь под ROC-кривой  0.8428870849690597\n"
     ]
    }
   ],
   "source": [
    "best_model = None\n",
    "best_result = 0;best_est=0\n",
    "for i in range(1,16):    \n",
    "    for est in range(1, 81):\n",
    "        model = RandomForestClassifier(random_state=12345, max_depth = i,  n_estimators=est)\n",
    "        model.fit(features_train, target_train)\n",
    "        predictions_valid = model.predict(features_valid)\n",
    "        result = f1_score(target_valid, predictions_valid)\n",
    "        if result > best_result:\n",
    "            best_model = model\n",
    "            best_result = result\n",
    "            best_est = est\n",
    "            depth = i\n",
    "print(\"F1 наилучшей модели на валидационной выборке:\", best_result, best_est, depth)\n",
    "print('Глубина: ', depth)\n",
    "print('Количество деревьев: ', best_est)\n",
    "probabilities_valid = model.predict_proba(features_valid)\n",
    "probabilities_one_valid = probabilities_valid[:, 1]\n",
    "auc_roc = roc_auc_score(target_valid, probabilities_one_valid)\n",
    "print('Площадь под ROC-кривой ',auc_roc)"
   ]
  },
  {
   "cell_type": "code",
   "execution_count": 37,
   "metadata": {},
   "outputs": [
    {
     "name": "stdout",
     "output_type": "stream",
     "text": [
      "F1 модели логистическая регрессия равно:  0.33108108108108103\n"
     ]
    }
   ],
   "source": [
    "model = LogisticRegression(random_state=12345)\n",
    "model.fit(features_train, target_train)\n",
    "predictions_valid = model.predict(features_valid)\n",
    "result = f1_score(target_valid, predictions_valid)\n",
    "print('F1 модели логистическая регрессия равно: ', result)"
   ]
  },
  {
   "cell_type": "markdown",
   "metadata": {},
   "source": [
    "Вывод:\n",
    "Было исследованно три модели.\n",
    "Как и следовало ожидать метрика F1 модели случайный лес отказалась самая высокая\n",
    "даже чуть выше заданного параметра 0.59.\n",
    "Значение наибольшей метрики F1 модели случайный лес равна 0.59999 при гиперпара-\n",
    "метрах: глубина - 14, количество деревьев - 9.\n",
    "Модель  дерево  решений  имеет  показатели  F1  примерно 0.57 при глубине 6.\n",
    "Модель  логистическая регрессия  имеет  показатели  F1 = 0.331."
   ]
  },
  {
   "cell_type": "markdown",
   "metadata": {},
   "source": [
    "Тестируем модель с наилучшими гитерпараметрами."
   ]
  },
  {
   "cell_type": "markdown",
   "metadata": {},
   "source": [
    "Вывод:\n",
    "Тестирование модели с наилучшими гиперпараметрами показало не достаточный\n",
    "резуальтат 0.54. Для выполнения задания необходимо добиться показателя F1\n",
    "не ниже 0.59."
   ]
  },
  {
   "cell_type": "markdown",
   "metadata": {},
   "source": [
    "## Исследование моделей с применением методик борьбы с дисбалансом классов"
   ]
  },
  {
   "cell_type": "markdown",
   "metadata": {},
   "source": [
    "**Для борьбы с дисбалансом класса будем использовать\n",
    " \n",
    "1) Метод взвешавания классов - class_weight.\n",
    "2) Технику upsampling. Создадим функцию upsample(), передадим в нее три \n",
    "   аргумента features(тренировочная выборка), target(целевой признак\n",
    "   тренировочной выборки), и  repeat(число на которое умножается положительный\n",
    "   класс тренировочной выборки)"
   ]
  },
  {
   "cell_type": "code",
   "execution_count": 45,
   "metadata": {},
   "outputs": [],
   "source": [
    "def upsample(features, target, repeat):\n",
    "    features_zeros = features[target == 0]\n",
    "    features_ones = features[target == 1]\n",
    "    target_zeros = target[target == 0]\n",
    "    target_ones = target[target == 1]\n",
    "\n",
    "    features_upsampled = pd.concat([features_zeros] + [features_ones] * repeat)\n",
    "    target_upsampled = pd.concat([target_zeros] + [target_ones] * repeat)\n",
    "    \n",
    "    features_upsampled, target_upsampled = shuffle(\n",
    "        features_upsampled, target_upsampled, random_state=12345)\n",
    "    \n",
    "    return features_upsampled, target_upsampled"
   ]
  },
  {
   "cell_type": "markdown",
   "metadata": {},
   "source": []
  },
  {
   "cell_type": "markdown",
   "metadata": {},
   "source": [
    "Боремся с дисбалансом кдасса, т.к. маквсимальное F1 будет при балансе классов\n",
    "1:1 подставим число умножения выборки класса равное 4."
   ]
  },
  {
   "cell_type": "code",
   "execution_count": 54,
   "metadata": {},
   "outputs": [
    {
     "name": "stdout",
     "output_type": "stream",
     "text": [
      "F1 на тестовой выборке равен:  0.5992779783393503\n"
     ]
    }
   ],
   "source": [
    "features_upsampled, target_upsampled = upsample(features_train, target_train, 4)\n",
    "model = RandomForestClassifier(random_state=12345, max_depth = 14, n_estimators=9)\n",
    "model.fit(features_upsampled, target_upsampled)\n",
    "predicted_valid = model.predict(features_valid)\n",
    "print(\"F1 на валидционной выборке равен: \",f1_score(target_valid, predicted_valid))\n"
   ]
  },
  {
   "cell_type": "markdown",
   "metadata": {},
   "source": [
    "При применение метода class_weigth вычислим налучшие гиперпараметры."
   ]
  },
  {
   "cell_type": "code",
   "execution_count": 62,
   "metadata": {},
   "outputs": [
    {
     "name": "stdout",
     "output_type": "stream",
     "text": [
      "F1 наилучшей модели на валидационной выборке: 0.6292906178489703 60 9\n",
      "Глубина:  9\n",
      "Количество деревьев:  60\n"
     ]
    }
   ],
   "source": [
    "best_model = None\n",
    "best_result = 0;best_est=0\n",
    "for i in range(1,16):    \n",
    "    for est in range(1, 81):\n",
    "        model = RandomForestClassifier(random_state=12345, max_depth = i,  n_estimators=est, class_weight='balanced') # обучите модель с заданным количеством деревьев\n",
    "        model.fit(features_train, target_train)\n",
    "        predictions_valid = model.predict(features_valid)# обучите модель на тренировочной выборке\n",
    "        result = f1_score(target_valid, predictions_valid) # посчитайте качество модели на валидационной выборке\n",
    "        if result > best_result:\n",
    "            best_model = model# сохраните наилучшую модель\n",
    "            best_result = result#  сохраните наилучшее значение метрики accuracy на валидационных данных\n",
    "            best_est = est\n",
    "            depth = i\n",
    "print(\"F1 наилучшей модели на валидационной выборке:\", best_result, best_est, depth)\n",
    "print('Глубина: ', depth)\n",
    "print('Количество деревьев: ', best_est)\n"
   ]
  },
  {
   "cell_type": "markdown",
   "metadata": {},
   "source": []
  },
  {
   "cell_type": "markdown",
   "metadata": {},
   "source": [
    "Проверим на тестовой выборке."
   ]
  },
  {
   "cell_type": "markdown",
   "metadata": {},
   "source": [
    "## Тестируем модели с наилучшими гиперпараметрами."
   ]
  },
  {
   "cell_type": "markdown",
   "metadata": {},
   "source": [
    "Тестируем модель на тестовой тыборке. Сначала используем технику upsampled,\n",
    "затем применим метод class_weight(сбалансированность классов)."
   ]
  },
  {
   "cell_type": "code",
   "execution_count": 64,
   "metadata": {},
   "outputs": [
    {
     "name": "stdout",
     "output_type": "stream",
     "text": [
      "F1 на тестовой выборке равен:  0.6070686070686071\n"
     ]
    },
    {
     "data": {
      "text/plain": [
       "('Площадь под ROC-кривой ', 0.8527158278504088)"
      ]
     },
     "execution_count": 64,
     "metadata": {},
     "output_type": "execute_result"
    }
   ],
   "source": [
    "features_upsampled, target_upsampled = upsample(features_train, target_train, 4)\n",
    "model = RandomForestClassifier(random_state=12345, max_depth = 9, n_estimators=60)\n",
    "model.fit(features_upsampled, target_upsampled)\n",
    "predicted_test = model.predict(features_test)\n",
    "print(\"F1 на тестовой выборке равен: \",f1_score(target_test, predicted_test))\n",
    "auc_roc(model, features_test, target_test)"
   ]
  },
  {
   "cell_type": "code",
   "execution_count": 59,
   "metadata": {},
   "outputs": [
    {
     "name": "stdout",
     "output_type": "stream",
     "text": [
      "F1 на тестовой выборке равен:  0.610738255033557\n"
     ]
    },
    {
     "data": {
      "text/plain": [
       "('Площадь под ROC-кривой ', 0.8532495041757174)"
      ]
     },
     "execution_count": 59,
     "metadata": {},
     "output_type": "execute_result"
    }
   ],
   "source": [
    "model = RandomForestClassifier(random_state=12345, max_depth = 9, n_estimators=60, class_weight='balanced')\n",
    "model.fit(features_train, target_train)\n",
    "predicted_test = model.predict(features_test)\n",
    "print(\"F1 на тестовой выборке равен: \",f1_score(target_test, predicted_test))\n",
    "auc_roc(model, features_test, target_test)"
   ]
  },
  {
   "cell_type": "markdown",
   "metadata": {},
   "source": [
    "Вычислим полноту recall(показатель качества модели, доля охвата моделью из клиентов\n",
    "которые перестанут пользоваться услугами банка)."
   ]
  },
  {
   "cell_type": "code",
   "execution_count": 66,
   "metadata": {},
   "outputs": [
    {
     "data": {
      "text/plain": [
       "0.6903073286052009"
      ]
     },
     "execution_count": 66,
     "metadata": {},
     "output_type": "execute_result"
    }
   ],
   "source": [
    "recall_score(target_test, predicted_test)"
   ]
  },
  {
   "cell_type": "markdown",
   "metadata": {},
   "source": [
    "\"recall \" = 0.69"
   ]
  },
  {
   "cell_type": "markdown",
   "metadata": {},
   "source": [
    "Построим ROC- кривую самой лучшей модели."
   ]
  },
  {
   "cell_type": "code",
   "execution_count": 60,
   "metadata": {},
   "outputs": [],
   "source": [
    "probabilities_test = model.predict_proba(features_test)\n",
    "probabilities_one_test = probabilities_test[:, 1]\n",
    "\n",
    "fpr, tpr, thresholds = roc_curve(target_test, probabilities_one_test)"
   ]
  },
  {
   "cell_type": "code",
   "execution_count": 61,
   "metadata": {},
   "outputs": [
    {
     "data": {
      "image/png": "[encoded data removed]",
      "text/plain": [
       "<Figure size 432x288 with 1 Axes>"
      ]
     },
     "metadata": {
      "needs_background": "light"
     },
     "output_type": "display_data"
    }
   ],
   "source": [
    "plt.figure()\n",
    "plt.plot(fpr,tpr)\n",
    "plt.plot([0, 1], [0, 1], linestyle='--')\n",
    "plt.xlim([0.0, 1.0])\n",
    "plt.ylim([0.0, 1.0])\n",
    "plt.xlabel(\"False Positive Rate\")# < примените функции plt.xlim() и plt.ylim(), чтобы\n",
    "plt.ylabel(\"True Positive Rate\")\n",
    "plt.title('ROC-кривая')#   установить границы осей от 0 до 1 >\n",
    "plt.show()"
   ]
  },
  {
   "cell_type": "markdown",
   "metadata": {},
   "source": [
    "### Вывод:\n",
    "     Из «Бета-Банка» стали уходить клиенты. Каждый месяц. Немного, но заметно.\n",
    "Банковские маркетологи  посчитали: сохранять  текущих  клиентов  дешевле, чем \n",
    "привлекать новых. Нужно спрогнозировать, уйдёт клиент из  банка  в  ближайшее \n",
    "время или нет. Вам предоставлены исторические данные о  поведении  клиентов и \n",
    "расторжении договоров с банком. \n",
    "     Были построины модели для задачи предсказания отказа клиента от банковс-\n",
    "ких услуг «Бета-Банка». \n",
    "Распологаемые данные переработанны. Пропуски в толбце Tenure(сколько лет клиен\n",
    "пользуется услугами банка) на медианное значения этого столбца, данные  чистые\n",
    "без выбросов и авнамалий.\n",
    "   - Было проведенно исследование моделей дерево решений, случайный лес и \n",
    "     логистическая регрессия.\n",
    "   - Самое высокое качество у модели случайный лес(RandomForestClassifier)\n",
    "     с гиперпараметрами n_estimators равным - 60 и max_depth равным 9\n",
    "     метрика F1 = 0.61; auc_roc = 0.85\n",
    "   \n",
    "        \n",
    "Рекомендации бизнесу.\n",
    "Рекомендую: \n",
    "Для предсказания поведения клиента использовать модель случайный лес.\n",
    "Показатель качества этой модели F1 = 0.61(это выше установленного порога для \n",
    "технического задания на 0.2) auc_roc = 0.85 это самые высокие показатели. \n",
    "А также показатель качества recall  почти 70% это говорит о том, что модель предскажет\n",
    "70% клиентов из 100% которые уйдут из банка.\n",
    "Показатели auc_roc и F1 коррелируют между собой, метрика F1 более подхоит в этой\n",
    "задаче т.к. в ней необходима точность прогноза.\n",
    "\n",
    "\n",
    "\n"
   ]
  },
  {
   "cell_type": "markdown",
   "metadata": {},
   "source": [
    "Привет Кирил. Проект я начал делать почти 2 недели назад, накидать код без пояснений\n",
    "давольнотаки быстро, но у меня ни как не выходило 0,62 т.к. когда я начал делать проект\n",
    "в условии задачи было F1 не 0.59 а 0.62. По этому я использовал умножение класов и \n",
    "баланс в месте, хотя это не правильно. В теории не говорили что кодирование надо использовать\n",
    "до разделения выборок"
   ]
  },
  {
   "cell_type": "markdown",
   "metadata": {},
   "source": [
    "## Чек-лист готовности проекта"
   ]
  },
  {
   "cell_type": "markdown",
   "metadata": {},
   "source": [
    "Поставьте 'x' в выполненных пунктах. Далее нажмите Shift+Enter."
   ]
  },
  {
   "cell_type": "markdown",
   "metadata": {},
   "source": [
    "- [x]  Jupyter Notebook открыт\n",
    "- [ ]  Весь код выполняется без ошибок\n",
    "- [ ]  Ячейки с кодом расположены в порядке исполнения\n",
    "- [ ]  Выполнен шаг 1: данные подготовлены\n",
    "- [ ]  Выполнен шаг 2: задача исследована\n",
    "    - [ ]  Исследован баланс классов\n",
    "    - [ ]  Изучены модели без учёта дисбаланса\n",
    "    - [ ]  Написаны выводы по результатам исследования\n",
    "- [ ]  Выполнен шаг 3: учтён дисбаланс\n",
    "    - [ ]  Применено несколько способов борьбы с дисбалансом\n",
    "    - [ ]  Написаны выводы по результатам исследования\n",
    "- [ ]  Выполнен шаг 4: проведено тестирование\n",
    "- [ ]  Удалось достичь *F1*-меры не менее 0.59\n",
    "- [ ]  Исследована метрика *AUC-ROC*"
   ]
  }
 ],
 "metadata": {
  "ExecuteTimeLog": [
   {
    "duration": 1155,
    "start_time": "2023-03-20T13:23:57.049Z"
   },
   {
    "duration": 167,
    "start_time": "2023-03-20T13:23:58.206Z"
   },
   {
    "duration": 19,
    "start_time": "2023-03-20T13:23:58.589Z"
   },
   {
    "duration": 15,
    "start_time": "2023-03-20T13:24:26.163Z"
   },
   {
    "duration": 9,
    "start_time": "2023-03-20T13:25:04.137Z"
   },
   {
    "duration": 11,
    "start_time": "2023-03-20T13:25:47.938Z"
   },
   {
    "duration": 5,
    "start_time": "2023-03-20T13:25:49.216Z"
   },
   {
    "duration": 8,
    "start_time": "2023-03-20T13:25:50.875Z"
   },
   {
    "duration": 4,
    "start_time": "2023-03-20T13:26:24.089Z"
   },
   {
    "duration": 12,
    "start_time": "2023-03-20T13:27:02.955Z"
   },
   {
    "duration": 12,
    "start_time": "2023-03-20T13:27:26.416Z"
   },
   {
    "duration": 5,
    "start_time": "2023-03-20T13:28:27.312Z"
   },
   {
    "duration": 18,
    "start_time": "2023-03-20T13:29:03.663Z"
   },
   {
    "duration": 7,
    "start_time": "2023-03-20T13:30:08.814Z"
   },
   {
    "duration": 29,
    "start_time": "2023-03-20T13:30:48.821Z"
   },
   {
    "duration": 37,
    "start_time": "2023-03-20T16:00:10.290Z"
   },
   {
    "duration": 103,
    "start_time": "2023-03-20T20:20:08.124Z"
   },
   {
    "duration": 65,
    "start_time": "2023-03-21T16:04:10.392Z"
   },
   {
    "duration": 1224,
    "start_time": "2023-03-21T16:04:32.241Z"
   },
   {
    "duration": 190,
    "start_time": "2023-03-21T16:04:33.467Z"
   },
   {
    "duration": 20,
    "start_time": "2023-03-21T16:04:33.659Z"
   },
   {
    "duration": 16,
    "start_time": "2023-03-21T16:04:33.681Z"
   },
   {
    "duration": 10,
    "start_time": "2023-03-21T16:04:33.699Z"
   },
   {
    "duration": 4,
    "start_time": "2023-03-21T16:04:34.881Z"
   },
   {
    "duration": 8,
    "start_time": "2023-03-21T16:04:35.924Z"
   },
   {
    "duration": 5,
    "start_time": "2023-03-21T16:04:38.222Z"
   },
   {
    "duration": 10,
    "start_time": "2023-03-21T16:04:38.779Z"
   },
   {
    "duration": 12,
    "start_time": "2023-03-21T16:04:39.747Z"
   },
   {
    "duration": 2,
    "start_time": "2023-03-21T16:04:49.259Z"
   },
   {
    "duration": 12,
    "start_time": "2023-03-21T16:04:50.756Z"
   },
   {
    "duration": 4,
    "start_time": "2023-03-21T16:04:56.489Z"
   },
   {
    "duration": 5,
    "start_time": "2023-03-21T16:06:19.251Z"
   },
   {
    "duration": 4,
    "start_time": "2023-03-21T16:06:19.348Z"
   },
   {
    "duration": 73,
    "start_time": "2023-03-21T16:06:20.118Z"
   },
   {
    "duration": 11,
    "start_time": "2023-03-21T16:06:20.826Z"
   },
   {
    "duration": 5,
    "start_time": "2023-03-21T16:06:35.185Z"
   },
   {
    "duration": 45,
    "start_time": "2023-03-21T16:06:35.861Z"
   },
   {
    "duration": 13,
    "start_time": "2023-03-21T16:06:36.439Z"
   },
   {
    "duration": 13,
    "start_time": "2023-03-21T16:06:37.281Z"
   },
   {
    "duration": 10,
    "start_time": "2023-03-21T16:06:37.688Z"
   },
   {
    "duration": 5,
    "start_time": "2023-03-21T16:06:38.341Z"
   },
   {
    "duration": 13,
    "start_time": "2023-03-21T16:06:38.989Z"
   },
   {
    "duration": 4,
    "start_time": "2023-03-21T16:06:39.636Z"
   },
   {
    "duration": 9,
    "start_time": "2023-03-21T16:06:40.393Z"
   },
   {
    "duration": 12,
    "start_time": "2023-03-21T16:06:42.231Z"
   },
   {
    "duration": 14,
    "start_time": "2023-03-21T16:06:43.720Z"
   },
   {
    "duration": 2,
    "start_time": "2023-03-21T16:06:47.081Z"
   },
   {
    "duration": 9,
    "start_time": "2023-03-21T16:06:47.836Z"
   },
   {
    "duration": 6,
    "start_time": "2023-03-21T16:06:49.617Z"
   },
   {
    "duration": 7,
    "start_time": "2023-03-21T16:06:54.284Z"
   },
   {
    "duration": 31,
    "start_time": "2023-03-21T16:07:52.457Z"
   },
   {
    "duration": 614,
    "start_time": "2023-03-21T16:18:37.095Z"
   },
   {
    "duration": 0,
    "start_time": "2023-03-21T16:33:57.477Z"
   },
   {
    "duration": 15643,
    "start_time": "2023-03-21T17:19:04.811Z"
   },
   {
    "duration": 509,
    "start_time": "2023-03-21T17:28:33.136Z"
   },
   {
    "duration": 17821,
    "start_time": "2023-03-21T17:44:58.534Z"
   },
   {
    "duration": 1144,
    "start_time": "2023-03-22T11:10:32.187Z"
   },
   {
    "duration": 173,
    "start_time": "2023-03-22T11:10:33.333Z"
   },
   {
    "duration": 27,
    "start_time": "2023-03-22T11:10:33.509Z"
   },
   {
    "duration": 17,
    "start_time": "2023-03-22T11:10:33.538Z"
   },
   {
    "duration": 8,
    "start_time": "2023-03-22T11:10:33.558Z"
   },
   {
    "duration": 21,
    "start_time": "2023-03-22T11:10:33.567Z"
   },
   {
    "duration": 9,
    "start_time": "2023-03-22T11:10:33.591Z"
   },
   {
    "duration": 5,
    "start_time": "2023-03-22T11:10:33.603Z"
   },
   {
    "duration": 6,
    "start_time": "2023-03-22T11:10:33.610Z"
   },
   {
    "duration": 15,
    "start_time": "2023-03-22T11:10:33.618Z"
   },
   {
    "duration": 18,
    "start_time": "2023-03-22T11:10:33.635Z"
   },
   {
    "duration": 6,
    "start_time": "2023-03-22T11:10:33.692Z"
   },
   {
    "duration": 16,
    "start_time": "2023-03-22T11:10:33.700Z"
   },
   {
    "duration": 5,
    "start_time": "2023-03-22T11:10:33.720Z"
   },
   {
    "duration": 63,
    "start_time": "2023-03-22T11:10:33.727Z"
   },
   {
    "duration": 574,
    "start_time": "2023-03-22T11:10:33.792Z"
   },
   {
    "duration": 13285,
    "start_time": "2023-03-22T11:10:34.367Z"
   },
   {
    "duration": 243,
    "start_time": "2023-03-22T11:10:47.653Z"
   },
   {
    "duration": 13103,
    "start_time": "2023-03-22T11:10:47.898Z"
   },
   {
    "duration": 240,
    "start_time": "2023-03-22T11:11:01.003Z"
   },
   {
    "duration": 143,
    "start_time": "2023-03-22T11:11:01.290Z"
   },
   {
    "duration": 325,
    "start_time": "2023-03-22T11:11:01.434Z"
   },
   {
    "duration": 9554,
    "start_time": "2023-03-22T11:11:01.761Z"
   },
   {
    "duration": 9247,
    "start_time": "2023-03-22T12:37:33.864Z"
   },
   {
    "duration": 5,
    "start_time": "2023-03-22T12:38:12.695Z"
   },
   {
    "duration": 38,
    "start_time": "2023-03-22T12:38:13.186Z"
   },
   {
    "duration": 12,
    "start_time": "2023-03-22T12:38:13.937Z"
   },
   {
    "duration": 13,
    "start_time": "2023-03-22T12:38:17.782Z"
   },
   {
    "duration": 10,
    "start_time": "2023-03-22T12:38:17.797Z"
   },
   {
    "duration": 5,
    "start_time": "2023-03-22T12:38:17.809Z"
   },
   {
    "duration": 8,
    "start_time": "2023-03-22T12:38:17.861Z"
   },
   {
    "duration": 5,
    "start_time": "2023-03-22T12:38:17.910Z"
   },
   {
    "duration": 6,
    "start_time": "2023-03-22T12:38:18.734Z"
   },
   {
    "duration": 8,
    "start_time": "2023-03-22T12:38:22.934Z"
   },
   {
    "duration": 13,
    "start_time": "2023-03-22T12:38:22.944Z"
   },
   {
    "duration": 3,
    "start_time": "2023-03-22T12:38:23.010Z"
   },
   {
    "duration": 11,
    "start_time": "2023-03-22T12:38:23.213Z"
   },
   {
    "duration": 5,
    "start_time": "2023-03-22T12:38:24.026Z"
   },
   {
    "duration": 29,
    "start_time": "2023-03-22T12:38:33.183Z"
   },
   {
    "duration": 483,
    "start_time": "2023-03-22T12:38:33.506Z"
   },
   {
    "duration": 0,
    "start_time": "2023-03-22T12:43:51.850Z"
   },
   {
    "duration": 61,
    "start_time": "2023-03-22T12:43:55.022Z"
   },
   {
    "duration": 13118,
    "start_time": "2023-03-22T12:44:26.389Z"
   },
   {
    "duration": 13345,
    "start_time": "2023-03-22T12:44:45.889Z"
   },
   {
    "duration": 13304,
    "start_time": "2023-03-22T12:45:12.258Z"
   },
   {
    "duration": 475,
    "start_time": "2023-03-22T12:47:03.987Z"
   },
   {
    "duration": 4,
    "start_time": "2023-03-22T12:47:27.612Z"
   },
   {
    "duration": 13199,
    "start_time": "2023-03-22T12:48:06.631Z"
   },
   {
    "duration": 5,
    "start_time": "2023-03-22T12:48:48.058Z"
   },
   {
    "duration": 258,
    "start_time": "2023-03-22T12:48:50.320Z"
   },
   {
    "duration": 256,
    "start_time": "2023-03-22T12:49:03.284Z"
   },
   {
    "duration": 324,
    "start_time": "2023-03-22T12:51:55.834Z"
   },
   {
    "duration": 9418,
    "start_time": "2023-03-22T12:52:06.591Z"
   },
   {
    "duration": 9507,
    "start_time": "2023-03-22T12:53:08.777Z"
   },
   {
    "duration": 461,
    "start_time": "2023-03-22T12:55:41.594Z"
   },
   {
    "duration": 3,
    "start_time": "2023-03-22T12:55:48.858Z"
   },
   {
    "duration": 12826,
    "start_time": "2023-03-22T12:55:49.897Z"
   },
   {
    "duration": 263,
    "start_time": "2023-03-22T12:56:13.948Z"
   },
   {
    "duration": 42,
    "start_time": "2023-03-22T12:57:25.713Z"
   },
   {
    "duration": 472,
    "start_time": "2023-03-22T12:57:28.111Z"
   },
   {
    "duration": 4,
    "start_time": "2023-03-22T12:57:30.690Z"
   },
   {
    "duration": 13380,
    "start_time": "2023-03-22T12:57:32.454Z"
   },
   {
    "duration": 3,
    "start_time": "2023-03-22T12:57:45.836Z"
   },
   {
    "duration": 259,
    "start_time": "2023-03-22T12:57:45.841Z"
   },
   {
    "duration": 243,
    "start_time": "2023-03-22T12:57:51.012Z"
   },
   {
    "duration": 14277,
    "start_time": "2023-03-22T12:57:59.716Z"
   },
   {
    "duration": 225,
    "start_time": "2023-03-22T12:58:13.996Z"
   },
   {
    "duration": 75,
    "start_time": "2023-03-22T12:58:14.521Z"
   },
   {
    "duration": 332,
    "start_time": "2023-03-22T12:58:17.192Z"
   },
   {
    "duration": 9116,
    "start_time": "2023-03-22T12:58:33.440Z"
   },
   {
    "duration": 9141,
    "start_time": "2023-03-22T12:59:21.221Z"
   },
   {
    "duration": 4,
    "start_time": "2023-03-22T13:00:19.315Z"
   },
   {
    "duration": 38,
    "start_time": "2023-03-22T13:00:20.181Z"
   },
   {
    "duration": 12,
    "start_time": "2023-03-22T13:00:20.933Z"
   },
   {
    "duration": 13,
    "start_time": "2023-03-22T13:00:21.817Z"
   },
   {
    "duration": 9,
    "start_time": "2023-03-22T13:00:22.678Z"
   },
   {
    "duration": 6,
    "start_time": "2023-03-22T13:00:23.547Z"
   },
   {
    "duration": 7,
    "start_time": "2023-03-22T13:00:24.514Z"
   },
   {
    "duration": 4,
    "start_time": "2023-03-22T13:00:25.410Z"
   },
   {
    "duration": 4,
    "start_time": "2023-03-22T13:00:26.350Z"
   },
   {
    "duration": 10,
    "start_time": "2023-03-22T13:00:27.235Z"
   },
   {
    "duration": 12,
    "start_time": "2023-03-22T13:00:28.126Z"
   },
   {
    "duration": 2,
    "start_time": "2023-03-22T13:00:29.132Z"
   },
   {
    "duration": 9,
    "start_time": "2023-03-22T13:00:30.026Z"
   },
   {
    "duration": 4,
    "start_time": "2023-03-22T13:00:30.951Z"
   },
   {
    "duration": 37,
    "start_time": "2023-03-22T13:00:36.949Z"
   },
   {
    "duration": 458,
    "start_time": "2023-03-22T13:00:45.715Z"
   },
   {
    "duration": 4,
    "start_time": "2023-03-22T13:00:47.629Z"
   },
   {
    "duration": 13044,
    "start_time": "2023-03-22T13:01:01.398Z"
   },
   {
    "duration": 3,
    "start_time": "2023-03-22T13:01:14.444Z"
   },
   {
    "duration": 250,
    "start_time": "2023-03-22T13:01:14.449Z"
   },
   {
    "duration": 14665,
    "start_time": "2023-03-22T13:01:28.124Z"
   },
   {
    "duration": 146,
    "start_time": "2023-03-22T13:01:42.798Z"
   },
   {
    "duration": 55,
    "start_time": "2023-03-22T13:01:50.150Z"
   },
   {
    "duration": 340,
    "start_time": "2023-03-22T13:02:16.286Z"
   },
   {
    "duration": 47,
    "start_time": "2023-03-22T13:03:45.011Z"
   },
   {
    "duration": 39,
    "start_time": "2023-03-22T13:04:47.417Z"
   },
   {
    "duration": 44,
    "start_time": "2023-03-22T13:04:55.228Z"
   },
   {
    "duration": 38,
    "start_time": "2023-03-22T13:05:00.973Z"
   },
   {
    "duration": 51,
    "start_time": "2023-03-22T13:05:06.694Z"
   },
   {
    "duration": 55,
    "start_time": "2023-03-22T13:05:12.446Z"
   },
   {
    "duration": 61,
    "start_time": "2023-03-22T13:05:19.659Z"
   },
   {
    "duration": 48,
    "start_time": "2023-03-22T13:05:26.378Z"
   },
   {
    "duration": 52,
    "start_time": "2023-03-22T13:05:44.776Z"
   },
   {
    "duration": 9496,
    "start_time": "2023-03-22T13:06:57.168Z"
   },
   {
    "duration": 9065,
    "start_time": "2023-03-22T13:07:21.610Z"
   },
   {
    "duration": 113671,
    "start_time": "2023-03-22T13:18:17.470Z"
   },
   {
    "duration": 31,
    "start_time": "2023-03-22T13:27:41.938Z"
   },
   {
    "duration": 16,
    "start_time": "2023-03-22T13:28:45.991Z"
   },
   {
    "duration": 7,
    "start_time": "2023-03-22T13:29:28.746Z"
   },
   {
    "duration": 3,
    "start_time": "2023-03-22T13:29:41.295Z"
   },
   {
    "duration": 38,
    "start_time": "2023-03-22T13:29:42.447Z"
   },
   {
    "duration": 23,
    "start_time": "2023-03-22T13:29:43.996Z"
   },
   {
    "duration": 12,
    "start_time": "2023-03-22T13:29:46.106Z"
   },
   {
    "duration": 8,
    "start_time": "2023-03-22T13:29:50.489Z"
   },
   {
    "duration": 19,
    "start_time": "2023-03-22T13:32:12.451Z"
   },
   {
    "duration": 25,
    "start_time": "2023-03-22T13:34:14.546Z"
   },
   {
    "duration": 11,
    "start_time": "2023-03-22T13:43:44.640Z"
   },
   {
    "duration": 9,
    "start_time": "2023-03-22T13:44:00.615Z"
   },
   {
    "duration": 9,
    "start_time": "2023-03-22T13:46:26.029Z"
   },
   {
    "duration": 4,
    "start_time": "2023-03-22T14:10:28.434Z"
   },
   {
    "duration": 5,
    "start_time": "2023-03-22T14:16:47.903Z"
   },
   {
    "duration": 12,
    "start_time": "2023-03-22T14:16:49.234Z"
   },
   {
    "duration": 13,
    "start_time": "2023-03-22T14:16:49.982Z"
   },
   {
    "duration": 3,
    "start_time": "2023-03-22T14:16:52.556Z"
   },
   {
    "duration": 8,
    "start_time": "2023-03-22T14:16:53.466Z"
   },
   {
    "duration": 5,
    "start_time": "2023-03-22T14:16:55.142Z"
   },
   {
    "duration": 13,
    "start_time": "2023-03-22T14:21:28.149Z"
   },
   {
    "duration": 9,
    "start_time": "2023-03-22T14:23:31.701Z"
   },
   {
    "duration": 4,
    "start_time": "2023-03-22T14:24:45.764Z"
   },
   {
    "duration": 39,
    "start_time": "2023-03-22T15:27:24.494Z"
   },
   {
    "duration": 3,
    "start_time": "2023-03-22T15:27:29.878Z"
   },
   {
    "duration": 9,
    "start_time": "2023-03-22T15:27:38.213Z"
   },
   {
    "duration": 5,
    "start_time": "2023-03-22T15:27:42.894Z"
   },
   {
    "duration": 3,
    "start_time": "2023-03-22T15:28:29.564Z"
   },
   {
    "duration": 18,
    "start_time": "2023-03-22T15:28:31.619Z"
   },
   {
    "duration": 4,
    "start_time": "2023-03-22T15:29:50.138Z"
   },
   {
    "duration": 49,
    "start_time": "2023-03-22T15:29:51.582Z"
   },
   {
    "duration": 33,
    "start_time": "2023-03-22T15:29:52.988Z"
   },
   {
    "duration": 18,
    "start_time": "2023-03-22T15:29:55.286Z"
   },
   {
    "duration": 7,
    "start_time": "2023-03-22T15:29:57.649Z"
   },
   {
    "duration": 28,
    "start_time": "2023-03-22T15:29:59.546Z"
   },
   {
    "duration": 13,
    "start_time": "2023-03-22T15:30:07.587Z"
   },
   {
    "duration": 5,
    "start_time": "2023-03-22T15:30:09.436Z"
   },
   {
    "duration": 10,
    "start_time": "2023-03-22T15:30:10.919Z"
   },
   {
    "duration": 5,
    "start_time": "2023-03-22T15:30:13.470Z"
   },
   {
    "duration": 4,
    "start_time": "2023-03-22T15:30:15.252Z"
   },
   {
    "duration": 10,
    "start_time": "2023-03-22T15:30:17.654Z"
   },
   {
    "duration": 12,
    "start_time": "2023-03-22T15:30:20.672Z"
   },
   {
    "duration": 37,
    "start_time": "2023-03-22T15:30:25.327Z"
   },
   {
    "duration": 2,
    "start_time": "2023-03-22T15:30:26.474Z"
   },
   {
    "duration": 11,
    "start_time": "2023-03-22T15:30:28.833Z"
   },
   {
    "duration": 6,
    "start_time": "2023-03-22T15:31:18.066Z"
   },
   {
    "duration": 2,
    "start_time": "2023-03-22T15:31:24.139Z"
   },
   {
    "duration": 9,
    "start_time": "2023-03-22T15:31:25.728Z"
   },
   {
    "duration": 5,
    "start_time": "2023-03-22T15:31:30.165Z"
   },
   {
    "duration": 3,
    "start_time": "2023-03-22T15:31:34.615Z"
   },
   {
    "duration": 529,
    "start_time": "2023-03-22T15:31:36.731Z"
   },
   {
    "duration": 120476,
    "start_time": "2023-03-22T15:32:06.388Z"
   },
   {
    "duration": 525,
    "start_time": "2023-03-22T15:35:17.216Z"
   },
   {
    "duration": 121437,
    "start_time": "2023-03-22T15:35:26.067Z"
   },
   {
    "duration": 13807,
    "start_time": "2023-03-22T15:40:31.301Z"
   },
   {
    "duration": 8074,
    "start_time": "2023-03-22T15:41:43.907Z"
   },
   {
    "duration": 13911,
    "start_time": "2023-03-22T15:42:14.017Z"
   },
   {
    "duration": 6,
    "start_time": "2023-03-22T15:43:13.396Z"
   },
   {
    "duration": 508,
    "start_time": "2023-03-22T15:43:35.364Z"
   },
   {
    "duration": 4,
    "start_time": "2023-03-22T15:43:37.913Z"
   },
   {
    "duration": 13712,
    "start_time": "2023-03-22T15:43:40.906Z"
   },
   {
    "duration": 276,
    "start_time": "2023-03-22T15:44:22.524Z"
   },
   {
    "duration": 11051,
    "start_time": "2023-03-22T15:44:37.547Z"
   },
   {
    "duration": 201,
    "start_time": "2023-03-22T15:44:48.603Z"
   },
   {
    "duration": 54,
    "start_time": "2023-03-22T15:45:23.308Z"
   },
   {
    "duration": 62,
    "start_time": "2023-03-22T15:45:29.773Z"
   },
   {
    "duration": 58,
    "start_time": "2023-03-22T15:45:36.663Z"
   },
   {
    "duration": 42,
    "start_time": "2023-03-22T15:46:31.749Z"
   },
   {
    "duration": 47,
    "start_time": "2023-03-22T15:46:38.928Z"
   },
   {
    "duration": 46,
    "start_time": "2023-03-22T15:46:53.526Z"
   },
   {
    "duration": 46,
    "start_time": "2023-03-22T15:47:20.581Z"
   },
   {
    "duration": 51,
    "start_time": "2023-03-22T15:47:27.161Z"
   },
   {
    "duration": 44,
    "start_time": "2023-03-22T15:47:33.271Z"
   },
   {
    "duration": 31,
    "start_time": "2023-03-22T15:50:02.541Z"
   },
   {
    "duration": 59,
    "start_time": "2023-03-22T15:50:27.238Z"
   },
   {
    "duration": 3502,
    "start_time": "2023-03-22T15:52:54.431Z"
   },
   {
    "duration": 473,
    "start_time": "2023-03-22T18:18:01.755Z"
   },
   {
    "duration": 12783,
    "start_time": "2023-03-22T18:23:10.668Z"
   },
   {
    "duration": 461,
    "start_time": "2023-03-22T18:27:02.443Z"
   },
   {
    "duration": 455,
    "start_time": "2023-03-22T18:27:15.989Z"
   },
   {
    "duration": 449,
    "start_time": "2023-03-22T18:27:36.764Z"
   },
   {
    "duration": 22,
    "start_time": "2023-03-22T18:29:36.537Z"
   },
   {
    "duration": 23,
    "start_time": "2023-03-22T18:30:18.666Z"
   },
   {
    "duration": 12903,
    "start_time": "2023-03-22T18:30:39.134Z"
   },
   {
    "duration": 255,
    "start_time": "2023-03-22T18:32:03.051Z"
   },
   {
    "duration": 13305,
    "start_time": "2023-03-22T18:35:53.092Z"
   },
   {
    "duration": 28,
    "start_time": "2023-03-22T18:37:41.430Z"
   },
   {
    "duration": 13796,
    "start_time": "2023-03-22T18:39:00.395Z"
   },
   {
    "duration": 24,
    "start_time": "2023-03-22T18:40:22.762Z"
   },
   {
    "duration": 3696,
    "start_time": "2023-03-22T18:43:40.895Z"
   },
   {
    "duration": 3614,
    "start_time": "2023-03-22T18:44:07.329Z"
   },
   {
    "duration": 3,
    "start_time": "2023-03-22T18:44:50.629Z"
   },
   {
    "duration": 3573,
    "start_time": "2023-03-22T18:44:51.866Z"
   },
   {
    "duration": 3531,
    "start_time": "2023-03-22T18:45:30.512Z"
   },
   {
    "duration": 3645,
    "start_time": "2023-03-22T18:45:40.642Z"
   },
   {
    "duration": 3552,
    "start_time": "2023-03-22T18:47:16.546Z"
   },
   {
    "duration": 3590,
    "start_time": "2023-03-22T18:48:00.954Z"
   },
   {
    "duration": 3578,
    "start_time": "2023-03-22T18:48:51.123Z"
   },
   {
    "duration": 3379,
    "start_time": "2023-03-22T18:49:12.357Z"
   },
   {
    "duration": 3327,
    "start_time": "2023-03-22T18:49:58.213Z"
   },
   {
    "duration": 3299,
    "start_time": "2023-03-22T18:51:37.935Z"
   },
   {
    "duration": 3414,
    "start_time": "2023-03-22T18:52:02.827Z"
   },
   {
    "duration": 3358,
    "start_time": "2023-03-22T18:52:24.243Z"
   },
   {
    "duration": 3372,
    "start_time": "2023-03-22T18:53:34.870Z"
   },
   {
    "duration": 3249,
    "start_time": "2023-03-22T18:54:01.740Z"
   },
   {
    "duration": 3336,
    "start_time": "2023-03-22T18:56:07.315Z"
   },
   {
    "duration": 57,
    "start_time": "2023-03-22T18:56:49.417Z"
   },
   {
    "duration": 30,
    "start_time": "2023-03-22T18:56:58.795Z"
   },
   {
    "duration": 672,
    "start_time": "2023-03-22T19:03:21.346Z"
   },
   {
    "duration": 28,
    "start_time": "2023-03-22T19:04:33.203Z"
   },
   {
    "duration": 4,
    "start_time": "2023-03-22T19:14:57.870Z"
   },
   {
    "duration": 8673,
    "start_time": "2023-03-22T19:15:09.671Z"
   },
   {
    "duration": 30,
    "start_time": "2023-03-22T19:16:16.809Z"
   },
   {
    "duration": 647,
    "start_time": "2023-03-22T19:16:42.390Z"
   },
   {
    "duration": 334,
    "start_time": "2023-03-22T19:17:24.754Z"
   },
   {
    "duration": 331,
    "start_time": "2023-03-22T19:17:34.081Z"
   },
   {
    "duration": 352,
    "start_time": "2023-03-22T19:17:40.265Z"
   },
   {
    "duration": 326,
    "start_time": "2023-03-22T19:23:20.234Z"
   },
   {
    "duration": 320,
    "start_time": "2023-03-22T19:24:28.056Z"
   },
   {
    "duration": 246540,
    "start_time": "2023-03-22T19:39:30.796Z"
   },
   {
    "duration": 5,
    "start_time": "2023-03-22T19:44:21.749Z"
   },
   {
    "duration": 470,
    "start_time": "2023-03-22T19:46:59.848Z"
   },
   {
    "duration": 38,
    "start_time": "2023-03-22T19:59:29.951Z"
   },
   {
    "duration": 5,
    "start_time": "2023-03-22T20:00:22.487Z"
   },
   {
    "duration": 33,
    "start_time": "2023-03-22T20:00:32.001Z"
   },
   {
    "duration": 10,
    "start_time": "2023-03-22T20:00:53.643Z"
   },
   {
    "duration": 359,
    "start_time": "2023-03-22T20:01:29.142Z"
   },
   {
    "duration": 7,
    "start_time": "2023-03-22T20:01:38.332Z"
   },
   {
    "duration": 139,
    "start_time": "2023-03-22T20:02:30.943Z"
   },
   {
    "duration": 508,
    "start_time": "2023-03-22T20:07:01.458Z"
   },
   {
    "duration": 609,
    "start_time": "2023-03-22T20:17:43.637Z"
   },
   {
    "duration": 60,
    "start_time": "2023-03-22T20:18:07.872Z"
   },
   {
    "duration": 56,
    "start_time": "2023-03-22T20:19:19.512Z"
   },
   {
    "duration": 14120,
    "start_time": "2023-03-22T20:20:13.079Z"
   },
   {
    "duration": 4,
    "start_time": "2023-03-22T20:30:22.738Z"
   },
   {
    "duration": 277,
    "start_time": "2023-03-22T20:30:24.965Z"
   },
   {
    "duration": 507,
    "start_time": "2023-03-22T20:33:00.924Z"
   },
   {
    "duration": 13077,
    "start_time": "2023-03-22T20:33:52.302Z"
   },
   {
    "duration": 13045,
    "start_time": "2023-03-22T20:34:28.265Z"
   },
   {
    "duration": 3583,
    "start_time": "2023-03-22T20:35:05.325Z"
   },
   {
    "duration": 681,
    "start_time": "2023-03-22T20:35:30.581Z"
   },
   {
    "duration": 8542,
    "start_time": "2023-03-22T20:37:46.629Z"
   },
   {
    "duration": 8702,
    "start_time": "2023-03-22T20:38:05.629Z"
   },
   {
    "duration": 497,
    "start_time": "2023-03-22T20:41:08.809Z"
   },
   {
    "duration": 40,
    "start_time": "2023-03-22T20:41:54.211Z"
   },
   {
    "duration": 25,
    "start_time": "2023-03-22T20:42:26.038Z"
   },
   {
    "duration": 49,
    "start_time": "2023-03-22T20:45:04.374Z"
   },
   {
    "duration": 196,
    "start_time": "2023-03-22T20:45:42.195Z"
   },
   {
    "duration": 34,
    "start_time": "2023-03-22T20:47:01.778Z"
   },
   {
    "duration": 305,
    "start_time": "2023-03-22T20:47:26.342Z"
   },
   {
    "duration": 431,
    "start_time": "2023-03-22T20:47:49.080Z"
   },
   {
    "duration": 421,
    "start_time": "2023-03-22T20:55:53.220Z"
   },
   {
    "duration": 36,
    "start_time": "2023-03-22T20:56:09.467Z"
   },
   {
    "duration": 185,
    "start_time": "2023-03-22T20:56:10.319Z"
   },
   {
    "duration": 41,
    "start_time": "2023-03-22T21:59:17.954Z"
   },
   {
    "duration": 2145,
    "start_time": "2023-03-23T09:32:26.039Z"
   },
   {
    "duration": 308,
    "start_time": "2023-03-23T09:32:28.186Z"
   },
   {
    "duration": 33,
    "start_time": "2023-03-23T09:32:28.496Z"
   },
   {
    "duration": 15,
    "start_time": "2023-03-23T09:32:28.530Z"
   },
   {
    "duration": 13,
    "start_time": "2023-03-23T09:32:28.548Z"
   },
   {
    "duration": 30,
    "start_time": "2023-03-23T09:32:28.563Z"
   },
   {
    "duration": 10,
    "start_time": "2023-03-23T09:32:28.595Z"
   },
   {
    "duration": 6,
    "start_time": "2023-03-23T09:32:28.608Z"
   },
   {
    "duration": 24,
    "start_time": "2023-03-23T09:32:28.616Z"
   },
   {
    "duration": 8,
    "start_time": "2023-03-23T09:32:28.658Z"
   },
   {
    "duration": 13,
    "start_time": "2023-03-23T09:32:28.668Z"
   },
   {
    "duration": 10,
    "start_time": "2023-03-23T09:32:28.683Z"
   },
   {
    "duration": 6,
    "start_time": "2023-03-23T09:32:28.695Z"
   },
   {
    "duration": 16,
    "start_time": "2023-03-23T09:32:28.704Z"
   },
   {
    "duration": 9,
    "start_time": "2023-03-23T09:32:28.721Z"
   },
   {
    "duration": 10,
    "start_time": "2023-03-23T09:32:28.732Z"
   },
   {
    "duration": 15,
    "start_time": "2023-03-23T09:32:28.744Z"
   },
   {
    "duration": 14,
    "start_time": "2023-03-23T09:32:28.761Z"
   },
   {
    "duration": 16,
    "start_time": "2023-03-23T09:32:28.777Z"
   },
   {
    "duration": 10,
    "start_time": "2023-03-23T09:32:28.795Z"
   },
   {
    "duration": 12,
    "start_time": "2023-03-23T09:32:28.807Z"
   },
   {
    "duration": 16,
    "start_time": "2023-03-23T09:32:28.821Z"
   },
   {
    "duration": 17,
    "start_time": "2023-03-23T09:32:28.839Z"
   },
   {
    "duration": 35,
    "start_time": "2023-03-23T09:32:28.858Z"
   },
   {
    "duration": 7,
    "start_time": "2023-03-23T09:32:28.894Z"
   },
   {
    "duration": 13,
    "start_time": "2023-03-23T09:32:28.902Z"
   },
   {
    "duration": 19,
    "start_time": "2023-03-23T09:32:28.917Z"
   },
   {
    "duration": 5,
    "start_time": "2023-03-23T09:32:28.938Z"
   },
   {
    "duration": 29,
    "start_time": "2023-03-23T09:32:28.945Z"
   },
   {
    "duration": 8,
    "start_time": "2023-03-23T09:32:28.977Z"
   },
   {
    "duration": 143,
    "start_time": "2023-03-23T09:32:28.987Z"
   },
   {
    "duration": 0,
    "start_time": "2023-03-23T09:32:29.132Z"
   },
   {
    "duration": 0,
    "start_time": "2023-03-23T09:32:29.134Z"
   },
   {
    "duration": 0,
    "start_time": "2023-03-23T09:32:29.135Z"
   },
   {
    "duration": 0,
    "start_time": "2023-03-23T09:32:29.136Z"
   },
   {
    "duration": 0,
    "start_time": "2023-03-23T09:32:29.137Z"
   },
   {
    "duration": 0,
    "start_time": "2023-03-23T09:32:29.138Z"
   },
   {
    "duration": 0,
    "start_time": "2023-03-23T09:32:29.139Z"
   },
   {
    "duration": 0,
    "start_time": "2023-03-23T09:32:29.140Z"
   },
   {
    "duration": 0,
    "start_time": "2023-03-23T09:32:29.141Z"
   },
   {
    "duration": 0,
    "start_time": "2023-03-23T09:32:29.158Z"
   },
   {
    "duration": 0,
    "start_time": "2023-03-23T09:32:29.159Z"
   },
   {
    "duration": 0,
    "start_time": "2023-03-23T09:32:29.161Z"
   },
   {
    "duration": 0,
    "start_time": "2023-03-23T09:32:29.162Z"
   },
   {
    "duration": 0,
    "start_time": "2023-03-23T09:32:29.163Z"
   },
   {
    "duration": 0,
    "start_time": "2023-03-23T09:32:29.164Z"
   },
   {
    "duration": 0,
    "start_time": "2023-03-23T09:32:29.165Z"
   },
   {
    "duration": 22,
    "start_time": "2023-03-23T10:13:02.074Z"
   },
   {
    "duration": 7474,
    "start_time": "2023-03-23T10:15:30.277Z"
   },
   {
    "duration": 26,
    "start_time": "2023-03-23T10:15:37.753Z"
   },
   {
    "duration": 15487,
    "start_time": "2023-03-23T10:15:37.781Z"
   },
   {
    "duration": 203,
    "start_time": "2023-03-23T10:15:53.361Z"
   },
   {
    "duration": 3709,
    "start_time": "2023-03-23T10:15:53.657Z"
   },
   {
    "duration": 110,
    "start_time": "2023-03-23T10:15:57.458Z"
   },
   {
    "duration": 0,
    "start_time": "2023-03-23T10:15:57.659Z"
   },
   {
    "duration": 0,
    "start_time": "2023-03-23T10:15:57.661Z"
   },
   {
    "duration": 0,
    "start_time": "2023-03-23T10:15:57.662Z"
   },
   {
    "duration": 0,
    "start_time": "2023-03-23T10:15:57.664Z"
   },
   {
    "duration": 0,
    "start_time": "2023-03-23T10:15:57.665Z"
   },
   {
    "duration": 0,
    "start_time": "2023-03-23T10:15:57.666Z"
   },
   {
    "duration": 0,
    "start_time": "2023-03-23T10:15:57.668Z"
   },
   {
    "duration": 0,
    "start_time": "2023-03-23T10:15:57.669Z"
   },
   {
    "duration": 0,
    "start_time": "2023-03-23T10:15:57.670Z"
   },
   {
    "duration": 378,
    "start_time": "2023-03-23T10:58:00.014Z"
   },
   {
    "duration": 25,
    "start_time": "2023-03-23T10:58:00.394Z"
   },
   {
    "duration": 38,
    "start_time": "2023-03-23T10:58:00.421Z"
   },
   {
    "duration": 659,
    "start_time": "2023-03-23T10:58:00.462Z"
   },
   {
    "duration": 48,
    "start_time": "2023-03-23T10:58:01.123Z"
   },
   {
    "duration": 253592,
    "start_time": "2023-03-23T10:58:01.173Z"
   },
   {
    "duration": 504,
    "start_time": "2023-03-23T11:02:14.767Z"
   },
   {
    "duration": 0,
    "start_time": "2023-03-23T11:02:15.273Z"
   },
   {
    "duration": 0,
    "start_time": "2023-03-23T11:02:15.274Z"
   },
   {
    "duration": 31,
    "start_time": "2023-03-23T11:11:54.482Z"
   },
   {
    "duration": 152,
    "start_time": "2023-03-23T11:11:55.505Z"
   },
   {
    "duration": 1741,
    "start_time": "2023-03-23T16:41:15.312Z"
   },
   {
    "duration": 207,
    "start_time": "2023-03-23T16:41:17.497Z"
   },
   {
    "duration": 48,
    "start_time": "2023-03-23T16:41:19.457Z"
   },
   {
    "duration": 18,
    "start_time": "2023-03-23T16:41:21.165Z"
   },
   {
    "duration": 11,
    "start_time": "2023-03-23T16:41:22.682Z"
   },
   {
    "duration": 27,
    "start_time": "2023-03-23T16:41:24.274Z"
   },
   {
    "duration": 13,
    "start_time": "2023-03-23T16:41:26.013Z"
   },
   {
    "duration": 9,
    "start_time": "2023-03-23T16:41:27.767Z"
   },
   {
    "duration": 7,
    "start_time": "2023-03-23T16:41:33.330Z"
   },
   {
    "duration": 4,
    "start_time": "2023-03-23T16:41:33.379Z"
   },
   {
    "duration": 4,
    "start_time": "2023-03-23T16:41:33.691Z"
   },
   {
    "duration": 5,
    "start_time": "2023-03-23T16:41:34.914Z"
   },
   {
    "duration": 5,
    "start_time": "2023-03-23T16:41:35.790Z"
   },
   {
    "duration": 5,
    "start_time": "2023-03-23T16:41:36.532Z"
   },
   {
    "duration": 7,
    "start_time": "2023-03-23T16:41:37.295Z"
   },
   {
    "duration": 5,
    "start_time": "2023-03-23T16:41:38.072Z"
   },
   {
    "duration": 9,
    "start_time": "2023-03-23T16:41:38.867Z"
   },
   {
    "duration": 6,
    "start_time": "2023-03-23T16:41:39.612Z"
   },
   {
    "duration": 4,
    "start_time": "2023-03-23T16:41:40.385Z"
   },
   {
    "duration": 12,
    "start_time": "2023-03-23T16:41:41.855Z"
   },
   {
    "duration": 6,
    "start_time": "2023-03-23T16:41:43.381Z"
   },
   {
    "duration": 17,
    "start_time": "2023-03-23T16:41:46.957Z"
   },
   {
    "duration": 15,
    "start_time": "2023-03-23T16:41:56.469Z"
   },
   {
    "duration": 8,
    "start_time": "2023-03-23T16:42:02.970Z"
   },
   {
    "duration": 12,
    "start_time": "2023-03-23T16:42:05.418Z"
   },
   {
    "duration": 5,
    "start_time": "2023-03-23T16:42:07.667Z"
   },
   {
    "duration": 65,
    "start_time": "2023-03-23T16:42:08.734Z"
   },
   {
    "duration": 5,
    "start_time": "2023-03-23T16:49:35.418Z"
   },
   {
    "duration": 4,
    "start_time": "2023-03-23T16:49:36.171Z"
   },
   {
    "duration": 571,
    "start_time": "2023-03-23T16:49:42.174Z"
   },
   {
    "duration": 43,
    "start_time": "2023-03-23T16:53:16.532Z"
   },
   {
    "duration": 72,
    "start_time": "2023-03-23T17:00:57.940Z"
   },
   {
    "duration": 48,
    "start_time": "2023-03-23T17:01:07.427Z"
   },
   {
    "duration": 127,
    "start_time": "2023-03-23T17:01:40.716Z"
   },
   {
    "duration": 49,
    "start_time": "2023-03-23T17:01:58.732Z"
   },
   {
    "duration": 36,
    "start_time": "2023-03-23T17:02:49.978Z"
   },
   {
    "duration": 873,
    "start_time": "2023-03-23T17:02:50.016Z"
   },
   {
    "duration": 840,
    "start_time": "2023-03-23T17:05:03.922Z"
   },
   {
    "duration": 496,
    "start_time": "2023-03-23T17:05:13.669Z"
   },
   {
    "duration": 575,
    "start_time": "2023-03-23T17:11:01.960Z"
   },
   {
    "duration": 3,
    "start_time": "2023-03-23T17:11:30.757Z"
   },
   {
    "duration": 283083,
    "start_time": "2023-03-23T17:15:29.823Z"
   },
   {
    "duration": 6,
    "start_time": "2023-03-24T18:02:29.305Z"
   },
   {
    "duration": 204,
    "start_time": "2023-03-24T18:02:38.133Z"
   },
   {
    "duration": 41,
    "start_time": "2023-03-24T18:02:39.960Z"
   },
   {
    "duration": 21,
    "start_time": "2023-03-24T18:02:41.769Z"
   },
   {
    "duration": 9,
    "start_time": "2023-03-24T18:02:43.193Z"
   },
   {
    "duration": 27,
    "start_time": "2023-03-24T18:02:45.901Z"
   },
   {
    "duration": 13,
    "start_time": "2023-03-24T18:02:47.817Z"
   },
   {
    "duration": 6,
    "start_time": "2023-03-24T18:02:50.270Z"
   },
   {
    "duration": 10,
    "start_time": "2023-03-24T18:02:51.363Z"
   },
   {
    "duration": 6,
    "start_time": "2023-03-24T18:02:53.335Z"
   },
   {
    "duration": 5,
    "start_time": "2023-03-24T18:02:54.299Z"
   },
   {
    "duration": 7,
    "start_time": "2023-03-24T18:02:55.195Z"
   },
   {
    "duration": 5,
    "start_time": "2023-03-24T18:02:56.098Z"
   },
   {
    "duration": 5,
    "start_time": "2023-03-24T18:02:56.496Z"
   },
   {
    "duration": 6,
    "start_time": "2023-03-24T18:02:56.503Z"
   },
   {
    "duration": 5,
    "start_time": "2023-03-24T18:02:56.766Z"
   },
   {
    "duration": 6,
    "start_time": "2023-03-24T18:02:57.169Z"
   },
   {
    "duration": 4,
    "start_time": "2023-03-24T18:02:57.561Z"
   },
   {
    "duration": 7,
    "start_time": "2023-03-24T18:02:57.867Z"
   },
   {
    "duration": 5,
    "start_time": "2023-03-24T18:02:58.279Z"
   },
   {
    "duration": 8,
    "start_time": "2023-03-24T18:02:59.033Z"
   },
   {
    "duration": 11,
    "start_time": "2023-03-24T18:03:00.158Z"
   },
   {
    "duration": 14,
    "start_time": "2023-03-24T18:03:02.387Z"
   },
   {
    "duration": 7,
    "start_time": "2023-03-24T18:03:04.422Z"
   },
   {
    "duration": 14,
    "start_time": "2023-03-24T18:03:08.812Z"
   },
   {
    "duration": 7,
    "start_time": "2023-03-24T18:03:25.061Z"
   },
   {
    "duration": 34,
    "start_time": "2023-03-24T18:03:27.155Z"
   },
   {
    "duration": 2,
    "start_time": "2023-03-24T18:03:34.007Z"
   },
   {
    "duration": 535,
    "start_time": "2023-03-24T18:03:34.137Z"
   },
   {
    "duration": 0,
    "start_time": "2023-03-24T18:03:34.673Z"
   },
   {
    "duration": 0,
    "start_time": "2023-03-24T18:08:14.741Z"
   },
   {
    "duration": 0,
    "start_time": "2023-03-24T18:08:14.743Z"
   },
   {
    "duration": 0,
    "start_time": "2023-03-24T18:08:14.746Z"
   },
   {
    "duration": 5,
    "start_time": "2023-03-24T18:13:15.266Z"
   },
   {
    "duration": 50,
    "start_time": "2023-03-24T18:13:16.227Z"
   },
   {
    "duration": 36,
    "start_time": "2023-03-24T18:13:17.816Z"
   },
   {
    "duration": 14,
    "start_time": "2023-03-24T18:13:20.379Z"
   },
   {
    "duration": 8,
    "start_time": "2023-03-24T18:13:22.225Z"
   },
   {
    "duration": 45,
    "start_time": "2023-03-24T18:13:23.737Z"
   },
   {
    "duration": 15,
    "start_time": "2023-03-24T18:13:25.897Z"
   },
   {
    "duration": 8,
    "start_time": "2023-03-24T18:13:27.556Z"
   },
   {
    "duration": 8,
    "start_time": "2023-03-24T18:13:29.267Z"
   },
   {
    "duration": 5,
    "start_time": "2023-03-24T18:13:30.965Z"
   },
   {
    "duration": 15,
    "start_time": "2023-03-24T18:13:31.739Z"
   },
   {
    "duration": 6,
    "start_time": "2023-03-24T18:13:32.539Z"
   },
   {
    "duration": 5,
    "start_time": "2023-03-24T18:13:33.302Z"
   },
   {
    "duration": 4,
    "start_time": "2023-03-24T18:13:33.871Z"
   },
   {
    "duration": 4,
    "start_time": "2023-03-24T18:13:34.399Z"
   },
   {
    "duration": 4,
    "start_time": "2023-03-24T18:13:34.889Z"
   },
   {
    "duration": 4,
    "start_time": "2023-03-24T18:13:35.529Z"
   },
   {
    "duration": 5,
    "start_time": "2023-03-24T18:13:36.217Z"
   },
   {
    "duration": 4,
    "start_time": "2023-03-24T18:13:36.801Z"
   },
   {
    "duration": 4,
    "start_time": "2023-03-24T18:13:38.213Z"
   },
   {
    "duration": 4,
    "start_time": "2023-03-24T18:13:39.585Z"
   },
   {
    "duration": 13,
    "start_time": "2023-03-24T18:13:41.754Z"
   },
   {
    "duration": 12,
    "start_time": "2023-03-24T18:13:44.677Z"
   },
   {
    "duration": 9,
    "start_time": "2023-03-24T18:13:47.405Z"
   },
   {
    "duration": 11,
    "start_time": "2023-03-24T18:13:49.220Z"
   },
   {
    "duration": 5,
    "start_time": "2023-03-24T18:13:50.707Z"
   },
   {
    "duration": 36,
    "start_time": "2023-03-24T18:13:52.284Z"
   },
   {
    "duration": 2,
    "start_time": "2023-03-24T18:13:58.688Z"
   },
   {
    "duration": 561,
    "start_time": "2023-03-24T18:14:04.820Z"
   },
   {
    "duration": 4,
    "start_time": "2023-03-24T18:14:36.732Z"
   },
   {
    "duration": 560,
    "start_time": "2023-03-24T18:14:41.174Z"
   },
   {
    "duration": 1716,
    "start_time": "2023-03-25T02:56:55.589Z"
   },
   {
    "duration": 95,
    "start_time": "2023-03-25T02:56:57.919Z"
   },
   {
    "duration": 32,
    "start_time": "2023-03-25T02:56:59.655Z"
   },
   {
    "duration": 16,
    "start_time": "2023-03-25T02:57:01.169Z"
   },
   {
    "duration": 8,
    "start_time": "2023-03-25T02:57:02.635Z"
   },
   {
    "duration": 49,
    "start_time": "2023-03-25T02:57:04.117Z"
   },
   {
    "duration": 15,
    "start_time": "2023-03-25T02:57:06.029Z"
   },
   {
    "duration": 7,
    "start_time": "2023-03-25T02:57:07.732Z"
   },
   {
    "duration": 11,
    "start_time": "2023-03-25T02:57:09.447Z"
   },
   {
    "duration": 6,
    "start_time": "2023-03-25T02:57:11.157Z"
   },
   {
    "duration": 5,
    "start_time": "2023-03-25T02:57:12.019Z"
   },
   {
    "duration": 5,
    "start_time": "2023-03-25T02:57:13.107Z"
   },
   {
    "duration": 5,
    "start_time": "2023-03-25T02:57:14.069Z"
   },
   {
    "duration": 6,
    "start_time": "2023-03-25T02:57:14.861Z"
   },
   {
    "duration": 6,
    "start_time": "2023-03-25T02:57:15.721Z"
   },
   {
    "duration": 7,
    "start_time": "2023-03-25T02:57:16.575Z"
   },
   {
    "duration": 4,
    "start_time": "2023-03-25T02:57:17.335Z"
   },
   {
    "duration": 4,
    "start_time": "2023-03-25T02:57:18.105Z"
   },
   {
    "duration": 5,
    "start_time": "2023-03-25T02:57:18.883Z"
   },
   {
    "duration": 5,
    "start_time": "2023-03-25T02:57:20.681Z"
   },
   {
    "duration": 4,
    "start_time": "2023-03-25T02:57:21.963Z"
   },
   {
    "duration": 11,
    "start_time": "2023-03-25T02:57:25.662Z"
   },
   {
    "duration": 13,
    "start_time": "2023-03-25T03:00:23.099Z"
   },
   {
    "duration": 10,
    "start_time": "2023-03-25T03:00:25.232Z"
   },
   {
    "duration": 15,
    "start_time": "2023-03-25T03:00:26.941Z"
   },
   {
    "duration": 6,
    "start_time": "2023-03-25T03:00:28.504Z"
   },
   {
    "duration": 49,
    "start_time": "2023-03-25T03:00:30.123Z"
   },
   {
    "duration": 3,
    "start_time": "2023-03-25T03:00:39.207Z"
   },
   {
    "duration": 514,
    "start_time": "2023-03-25T03:00:48.821Z"
   },
   {
    "duration": 3,
    "start_time": "2023-03-25T03:00:59.375Z"
   },
   {
    "duration": 4,
    "start_time": "2023-03-25T03:10:05.915Z"
   },
   {
    "duration": 534,
    "start_time": "2023-03-25T03:10:05.921Z"
   },
   {
    "duration": 2,
    "start_time": "2023-03-25T03:10:06.457Z"
   },
   {
    "duration": 259330,
    "start_time": "2023-03-25T03:10:06.461Z"
   },
   {
    "duration": 296,
    "start_time": "2023-03-25T03:14:25.792Z"
   },
   {
    "duration": 191,
    "start_time": "2023-03-25T03:34:48.367Z"
   },
   {
    "duration": 79,
    "start_time": "2023-03-25T03:37:47.498Z"
   },
   {
    "duration": 5,
    "start_time": "2023-03-25T03:37:58.717Z"
   },
   {
    "duration": 87,
    "start_time": "2023-03-25T03:38:10.823Z"
   },
   {
    "duration": 3,
    "start_time": "2023-03-25T03:41:18.659Z"
   },
   {
    "duration": 2,
    "start_time": "2023-03-25T03:41:20.992Z"
   },
   {
    "duration": 88,
    "start_time": "2023-03-25T03:42:45.990Z"
   },
   {
    "duration": 5,
    "start_time": "2023-03-25T03:54:01.792Z"
   },
   {
    "duration": 92,
    "start_time": "2023-03-25T04:00:03.561Z"
   },
   {
    "duration": 132,
    "start_time": "2023-03-25T04:02:30.915Z"
   },
   {
    "duration": 127,
    "start_time": "2023-03-25T04:03:04.306Z"
   },
   {
    "duration": 125,
    "start_time": "2023-03-25T04:03:10.064Z"
   },
   {
    "duration": 116,
    "start_time": "2023-03-25T04:03:19.245Z"
   },
   {
    "duration": 117,
    "start_time": "2023-03-25T04:13:09.176Z"
   },
   {
    "duration": 161,
    "start_time": "2023-03-25T04:18:31.379Z"
   },
   {
    "duration": 126,
    "start_time": "2023-03-25T04:19:17.859Z"
   },
   {
    "duration": 38,
    "start_time": "2023-03-25T04:20:44.062Z"
   },
   {
    "duration": 281909,
    "start_time": "2023-03-25T04:23:56.410Z"
   },
   {
    "duration": 134,
    "start_time": "2023-03-25T04:35:18.607Z"
   },
   {
    "duration": 104,
    "start_time": "2023-03-25T04:37:57.498Z"
   },
   {
    "duration": 448,
    "start_time": "2023-03-25T04:38:16.759Z"
   },
   {
    "duration": 32,
    "start_time": "2023-03-25T04:38:38.134Z"
   },
   {
    "duration": 276,
    "start_time": "2023-03-25T04:38:39.056Z"
   },
   {
    "duration": 283299,
    "start_time": "2023-03-25T04:43:50.471Z"
   },
   {
    "duration": 659,
    "start_time": "2023-03-25T04:48:34.387Z"
   },
   {
    "duration": 10,
    "start_time": "2023-03-25T05:49:16.241Z"
   },
   {
    "duration": 7,
    "start_time": "2023-03-25T06:07:37.898Z"
   }
  ],
  "kernelspec": {
   "display_name": "Python 3 (ipykernel)",
   "language": "python",
   "name": "python3"
  },
  "language_info": {
   "codemirror_mode": {
    "name": "ipython",
    "version": 3
   },
   "file_extension": ".py",
   "mimetype": "text/x-python",
   "name": "python",
   "nbconvert_exporter": "python",
   "pygments_lexer": "ipython3",
   "version": "3.10.9"
  },
  "toc": {
   "base_numbering": 1,
   "nav_menu": {},
   "number_sections": true,
   "sideBar": true,
   "skip_h1_title": true,
   "title_cell": "Содержание",
   "title_sidebar": "Contents",
   "toc_cell": true,
   "toc_position": {},
   "toc_section_display": true,
   "toc_window_display": false
  }
 },
 "nbformat": 4,
 "nbformat_minor": 2
}
