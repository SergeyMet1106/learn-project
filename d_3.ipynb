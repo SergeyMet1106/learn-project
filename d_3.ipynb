{
 "cells": [
  {
   "cell_type": "markdown",
   "metadata": {},
   "source": [
    "<div style=\"border:solid Chocolate 2px; padding: 40px\">\n",
    " \n",
    "<b> Сергей, привет!👋</b>  \n",
    "\n",
    "Меня зовут Кирилл Васильев, я буду ревьюером твоего проекта. Я предлагаю общаться на «ты», но если привычнее на «вы», просто скажи об этом! \n",
    "\n",
    "Я буду оставлять комментарии в твоем проекте. Пожалуйста, не удаляй их, они могут быть полезны в случае повторной проверки.\n",
    "\n",
    "Ты можешь реагировать на комментарии как просто написав их в Markdown-ячейках, так и выделив их цветом. Например, <font color='blue'>синим</font>. Второй способ, на мой взгляд, удобнее.\n",
    "\n",
    "Свои комментарии я буду обозначать <font color='green'>зеленым</font>, <font color='gold'>желтым</font> и <font color='red'>красным</font> цветами, например:\n",
    "  \n",
    "<br/>\n",
    "\n",
    "<div class=\"alert alert-success\">\n",
    "<h2> Комментарий ревьюера <a class=\"tocSkip\"> </h2>\n",
    "\n",
    "<b>Все отлично!👍:</b> В случае, если решение на отдельном шаге является полностью правильным. Здесь же я могу давать советы и предложения.\n",
    "</div>\n",
    "\n",
    "<br/>\n",
    "\n",
    "<div class=\"alert alert-warning\">\n",
    "    <h2> Комментарий ревьюера <a class=\"tocSkip\"> </h2>\n",
    "    \n",
    "<b>Некоторые замечания и рекомендации💡:</b> В случае, когда решение на отдельном шаге станет еще лучше, если внести небольшие коррективы.\n",
    "</div>\n",
    "\n",
    "\n",
    "<br/>\n",
    "<div class=\"alert alert-block alert-danger\">\n",
    "<h2> Комментарий ревьюера <a class=\"tocSkip\"></h2>\n",
    "\n",
    "    \n",
    "<b>На доработку🤔:</b>\n",
    " В случае, когда решение на отдельном шаге требует существенной переработки и внесения правок. Напоминаю, что проект не может быть принят с первого раза, если ревью содержит комментарии, рекомендующие доработать шаги.\n",
    "</div>\n",
    "    \n",
    "Увидев у тебя неточность, в первый раз я лишь укажу на ее наличие и дам тебе возможность самому найти и исправить ее. На реальной работе твой руководитель будет поступать также. Но если ты пока не справишься с такой задачей - при следующей проверке я дам более точную подсказку! "
   ]
  },
  {
   "cell_type": "markdown",
   "metadata": {
    "toc": true
   },
   "source": [
    "<h1>Содержание<span class=\"tocSkip\"></span></h1>\n",
    "<div class=\"toc\"><ul class=\"toc-item\"><li><span><a href=\"#Подготовка-данных\" data-toc-modified-id=\"Подготовка-данных-1\"><span class=\"toc-item-num\">1&nbsp;&nbsp;</span>Подготовка данных</a></span></li><li><span><a href=\"#Исследование-задачи\" data-toc-modified-id=\"Исследование-задачи-2\"><span class=\"toc-item-num\">2&nbsp;&nbsp;</span>Исследование задачи</a></span></li><li><span><a href=\"#Исследование-моделей-с-применением-методик-борьбы-с-дисбалансом-классов\" data-toc-modified-id=\"Исследование-моделей-с-применением-методик-борьбы-с-дисбалансом-классов-3\"><span class=\"toc-item-num\">3&nbsp;&nbsp;</span>Исследование моделей с применением методик борьбы с дисбалансом классов</a></span></li><li><span><a href=\"#Тестируем-модели-с-наилучшими-гиперпараметрами.\" data-toc-modified-id=\"Тестируем-модели-с-наилучшими-гиперпараметрами.-4\"><span class=\"toc-item-num\">4&nbsp;&nbsp;</span>Тестируем модели с наилучшими гиперпараметрами.</a></span><ul class=\"toc-item\"><li><span><a href=\"#Вывод:\" data-toc-modified-id=\"Вывод:-4.1\"><span class=\"toc-item-num\">4.1&nbsp;&nbsp;</span>Вывод:</a></span></li></ul></li><li><span><a href=\"#Чек-лист-готовности-проекта\" data-toc-modified-id=\"Чек-лист-готовности-проекта-5\"><span class=\"toc-item-num\">5&nbsp;&nbsp;</span>Чек-лист готовности проекта</a></span></li></ul></div>"
   ]
  },
  {
   "cell_type": "markdown",
   "metadata": {},
   "source": [
    "# Отток клиентов"
   ]
  },
  {
   "cell_type": "markdown",
   "metadata": {},
   "source": [
    "Из «Бета-Банка» стали уходить клиенты. Каждый месяц. Немного, но заметно. Банковские маркетологи посчитали: сохранять текущих клиентов дешевле, чем привлекать новых.\n",
    "\n",
    "Нужно спрогнозировать, уйдёт клиент из банка в ближайшее время или нет. Вам предоставлены исторические данные о поведении клиентов и расторжении договоров с банком. \n",
    "\n",
    "Постройте модель с предельно большим значением *F1*-меры. Чтобы сдать проект успешно, нужно довести метрику до 0.59. Проверьте *F1*-меру на тестовой выборке самостоятельно.\n",
    "\n",
    "Дополнительно измеряйте *AUC-ROC*, сравнивайте её значение с *F1*-мерой.\n",
    "\n",
    "Источник данных: [https://www.kaggle.com/barelydedicated/bank-customer-churn-modeling](https://www.kaggle.com/barelydedicated/bank-customer-churn-modeling)"
   ]
  },
  {
   "cell_type": "markdown",
   "metadata": {},
   "source": [
    "## Подготовка данных"
   ]
  },
  {
   "cell_type": "markdown",
   "metadata": {},
   "source": [
    "Импортируем все инсрументы необходимые для работы. "
   ]
  },
  {
   "cell_type": "code",
   "execution_count": 1,
   "metadata": {},
   "outputs": [],
   "source": [
    "import pandas as pd\n",
    "from sklearn.model_selection import train_test_split\n",
    "import numpy as np\n",
    "from sklearn.preprocessing import StandardScaler\n",
    "pd.options.mode.chained_assignment = None\n",
    "from sklearn.metrics import accuracy_score, mean_squared_error, r2_score\n",
    "from sklearn.metrics import f1_score\n",
    "from sklearn.metrics import recall_score , precision_score\n",
    "from sklearn.tree import DecisionTreeClassifier\n",
    "from sklearn.ensemble import RandomForestRegressor\n",
    "from sklearn.ensemble import RandomForestClassifier\n",
    "from sklearn.linear_model import LogisticRegression\n",
    "from sklearn.utils import shuffle\n",
    "from sklearn.metrics import roc_auc_score\n",
    "from sklearn.metrics import roc_curve\n",
    "import matplotlib.pyplot as plt"
   ]
  },
  {
   "cell_type": "markdown",
   "metadata": {},
   "source": [
    "<div class=\"alert alert-warning\">\n",
    "<h2> Комментарий ревьюера <a class=\"tocSkip\"> </h2>\n",
    "    \n",
    "<b>Некоторые замечания и рекомендации💡:</b> \n",
    "    \n",
    "Все ли импорты нужны?  mean_squared_error, r2_score, RandomForestRegressor - это все относится к задаче регрессии, у нас же классификация в этом проекте.\n",
    "    \n",
    "***\n",
    "    \n",
    "Если загружаем несколько функций из одного пакета, то удобнее записать это через запятую.\n",
    "    \n",
    "`from sklearn.metrics import f1_score, roc_auc_score`\n",
    "    \n",
    "А если через запятую будет больше трех позиций, в таком случае здесь было бы идеально привести оформление в соответствие с <a href=\"https://pythonworld.ru/osnovy/pep-8-rukovodstvo-po-napisaniyu-koda-na-python.html\">pep8</a> - не оставлять длинных строк. \n",
    "\n",
    "Такое оформление предпочтительнее:    \n",
    "    \n",
    "`from sklearn.metrics import (\n",
    "    accuracy_score, \n",
    "    confusion_matrix, \n",
    "    f1_score,\n",
    "    roc_auc_score\n",
    ")`\n",
    "    \n",
    "        \n",
    "</div>\n"
   ]
  },
  {
   "cell_type": "markdown",
   "metadata": {},
   "source": [
    "Загружаем фаил с данными."
   ]
  },
  {
   "cell_type": "code",
   "execution_count": 2,
   "metadata": {},
   "outputs": [],
   "source": [
    "data = pd.read_csv(\"/datasets/Churn.csv\")"
   ]
  },
  {
   "cell_type": "markdown",
   "metadata": {},
   "source": [
    "Посмотрим на первые 45 стпрочек таблицсы, проведем визуальный анализ."
   ]
  },
  {
   "cell_type": "code",
   "execution_count": 3,
   "metadata": {},
   "outputs": [
    {
     "data": {
      "text/html": [
       "<div>\n",
       "<style scoped>\n",
       "    .dataframe tbody tr th:only-of-type {\n",
       "        vertical-align: middle;\n",
       "    }\n",
       "\n",
       "    .dataframe tbody tr th {\n",
       "        vertical-align: top;\n",
       "    }\n",
       "\n",
       "    .dataframe thead th {\n",
       "        text-align: right;\n",
       "    }\n",
       "</style>\n",
       "<table border=\"1\" class=\"dataframe\">\n",
       "  <thead>\n",
       "    <tr style=\"text-align: right;\">\n",
       "      <th></th>\n",
       "      <th>RowNumber</th>\n",
       "      <th>CustomerId</th>\n",
       "      <th>Surname</th>\n",
       "      <th>CreditScore</th>\n",
       "      <th>Geography</th>\n",
       "      <th>Gender</th>\n",
       "      <th>Age</th>\n",
       "      <th>Tenure</th>\n",
       "      <th>Balance</th>\n",
       "      <th>NumOfProducts</th>\n",
       "      <th>HasCrCard</th>\n",
       "      <th>IsActiveMember</th>\n",
       "      <th>EstimatedSalary</th>\n",
       "      <th>Exited</th>\n",
       "    </tr>\n",
       "  </thead>\n",
       "  <tbody>\n",
       "    <tr>\n",
       "      <th>0</th>\n",
       "      <td>1</td>\n",
       "      <td>15634602</td>\n",
       "      <td>Hargrave</td>\n",
       "      <td>619</td>\n",
       "      <td>France</td>\n",
       "      <td>Female</td>\n",
       "      <td>42</td>\n",
       "      <td>2.0</td>\n",
       "      <td>0.00</td>\n",
       "      <td>1</td>\n",
       "      <td>1</td>\n",
       "      <td>1</td>\n",
       "      <td>101348.88</td>\n",
       "      <td>1</td>\n",
       "    </tr>\n",
       "    <tr>\n",
       "      <th>1</th>\n",
       "      <td>2</td>\n",
       "      <td>15647311</td>\n",
       "      <td>Hill</td>\n",
       "      <td>608</td>\n",
       "      <td>Spain</td>\n",
       "      <td>Female</td>\n",
       "      <td>41</td>\n",
       "      <td>1.0</td>\n",
       "      <td>83807.86</td>\n",
       "      <td>1</td>\n",
       "      <td>0</td>\n",
       "      <td>1</td>\n",
       "      <td>112542.58</td>\n",
       "      <td>0</td>\n",
       "    </tr>\n",
       "    <tr>\n",
       "      <th>2</th>\n",
       "      <td>3</td>\n",
       "      <td>15619304</td>\n",
       "      <td>Onio</td>\n",
       "      <td>502</td>\n",
       "      <td>France</td>\n",
       "      <td>Female</td>\n",
       "      <td>42</td>\n",
       "      <td>8.0</td>\n",
       "      <td>159660.80</td>\n",
       "      <td>3</td>\n",
       "      <td>1</td>\n",
       "      <td>0</td>\n",
       "      <td>113931.57</td>\n",
       "      <td>1</td>\n",
       "    </tr>\n",
       "    <tr>\n",
       "      <th>3</th>\n",
       "      <td>4</td>\n",
       "      <td>15701354</td>\n",
       "      <td>Boni</td>\n",
       "      <td>699</td>\n",
       "      <td>France</td>\n",
       "      <td>Female</td>\n",
       "      <td>39</td>\n",
       "      <td>1.0</td>\n",
       "      <td>0.00</td>\n",
       "      <td>2</td>\n",
       "      <td>0</td>\n",
       "      <td>0</td>\n",
       "      <td>93826.63</td>\n",
       "      <td>0</td>\n",
       "    </tr>\n",
       "    <tr>\n",
       "      <th>4</th>\n",
       "      <td>5</td>\n",
       "      <td>15737888</td>\n",
       "      <td>Mitchell</td>\n",
       "      <td>850</td>\n",
       "      <td>Spain</td>\n",
       "      <td>Female</td>\n",
       "      <td>43</td>\n",
       "      <td>2.0</td>\n",
       "      <td>125510.82</td>\n",
       "      <td>1</td>\n",
       "      <td>1</td>\n",
       "      <td>1</td>\n",
       "      <td>79084.10</td>\n",
       "      <td>0</td>\n",
       "    </tr>\n",
       "    <tr>\n",
       "      <th>5</th>\n",
       "      <td>6</td>\n",
       "      <td>15574012</td>\n",
       "      <td>Chu</td>\n",
       "      <td>645</td>\n",
       "      <td>Spain</td>\n",
       "      <td>Male</td>\n",
       "      <td>44</td>\n",
       "      <td>8.0</td>\n",
       "      <td>113755.78</td>\n",
       "      <td>2</td>\n",
       "      <td>1</td>\n",
       "      <td>0</td>\n",
       "      <td>149756.71</td>\n",
       "      <td>1</td>\n",
       "    </tr>\n",
       "    <tr>\n",
       "      <th>6</th>\n",
       "      <td>7</td>\n",
       "      <td>15592531</td>\n",
       "      <td>Bartlett</td>\n",
       "      <td>822</td>\n",
       "      <td>France</td>\n",
       "      <td>Male</td>\n",
       "      <td>50</td>\n",
       "      <td>7.0</td>\n",
       "      <td>0.00</td>\n",
       "      <td>2</td>\n",
       "      <td>1</td>\n",
       "      <td>1</td>\n",
       "      <td>10062.80</td>\n",
       "      <td>0</td>\n",
       "    </tr>\n",
       "    <tr>\n",
       "      <th>7</th>\n",
       "      <td>8</td>\n",
       "      <td>15656148</td>\n",
       "      <td>Obinna</td>\n",
       "      <td>376</td>\n",
       "      <td>Germany</td>\n",
       "      <td>Female</td>\n",
       "      <td>29</td>\n",
       "      <td>4.0</td>\n",
       "      <td>115046.74</td>\n",
       "      <td>4</td>\n",
       "      <td>1</td>\n",
       "      <td>0</td>\n",
       "      <td>119346.88</td>\n",
       "      <td>1</td>\n",
       "    </tr>\n",
       "    <tr>\n",
       "      <th>8</th>\n",
       "      <td>9</td>\n",
       "      <td>15792365</td>\n",
       "      <td>He</td>\n",
       "      <td>501</td>\n",
       "      <td>France</td>\n",
       "      <td>Male</td>\n",
       "      <td>44</td>\n",
       "      <td>4.0</td>\n",
       "      <td>142051.07</td>\n",
       "      <td>2</td>\n",
       "      <td>0</td>\n",
       "      <td>1</td>\n",
       "      <td>74940.50</td>\n",
       "      <td>0</td>\n",
       "    </tr>\n",
       "    <tr>\n",
       "      <th>9</th>\n",
       "      <td>10</td>\n",
       "      <td>15592389</td>\n",
       "      <td>H?</td>\n",
       "      <td>684</td>\n",
       "      <td>France</td>\n",
       "      <td>Male</td>\n",
       "      <td>27</td>\n",
       "      <td>2.0</td>\n",
       "      <td>134603.88</td>\n",
       "      <td>1</td>\n",
       "      <td>1</td>\n",
       "      <td>1</td>\n",
       "      <td>71725.73</td>\n",
       "      <td>0</td>\n",
       "    </tr>\n",
       "    <tr>\n",
       "      <th>10</th>\n",
       "      <td>11</td>\n",
       "      <td>15767821</td>\n",
       "      <td>Bearce</td>\n",
       "      <td>528</td>\n",
       "      <td>France</td>\n",
       "      <td>Male</td>\n",
       "      <td>31</td>\n",
       "      <td>6.0</td>\n",
       "      <td>102016.72</td>\n",
       "      <td>2</td>\n",
       "      <td>0</td>\n",
       "      <td>0</td>\n",
       "      <td>80181.12</td>\n",
       "      <td>0</td>\n",
       "    </tr>\n",
       "    <tr>\n",
       "      <th>11</th>\n",
       "      <td>12</td>\n",
       "      <td>15737173</td>\n",
       "      <td>Andrews</td>\n",
       "      <td>497</td>\n",
       "      <td>Spain</td>\n",
       "      <td>Male</td>\n",
       "      <td>24</td>\n",
       "      <td>3.0</td>\n",
       "      <td>0.00</td>\n",
       "      <td>2</td>\n",
       "      <td>1</td>\n",
       "      <td>0</td>\n",
       "      <td>76390.01</td>\n",
       "      <td>0</td>\n",
       "    </tr>\n",
       "    <tr>\n",
       "      <th>12</th>\n",
       "      <td>13</td>\n",
       "      <td>15632264</td>\n",
       "      <td>Kay</td>\n",
       "      <td>476</td>\n",
       "      <td>France</td>\n",
       "      <td>Female</td>\n",
       "      <td>34</td>\n",
       "      <td>10.0</td>\n",
       "      <td>0.00</td>\n",
       "      <td>2</td>\n",
       "      <td>1</td>\n",
       "      <td>0</td>\n",
       "      <td>26260.98</td>\n",
       "      <td>0</td>\n",
       "    </tr>\n",
       "    <tr>\n",
       "      <th>13</th>\n",
       "      <td>14</td>\n",
       "      <td>15691483</td>\n",
       "      <td>Chin</td>\n",
       "      <td>549</td>\n",
       "      <td>France</td>\n",
       "      <td>Female</td>\n",
       "      <td>25</td>\n",
       "      <td>5.0</td>\n",
       "      <td>0.00</td>\n",
       "      <td>2</td>\n",
       "      <td>0</td>\n",
       "      <td>0</td>\n",
       "      <td>190857.79</td>\n",
       "      <td>0</td>\n",
       "    </tr>\n",
       "    <tr>\n",
       "      <th>14</th>\n",
       "      <td>15</td>\n",
       "      <td>15600882</td>\n",
       "      <td>Scott</td>\n",
       "      <td>635</td>\n",
       "      <td>Spain</td>\n",
       "      <td>Female</td>\n",
       "      <td>35</td>\n",
       "      <td>7.0</td>\n",
       "      <td>0.00</td>\n",
       "      <td>2</td>\n",
       "      <td>1</td>\n",
       "      <td>1</td>\n",
       "      <td>65951.65</td>\n",
       "      <td>0</td>\n",
       "    </tr>\n",
       "    <tr>\n",
       "      <th>15</th>\n",
       "      <td>16</td>\n",
       "      <td>15643966</td>\n",
       "      <td>Goforth</td>\n",
       "      <td>616</td>\n",
       "      <td>Germany</td>\n",
       "      <td>Male</td>\n",
       "      <td>45</td>\n",
       "      <td>3.0</td>\n",
       "      <td>143129.41</td>\n",
       "      <td>2</td>\n",
       "      <td>0</td>\n",
       "      <td>1</td>\n",
       "      <td>64327.26</td>\n",
       "      <td>0</td>\n",
       "    </tr>\n",
       "    <tr>\n",
       "      <th>16</th>\n",
       "      <td>17</td>\n",
       "      <td>15737452</td>\n",
       "      <td>Romeo</td>\n",
       "      <td>653</td>\n",
       "      <td>Germany</td>\n",
       "      <td>Male</td>\n",
       "      <td>58</td>\n",
       "      <td>1.0</td>\n",
       "      <td>132602.88</td>\n",
       "      <td>1</td>\n",
       "      <td>1</td>\n",
       "      <td>0</td>\n",
       "      <td>5097.67</td>\n",
       "      <td>1</td>\n",
       "    </tr>\n",
       "    <tr>\n",
       "      <th>17</th>\n",
       "      <td>18</td>\n",
       "      <td>15788218</td>\n",
       "      <td>Henderson</td>\n",
       "      <td>549</td>\n",
       "      <td>Spain</td>\n",
       "      <td>Female</td>\n",
       "      <td>24</td>\n",
       "      <td>9.0</td>\n",
       "      <td>0.00</td>\n",
       "      <td>2</td>\n",
       "      <td>1</td>\n",
       "      <td>1</td>\n",
       "      <td>14406.41</td>\n",
       "      <td>0</td>\n",
       "    </tr>\n",
       "    <tr>\n",
       "      <th>18</th>\n",
       "      <td>19</td>\n",
       "      <td>15661507</td>\n",
       "      <td>Muldrow</td>\n",
       "      <td>587</td>\n",
       "      <td>Spain</td>\n",
       "      <td>Male</td>\n",
       "      <td>45</td>\n",
       "      <td>6.0</td>\n",
       "      <td>0.00</td>\n",
       "      <td>1</td>\n",
       "      <td>0</td>\n",
       "      <td>0</td>\n",
       "      <td>158684.81</td>\n",
       "      <td>0</td>\n",
       "    </tr>\n",
       "    <tr>\n",
       "      <th>19</th>\n",
       "      <td>20</td>\n",
       "      <td>15568982</td>\n",
       "      <td>Hao</td>\n",
       "      <td>726</td>\n",
       "      <td>France</td>\n",
       "      <td>Female</td>\n",
       "      <td>24</td>\n",
       "      <td>6.0</td>\n",
       "      <td>0.00</td>\n",
       "      <td>2</td>\n",
       "      <td>1</td>\n",
       "      <td>1</td>\n",
       "      <td>54724.03</td>\n",
       "      <td>0</td>\n",
       "    </tr>\n",
       "    <tr>\n",
       "      <th>20</th>\n",
       "      <td>21</td>\n",
       "      <td>15577657</td>\n",
       "      <td>McDonald</td>\n",
       "      <td>732</td>\n",
       "      <td>France</td>\n",
       "      <td>Male</td>\n",
       "      <td>41</td>\n",
       "      <td>8.0</td>\n",
       "      <td>0.00</td>\n",
       "      <td>2</td>\n",
       "      <td>1</td>\n",
       "      <td>1</td>\n",
       "      <td>170886.17</td>\n",
       "      <td>0</td>\n",
       "    </tr>\n",
       "    <tr>\n",
       "      <th>21</th>\n",
       "      <td>22</td>\n",
       "      <td>15597945</td>\n",
       "      <td>Dellucci</td>\n",
       "      <td>636</td>\n",
       "      <td>Spain</td>\n",
       "      <td>Female</td>\n",
       "      <td>32</td>\n",
       "      <td>8.0</td>\n",
       "      <td>0.00</td>\n",
       "      <td>2</td>\n",
       "      <td>1</td>\n",
       "      <td>0</td>\n",
       "      <td>138555.46</td>\n",
       "      <td>0</td>\n",
       "    </tr>\n",
       "    <tr>\n",
       "      <th>22</th>\n",
       "      <td>23</td>\n",
       "      <td>15699309</td>\n",
       "      <td>Gerasimov</td>\n",
       "      <td>510</td>\n",
       "      <td>Spain</td>\n",
       "      <td>Female</td>\n",
       "      <td>38</td>\n",
       "      <td>4.0</td>\n",
       "      <td>0.00</td>\n",
       "      <td>1</td>\n",
       "      <td>1</td>\n",
       "      <td>0</td>\n",
       "      <td>118913.53</td>\n",
       "      <td>1</td>\n",
       "    </tr>\n",
       "    <tr>\n",
       "      <th>23</th>\n",
       "      <td>24</td>\n",
       "      <td>15725737</td>\n",
       "      <td>Mosman</td>\n",
       "      <td>669</td>\n",
       "      <td>France</td>\n",
       "      <td>Male</td>\n",
       "      <td>46</td>\n",
       "      <td>3.0</td>\n",
       "      <td>0.00</td>\n",
       "      <td>2</td>\n",
       "      <td>0</td>\n",
       "      <td>1</td>\n",
       "      <td>8487.75</td>\n",
       "      <td>0</td>\n",
       "    </tr>\n",
       "    <tr>\n",
       "      <th>24</th>\n",
       "      <td>25</td>\n",
       "      <td>15625047</td>\n",
       "      <td>Yen</td>\n",
       "      <td>846</td>\n",
       "      <td>France</td>\n",
       "      <td>Female</td>\n",
       "      <td>38</td>\n",
       "      <td>5.0</td>\n",
       "      <td>0.00</td>\n",
       "      <td>1</td>\n",
       "      <td>1</td>\n",
       "      <td>1</td>\n",
       "      <td>187616.16</td>\n",
       "      <td>0</td>\n",
       "    </tr>\n",
       "    <tr>\n",
       "      <th>25</th>\n",
       "      <td>26</td>\n",
       "      <td>15738191</td>\n",
       "      <td>Maclean</td>\n",
       "      <td>577</td>\n",
       "      <td>France</td>\n",
       "      <td>Male</td>\n",
       "      <td>25</td>\n",
       "      <td>3.0</td>\n",
       "      <td>0.00</td>\n",
       "      <td>2</td>\n",
       "      <td>0</td>\n",
       "      <td>1</td>\n",
       "      <td>124508.29</td>\n",
       "      <td>0</td>\n",
       "    </tr>\n",
       "    <tr>\n",
       "      <th>26</th>\n",
       "      <td>27</td>\n",
       "      <td>15736816</td>\n",
       "      <td>Young</td>\n",
       "      <td>756</td>\n",
       "      <td>Germany</td>\n",
       "      <td>Male</td>\n",
       "      <td>36</td>\n",
       "      <td>2.0</td>\n",
       "      <td>136815.64</td>\n",
       "      <td>1</td>\n",
       "      <td>1</td>\n",
       "      <td>1</td>\n",
       "      <td>170041.95</td>\n",
       "      <td>0</td>\n",
       "    </tr>\n",
       "    <tr>\n",
       "      <th>27</th>\n",
       "      <td>28</td>\n",
       "      <td>15700772</td>\n",
       "      <td>Nebechi</td>\n",
       "      <td>571</td>\n",
       "      <td>France</td>\n",
       "      <td>Male</td>\n",
       "      <td>44</td>\n",
       "      <td>9.0</td>\n",
       "      <td>0.00</td>\n",
       "      <td>2</td>\n",
       "      <td>0</td>\n",
       "      <td>0</td>\n",
       "      <td>38433.35</td>\n",
       "      <td>0</td>\n",
       "    </tr>\n",
       "    <tr>\n",
       "      <th>28</th>\n",
       "      <td>29</td>\n",
       "      <td>15728693</td>\n",
       "      <td>McWilliams</td>\n",
       "      <td>574</td>\n",
       "      <td>Germany</td>\n",
       "      <td>Female</td>\n",
       "      <td>43</td>\n",
       "      <td>3.0</td>\n",
       "      <td>141349.43</td>\n",
       "      <td>1</td>\n",
       "      <td>1</td>\n",
       "      <td>1</td>\n",
       "      <td>100187.43</td>\n",
       "      <td>0</td>\n",
       "    </tr>\n",
       "    <tr>\n",
       "      <th>29</th>\n",
       "      <td>30</td>\n",
       "      <td>15656300</td>\n",
       "      <td>Lucciano</td>\n",
       "      <td>411</td>\n",
       "      <td>France</td>\n",
       "      <td>Male</td>\n",
       "      <td>29</td>\n",
       "      <td>0.0</td>\n",
       "      <td>59697.17</td>\n",
       "      <td>2</td>\n",
       "      <td>1</td>\n",
       "      <td>1</td>\n",
       "      <td>53483.21</td>\n",
       "      <td>0</td>\n",
       "    </tr>\n",
       "    <tr>\n",
       "      <th>30</th>\n",
       "      <td>31</td>\n",
       "      <td>15589475</td>\n",
       "      <td>Azikiwe</td>\n",
       "      <td>591</td>\n",
       "      <td>Spain</td>\n",
       "      <td>Female</td>\n",
       "      <td>39</td>\n",
       "      <td>NaN</td>\n",
       "      <td>0.00</td>\n",
       "      <td>3</td>\n",
       "      <td>1</td>\n",
       "      <td>0</td>\n",
       "      <td>140469.38</td>\n",
       "      <td>1</td>\n",
       "    </tr>\n",
       "    <tr>\n",
       "      <th>31</th>\n",
       "      <td>32</td>\n",
       "      <td>15706552</td>\n",
       "      <td>Odinakachukwu</td>\n",
       "      <td>533</td>\n",
       "      <td>France</td>\n",
       "      <td>Male</td>\n",
       "      <td>36</td>\n",
       "      <td>7.0</td>\n",
       "      <td>85311.70</td>\n",
       "      <td>1</td>\n",
       "      <td>0</td>\n",
       "      <td>1</td>\n",
       "      <td>156731.91</td>\n",
       "      <td>0</td>\n",
       "    </tr>\n",
       "    <tr>\n",
       "      <th>32</th>\n",
       "      <td>33</td>\n",
       "      <td>15750181</td>\n",
       "      <td>Sanderson</td>\n",
       "      <td>553</td>\n",
       "      <td>Germany</td>\n",
       "      <td>Male</td>\n",
       "      <td>41</td>\n",
       "      <td>9.0</td>\n",
       "      <td>110112.54</td>\n",
       "      <td>2</td>\n",
       "      <td>0</td>\n",
       "      <td>0</td>\n",
       "      <td>81898.81</td>\n",
       "      <td>0</td>\n",
       "    </tr>\n",
       "    <tr>\n",
       "      <th>33</th>\n",
       "      <td>34</td>\n",
       "      <td>15659428</td>\n",
       "      <td>Maggard</td>\n",
       "      <td>520</td>\n",
       "      <td>Spain</td>\n",
       "      <td>Female</td>\n",
       "      <td>42</td>\n",
       "      <td>6.0</td>\n",
       "      <td>0.00</td>\n",
       "      <td>2</td>\n",
       "      <td>1</td>\n",
       "      <td>1</td>\n",
       "      <td>34410.55</td>\n",
       "      <td>0</td>\n",
       "    </tr>\n",
       "    <tr>\n",
       "      <th>34</th>\n",
       "      <td>35</td>\n",
       "      <td>15732963</td>\n",
       "      <td>Clements</td>\n",
       "      <td>722</td>\n",
       "      <td>Spain</td>\n",
       "      <td>Female</td>\n",
       "      <td>29</td>\n",
       "      <td>9.0</td>\n",
       "      <td>0.00</td>\n",
       "      <td>2</td>\n",
       "      <td>1</td>\n",
       "      <td>1</td>\n",
       "      <td>142033.07</td>\n",
       "      <td>0</td>\n",
       "    </tr>\n",
       "    <tr>\n",
       "      <th>35</th>\n",
       "      <td>36</td>\n",
       "      <td>15794171</td>\n",
       "      <td>Lombardo</td>\n",
       "      <td>475</td>\n",
       "      <td>France</td>\n",
       "      <td>Female</td>\n",
       "      <td>45</td>\n",
       "      <td>0.0</td>\n",
       "      <td>134264.04</td>\n",
       "      <td>1</td>\n",
       "      <td>1</td>\n",
       "      <td>0</td>\n",
       "      <td>27822.99</td>\n",
       "      <td>1</td>\n",
       "    </tr>\n",
       "    <tr>\n",
       "      <th>36</th>\n",
       "      <td>37</td>\n",
       "      <td>15788448</td>\n",
       "      <td>Watson</td>\n",
       "      <td>490</td>\n",
       "      <td>Spain</td>\n",
       "      <td>Male</td>\n",
       "      <td>31</td>\n",
       "      <td>3.0</td>\n",
       "      <td>145260.23</td>\n",
       "      <td>1</td>\n",
       "      <td>0</td>\n",
       "      <td>1</td>\n",
       "      <td>114066.77</td>\n",
       "      <td>0</td>\n",
       "    </tr>\n",
       "    <tr>\n",
       "      <th>37</th>\n",
       "      <td>38</td>\n",
       "      <td>15729599</td>\n",
       "      <td>Lorenzo</td>\n",
       "      <td>804</td>\n",
       "      <td>Spain</td>\n",
       "      <td>Male</td>\n",
       "      <td>33</td>\n",
       "      <td>7.0</td>\n",
       "      <td>76548.60</td>\n",
       "      <td>1</td>\n",
       "      <td>0</td>\n",
       "      <td>1</td>\n",
       "      <td>98453.45</td>\n",
       "      <td>0</td>\n",
       "    </tr>\n",
       "    <tr>\n",
       "      <th>38</th>\n",
       "      <td>39</td>\n",
       "      <td>15717426</td>\n",
       "      <td>Armstrong</td>\n",
       "      <td>850</td>\n",
       "      <td>France</td>\n",
       "      <td>Male</td>\n",
       "      <td>36</td>\n",
       "      <td>7.0</td>\n",
       "      <td>0.00</td>\n",
       "      <td>1</td>\n",
       "      <td>1</td>\n",
       "      <td>1</td>\n",
       "      <td>40812.90</td>\n",
       "      <td>0</td>\n",
       "    </tr>\n",
       "    <tr>\n",
       "      <th>39</th>\n",
       "      <td>40</td>\n",
       "      <td>15585768</td>\n",
       "      <td>Cameron</td>\n",
       "      <td>582</td>\n",
       "      <td>Germany</td>\n",
       "      <td>Male</td>\n",
       "      <td>41</td>\n",
       "      <td>6.0</td>\n",
       "      <td>70349.48</td>\n",
       "      <td>2</td>\n",
       "      <td>0</td>\n",
       "      <td>1</td>\n",
       "      <td>178074.04</td>\n",
       "      <td>0</td>\n",
       "    </tr>\n",
       "    <tr>\n",
       "      <th>40</th>\n",
       "      <td>41</td>\n",
       "      <td>15619360</td>\n",
       "      <td>Hsiao</td>\n",
       "      <td>472</td>\n",
       "      <td>Spain</td>\n",
       "      <td>Male</td>\n",
       "      <td>40</td>\n",
       "      <td>4.0</td>\n",
       "      <td>0.00</td>\n",
       "      <td>1</td>\n",
       "      <td>1</td>\n",
       "      <td>0</td>\n",
       "      <td>70154.22</td>\n",
       "      <td>0</td>\n",
       "    </tr>\n",
       "    <tr>\n",
       "      <th>41</th>\n",
       "      <td>42</td>\n",
       "      <td>15738148</td>\n",
       "      <td>Clarke</td>\n",
       "      <td>465</td>\n",
       "      <td>France</td>\n",
       "      <td>Female</td>\n",
       "      <td>51</td>\n",
       "      <td>8.0</td>\n",
       "      <td>122522.32</td>\n",
       "      <td>1</td>\n",
       "      <td>0</td>\n",
       "      <td>0</td>\n",
       "      <td>181297.65</td>\n",
       "      <td>1</td>\n",
       "    </tr>\n",
       "    <tr>\n",
       "      <th>42</th>\n",
       "      <td>43</td>\n",
       "      <td>15687946</td>\n",
       "      <td>Osborne</td>\n",
       "      <td>556</td>\n",
       "      <td>France</td>\n",
       "      <td>Female</td>\n",
       "      <td>61</td>\n",
       "      <td>2.0</td>\n",
       "      <td>117419.35</td>\n",
       "      <td>1</td>\n",
       "      <td>1</td>\n",
       "      <td>1</td>\n",
       "      <td>94153.83</td>\n",
       "      <td>0</td>\n",
       "    </tr>\n",
       "    <tr>\n",
       "      <th>43</th>\n",
       "      <td>44</td>\n",
       "      <td>15755196</td>\n",
       "      <td>Lavine</td>\n",
       "      <td>834</td>\n",
       "      <td>France</td>\n",
       "      <td>Female</td>\n",
       "      <td>49</td>\n",
       "      <td>2.0</td>\n",
       "      <td>131394.56</td>\n",
       "      <td>1</td>\n",
       "      <td>0</td>\n",
       "      <td>0</td>\n",
       "      <td>194365.76</td>\n",
       "      <td>1</td>\n",
       "    </tr>\n",
       "    <tr>\n",
       "      <th>44</th>\n",
       "      <td>45</td>\n",
       "      <td>15684171</td>\n",
       "      <td>Bianchi</td>\n",
       "      <td>660</td>\n",
       "      <td>Spain</td>\n",
       "      <td>Female</td>\n",
       "      <td>61</td>\n",
       "      <td>5.0</td>\n",
       "      <td>155931.11</td>\n",
       "      <td>1</td>\n",
       "      <td>1</td>\n",
       "      <td>1</td>\n",
       "      <td>158338.39</td>\n",
       "      <td>0</td>\n",
       "    </tr>\n",
       "  </tbody>\n",
       "</table>\n",
       "</div>"
      ],
      "text/plain": [
       "    RowNumber  CustomerId        Surname  CreditScore Geography  Gender  Age  \\\n",
       "0           1    15634602       Hargrave          619    France  Female   42   \n",
       "1           2    15647311           Hill          608     Spain  Female   41   \n",
       "2           3    15619304           Onio          502    France  Female   42   \n",
       "3           4    15701354           Boni          699    France  Female   39   \n",
       "4           5    15737888       Mitchell          850     Spain  Female   43   \n",
       "5           6    15574012            Chu          645     Spain    Male   44   \n",
       "6           7    15592531       Bartlett          822    France    Male   50   \n",
       "7           8    15656148         Obinna          376   Germany  Female   29   \n",
       "8           9    15792365             He          501    France    Male   44   \n",
       "9          10    15592389             H?          684    France    Male   27   \n",
       "10         11    15767821         Bearce          528    France    Male   31   \n",
       "11         12    15737173        Andrews          497     Spain    Male   24   \n",
       "12         13    15632264            Kay          476    France  Female   34   \n",
       "13         14    15691483           Chin          549    France  Female   25   \n",
       "14         15    15600882          Scott          635     Spain  Female   35   \n",
       "15         16    15643966        Goforth          616   Germany    Male   45   \n",
       "16         17    15737452          Romeo          653   Germany    Male   58   \n",
       "17         18    15788218      Henderson          549     Spain  Female   24   \n",
       "18         19    15661507        Muldrow          587     Spain    Male   45   \n",
       "19         20    15568982            Hao          726    France  Female   24   \n",
       "20         21    15577657       McDonald          732    France    Male   41   \n",
       "21         22    15597945       Dellucci          636     Spain  Female   32   \n",
       "22         23    15699309      Gerasimov          510     Spain  Female   38   \n",
       "23         24    15725737         Mosman          669    France    Male   46   \n",
       "24         25    15625047            Yen          846    France  Female   38   \n",
       "25         26    15738191        Maclean          577    France    Male   25   \n",
       "26         27    15736816          Young          756   Germany    Male   36   \n",
       "27         28    15700772        Nebechi          571    France    Male   44   \n",
       "28         29    15728693     McWilliams          574   Germany  Female   43   \n",
       "29         30    15656300       Lucciano          411    France    Male   29   \n",
       "30         31    15589475        Azikiwe          591     Spain  Female   39   \n",
       "31         32    15706552  Odinakachukwu          533    France    Male   36   \n",
       "32         33    15750181      Sanderson          553   Germany    Male   41   \n",
       "33         34    15659428        Maggard          520     Spain  Female   42   \n",
       "34         35    15732963       Clements          722     Spain  Female   29   \n",
       "35         36    15794171       Lombardo          475    France  Female   45   \n",
       "36         37    15788448         Watson          490     Spain    Male   31   \n",
       "37         38    15729599        Lorenzo          804     Spain    Male   33   \n",
       "38         39    15717426      Armstrong          850    France    Male   36   \n",
       "39         40    15585768        Cameron          582   Germany    Male   41   \n",
       "40         41    15619360          Hsiao          472     Spain    Male   40   \n",
       "41         42    15738148         Clarke          465    France  Female   51   \n",
       "42         43    15687946        Osborne          556    France  Female   61   \n",
       "43         44    15755196         Lavine          834    France  Female   49   \n",
       "44         45    15684171        Bianchi          660     Spain  Female   61   \n",
       "\n",
       "    Tenure    Balance  NumOfProducts  HasCrCard  IsActiveMember  \\\n",
       "0      2.0       0.00              1          1               1   \n",
       "1      1.0   83807.86              1          0               1   \n",
       "2      8.0  159660.80              3          1               0   \n",
       "3      1.0       0.00              2          0               0   \n",
       "4      2.0  125510.82              1          1               1   \n",
       "5      8.0  113755.78              2          1               0   \n",
       "6      7.0       0.00              2          1               1   \n",
       "7      4.0  115046.74              4          1               0   \n",
       "8      4.0  142051.07              2          0               1   \n",
       "9      2.0  134603.88              1          1               1   \n",
       "10     6.0  102016.72              2          0               0   \n",
       "11     3.0       0.00              2          1               0   \n",
       "12    10.0       0.00              2          1               0   \n",
       "13     5.0       0.00              2          0               0   \n",
       "14     7.0       0.00              2          1               1   \n",
       "15     3.0  143129.41              2          0               1   \n",
       "16     1.0  132602.88              1          1               0   \n",
       "17     9.0       0.00              2          1               1   \n",
       "18     6.0       0.00              1          0               0   \n",
       "19     6.0       0.00              2          1               1   \n",
       "20     8.0       0.00              2          1               1   \n",
       "21     8.0       0.00              2          1               0   \n",
       "22     4.0       0.00              1          1               0   \n",
       "23     3.0       0.00              2          0               1   \n",
       "24     5.0       0.00              1          1               1   \n",
       "25     3.0       0.00              2          0               1   \n",
       "26     2.0  136815.64              1          1               1   \n",
       "27     9.0       0.00              2          0               0   \n",
       "28     3.0  141349.43              1          1               1   \n",
       "29     0.0   59697.17              2          1               1   \n",
       "30     NaN       0.00              3          1               0   \n",
       "31     7.0   85311.70              1          0               1   \n",
       "32     9.0  110112.54              2          0               0   \n",
       "33     6.0       0.00              2          1               1   \n",
       "34     9.0       0.00              2          1               1   \n",
       "35     0.0  134264.04              1          1               0   \n",
       "36     3.0  145260.23              1          0               1   \n",
       "37     7.0   76548.60              1          0               1   \n",
       "38     7.0       0.00              1          1               1   \n",
       "39     6.0   70349.48              2          0               1   \n",
       "40     4.0       0.00              1          1               0   \n",
       "41     8.0  122522.32              1          0               0   \n",
       "42     2.0  117419.35              1          1               1   \n",
       "43     2.0  131394.56              1          0               0   \n",
       "44     5.0  155931.11              1          1               1   \n",
       "\n",
       "    EstimatedSalary  Exited  \n",
       "0         101348.88       1  \n",
       "1         112542.58       0  \n",
       "2         113931.57       1  \n",
       "3          93826.63       0  \n",
       "4          79084.10       0  \n",
       "5         149756.71       1  \n",
       "6          10062.80       0  \n",
       "7         119346.88       1  \n",
       "8          74940.50       0  \n",
       "9          71725.73       0  \n",
       "10         80181.12       0  \n",
       "11         76390.01       0  \n",
       "12         26260.98       0  \n",
       "13        190857.79       0  \n",
       "14         65951.65       0  \n",
       "15         64327.26       0  \n",
       "16          5097.67       1  \n",
       "17         14406.41       0  \n",
       "18        158684.81       0  \n",
       "19         54724.03       0  \n",
       "20        170886.17       0  \n",
       "21        138555.46       0  \n",
       "22        118913.53       1  \n",
       "23          8487.75       0  \n",
       "24        187616.16       0  \n",
       "25        124508.29       0  \n",
       "26        170041.95       0  \n",
       "27         38433.35       0  \n",
       "28        100187.43       0  \n",
       "29         53483.21       0  \n",
       "30        140469.38       1  \n",
       "31        156731.91       0  \n",
       "32         81898.81       0  \n",
       "33         34410.55       0  \n",
       "34        142033.07       0  \n",
       "35         27822.99       1  \n",
       "36        114066.77       0  \n",
       "37         98453.45       0  \n",
       "38         40812.90       0  \n",
       "39        178074.04       0  \n",
       "40         70154.22       0  \n",
       "41        181297.65       1  \n",
       "42         94153.83       0  \n",
       "43        194365.76       1  \n",
       "44        158338.39       0  "
      ]
     },
     "execution_count": 3,
     "metadata": {},
     "output_type": "execute_result"
    }
   ],
   "source": [
    "data.head(45)"
   ]
  },
  {
   "cell_type": "markdown",
   "metadata": {},
   "source": [
    "Посмотрим общию информацию и данных."
   ]
  },
  {
   "cell_type": "code",
   "execution_count": 4,
   "metadata": {},
   "outputs": [
    {
     "name": "stdout",
     "output_type": "stream",
     "text": [
      "<class 'pandas.core.frame.DataFrame'>\n",
      "RangeIndex: 10000 entries, 0 to 9999\n",
      "Data columns (total 14 columns):\n",
      " #   Column           Non-Null Count  Dtype  \n",
      "---  ------           --------------  -----  \n",
      " 0   RowNumber        10000 non-null  int64  \n",
      " 1   CustomerId       10000 non-null  int64  \n",
      " 2   Surname          10000 non-null  object \n",
      " 3   CreditScore      10000 non-null  int64  \n",
      " 4   Geography        10000 non-null  object \n",
      " 5   Gender           10000 non-null  object \n",
      " 6   Age              10000 non-null  int64  \n",
      " 7   Tenure           9091 non-null   float64\n",
      " 8   Balance          10000 non-null  float64\n",
      " 9   NumOfProducts    10000 non-null  int64  \n",
      " 10  HasCrCard        10000 non-null  int64  \n",
      " 11  IsActiveMember   10000 non-null  int64  \n",
      " 12  EstimatedSalary  10000 non-null  float64\n",
      " 13  Exited           10000 non-null  int64  \n",
      "dtypes: float64(3), int64(8), object(3)\n",
      "memory usage: 1.1+ MB\n"
     ]
    }
   ],
   "source": [
    "data.info()"
   ]
  },
  {
   "cell_type": "markdown",
   "metadata": {},
   "source": [
    "Проверим на пропуски в столбцах."
   ]
  },
  {
   "cell_type": "code",
   "execution_count": 5,
   "metadata": {},
   "outputs": [
    {
     "data": {
      "text/plain": [
       "RowNumber            0\n",
       "CustomerId           0\n",
       "Surname              0\n",
       "CreditScore          0\n",
       "Geography            0\n",
       "Gender               0\n",
       "Age                  0\n",
       "Tenure             909\n",
       "Balance              0\n",
       "NumOfProducts        0\n",
       "HasCrCard            0\n",
       "IsActiveMember       0\n",
       "EstimatedSalary      0\n",
       "Exited               0\n",
       "dtype: int64"
      ]
     },
     "execution_count": 5,
     "metadata": {},
     "output_type": "execute_result"
    }
   ],
   "source": [
    "data.isna().sum()"
   ]
  },
  {
   "cell_type": "markdown",
   "metadata": {},
   "source": [
    "В столбце Tenure(сколько лет человек является клиентом банка) 909 пропусков. Посмотрим\n",
    "на эти строчки, чтобы предположить причину пропусков."
   ]
  },
  {
   "cell_type": "code",
   "execution_count": 6,
   "metadata": {},
   "outputs": [
    {
     "data": {
      "text/html": [
       "<div>\n",
       "<style scoped>\n",
       "    .dataframe tbody tr th:only-of-type {\n",
       "        vertical-align: middle;\n",
       "    }\n",
       "\n",
       "    .dataframe tbody tr th {\n",
       "        vertical-align: top;\n",
       "    }\n",
       "\n",
       "    .dataframe thead th {\n",
       "        text-align: right;\n",
       "    }\n",
       "</style>\n",
       "<table border=\"1\" class=\"dataframe\">\n",
       "  <thead>\n",
       "    <tr style=\"text-align: right;\">\n",
       "      <th></th>\n",
       "      <th>RowNumber</th>\n",
       "      <th>CustomerId</th>\n",
       "      <th>Surname</th>\n",
       "      <th>CreditScore</th>\n",
       "      <th>Geography</th>\n",
       "      <th>Gender</th>\n",
       "      <th>Age</th>\n",
       "      <th>Tenure</th>\n",
       "      <th>Balance</th>\n",
       "      <th>NumOfProducts</th>\n",
       "      <th>HasCrCard</th>\n",
       "      <th>IsActiveMember</th>\n",
       "      <th>EstimatedSalary</th>\n",
       "      <th>Exited</th>\n",
       "    </tr>\n",
       "  </thead>\n",
       "  <tbody>\n",
       "    <tr>\n",
       "      <th>30</th>\n",
       "      <td>31</td>\n",
       "      <td>15589475</td>\n",
       "      <td>Azikiwe</td>\n",
       "      <td>591</td>\n",
       "      <td>Spain</td>\n",
       "      <td>Female</td>\n",
       "      <td>39</td>\n",
       "      <td>NaN</td>\n",
       "      <td>0.00</td>\n",
       "      <td>3</td>\n",
       "      <td>1</td>\n",
       "      <td>0</td>\n",
       "      <td>140469.38</td>\n",
       "      <td>1</td>\n",
       "    </tr>\n",
       "    <tr>\n",
       "      <th>48</th>\n",
       "      <td>49</td>\n",
       "      <td>15766205</td>\n",
       "      <td>Yin</td>\n",
       "      <td>550</td>\n",
       "      <td>Germany</td>\n",
       "      <td>Male</td>\n",
       "      <td>38</td>\n",
       "      <td>NaN</td>\n",
       "      <td>103391.38</td>\n",
       "      <td>1</td>\n",
       "      <td>0</td>\n",
       "      <td>1</td>\n",
       "      <td>90878.13</td>\n",
       "      <td>0</td>\n",
       "    </tr>\n",
       "    <tr>\n",
       "      <th>51</th>\n",
       "      <td>52</td>\n",
       "      <td>15768193</td>\n",
       "      <td>Trevisani</td>\n",
       "      <td>585</td>\n",
       "      <td>Germany</td>\n",
       "      <td>Male</td>\n",
       "      <td>36</td>\n",
       "      <td>NaN</td>\n",
       "      <td>146050.97</td>\n",
       "      <td>2</td>\n",
       "      <td>0</td>\n",
       "      <td>0</td>\n",
       "      <td>86424.57</td>\n",
       "      <td>0</td>\n",
       "    </tr>\n",
       "    <tr>\n",
       "      <th>53</th>\n",
       "      <td>54</td>\n",
       "      <td>15702298</td>\n",
       "      <td>Parkhill</td>\n",
       "      <td>655</td>\n",
       "      <td>Germany</td>\n",
       "      <td>Male</td>\n",
       "      <td>41</td>\n",
       "      <td>NaN</td>\n",
       "      <td>125561.97</td>\n",
       "      <td>1</td>\n",
       "      <td>0</td>\n",
       "      <td>0</td>\n",
       "      <td>164040.94</td>\n",
       "      <td>1</td>\n",
       "    </tr>\n",
       "    <tr>\n",
       "      <th>60</th>\n",
       "      <td>61</td>\n",
       "      <td>15651280</td>\n",
       "      <td>Hunter</td>\n",
       "      <td>742</td>\n",
       "      <td>Germany</td>\n",
       "      <td>Male</td>\n",
       "      <td>35</td>\n",
       "      <td>NaN</td>\n",
       "      <td>136857.00</td>\n",
       "      <td>1</td>\n",
       "      <td>0</td>\n",
       "      <td>0</td>\n",
       "      <td>84509.57</td>\n",
       "      <td>0</td>\n",
       "    </tr>\n",
       "    <tr>\n",
       "      <th>82</th>\n",
       "      <td>83</td>\n",
       "      <td>15641732</td>\n",
       "      <td>Mills</td>\n",
       "      <td>543</td>\n",
       "      <td>France</td>\n",
       "      <td>Female</td>\n",
       "      <td>36</td>\n",
       "      <td>NaN</td>\n",
       "      <td>0.00</td>\n",
       "      <td>2</td>\n",
       "      <td>0</td>\n",
       "      <td>0</td>\n",
       "      <td>26019.59</td>\n",
       "      <td>0</td>\n",
       "    </tr>\n",
       "    <tr>\n",
       "      <th>85</th>\n",
       "      <td>86</td>\n",
       "      <td>15805254</td>\n",
       "      <td>Ndukaku</td>\n",
       "      <td>652</td>\n",
       "      <td>Spain</td>\n",
       "      <td>Female</td>\n",
       "      <td>75</td>\n",
       "      <td>NaN</td>\n",
       "      <td>0.00</td>\n",
       "      <td>2</td>\n",
       "      <td>1</td>\n",
       "      <td>1</td>\n",
       "      <td>114675.75</td>\n",
       "      <td>0</td>\n",
       "    </tr>\n",
       "    <tr>\n",
       "      <th>94</th>\n",
       "      <td>95</td>\n",
       "      <td>15676966</td>\n",
       "      <td>Capon</td>\n",
       "      <td>730</td>\n",
       "      <td>Spain</td>\n",
       "      <td>Male</td>\n",
       "      <td>42</td>\n",
       "      <td>NaN</td>\n",
       "      <td>0.00</td>\n",
       "      <td>2</td>\n",
       "      <td>0</td>\n",
       "      <td>1</td>\n",
       "      <td>85982.47</td>\n",
       "      <td>0</td>\n",
       "    </tr>\n",
       "    <tr>\n",
       "      <th>99</th>\n",
       "      <td>100</td>\n",
       "      <td>15633059</td>\n",
       "      <td>Fanucci</td>\n",
       "      <td>413</td>\n",
       "      <td>France</td>\n",
       "      <td>Male</td>\n",
       "      <td>34</td>\n",
       "      <td>NaN</td>\n",
       "      <td>0.00</td>\n",
       "      <td>2</td>\n",
       "      <td>0</td>\n",
       "      <td>0</td>\n",
       "      <td>6534.18</td>\n",
       "      <td>0</td>\n",
       "    </tr>\n",
       "    <tr>\n",
       "      <th>111</th>\n",
       "      <td>112</td>\n",
       "      <td>15665790</td>\n",
       "      <td>Rowntree</td>\n",
       "      <td>538</td>\n",
       "      <td>Germany</td>\n",
       "      <td>Male</td>\n",
       "      <td>39</td>\n",
       "      <td>NaN</td>\n",
       "      <td>108055.10</td>\n",
       "      <td>2</td>\n",
       "      <td>1</td>\n",
       "      <td>0</td>\n",
       "      <td>27231.26</td>\n",
       "      <td>0</td>\n",
       "    </tr>\n",
       "    <tr>\n",
       "      <th>123</th>\n",
       "      <td>124</td>\n",
       "      <td>15760085</td>\n",
       "      <td>Calabresi</td>\n",
       "      <td>684</td>\n",
       "      <td>Germany</td>\n",
       "      <td>Female</td>\n",
       "      <td>48</td>\n",
       "      <td>NaN</td>\n",
       "      <td>126384.42</td>\n",
       "      <td>1</td>\n",
       "      <td>1</td>\n",
       "      <td>1</td>\n",
       "      <td>198129.36</td>\n",
       "      <td>0</td>\n",
       "    </tr>\n",
       "    <tr>\n",
       "      <th>125</th>\n",
       "      <td>126</td>\n",
       "      <td>15627360</td>\n",
       "      <td>Fuller</td>\n",
       "      <td>432</td>\n",
       "      <td>France</td>\n",
       "      <td>Male</td>\n",
       "      <td>42</td>\n",
       "      <td>NaN</td>\n",
       "      <td>152603.45</td>\n",
       "      <td>1</td>\n",
       "      <td>1</td>\n",
       "      <td>0</td>\n",
       "      <td>110265.24</td>\n",
       "      <td>1</td>\n",
       "    </tr>\n",
       "    <tr>\n",
       "      <th>146</th>\n",
       "      <td>147</td>\n",
       "      <td>15705707</td>\n",
       "      <td>Bennelong</td>\n",
       "      <td>635</td>\n",
       "      <td>Spain</td>\n",
       "      <td>Female</td>\n",
       "      <td>29</td>\n",
       "      <td>NaN</td>\n",
       "      <td>138296.94</td>\n",
       "      <td>2</td>\n",
       "      <td>1</td>\n",
       "      <td>0</td>\n",
       "      <td>141075.51</td>\n",
       "      <td>0</td>\n",
       "    </tr>\n",
       "    <tr>\n",
       "      <th>162</th>\n",
       "      <td>163</td>\n",
       "      <td>15630910</td>\n",
       "      <td>Treacy</td>\n",
       "      <td>800</td>\n",
       "      <td>France</td>\n",
       "      <td>Female</td>\n",
       "      <td>49</td>\n",
       "      <td>NaN</td>\n",
       "      <td>108007.36</td>\n",
       "      <td>1</td>\n",
       "      <td>0</td>\n",
       "      <td>0</td>\n",
       "      <td>47125.11</td>\n",
       "      <td>0</td>\n",
       "    </tr>\n",
       "    <tr>\n",
       "      <th>173</th>\n",
       "      <td>174</td>\n",
       "      <td>15586310</td>\n",
       "      <td>Ting</td>\n",
       "      <td>578</td>\n",
       "      <td>France</td>\n",
       "      <td>Male</td>\n",
       "      <td>30</td>\n",
       "      <td>NaN</td>\n",
       "      <td>169462.09</td>\n",
       "      <td>1</td>\n",
       "      <td>1</td>\n",
       "      <td>0</td>\n",
       "      <td>112187.11</td>\n",
       "      <td>0</td>\n",
       "    </tr>\n",
       "    <tr>\n",
       "      <th>180</th>\n",
       "      <td>181</td>\n",
       "      <td>15716334</td>\n",
       "      <td>Rozier</td>\n",
       "      <td>850</td>\n",
       "      <td>Spain</td>\n",
       "      <td>Female</td>\n",
       "      <td>45</td>\n",
       "      <td>NaN</td>\n",
       "      <td>122311.21</td>\n",
       "      <td>1</td>\n",
       "      <td>1</td>\n",
       "      <td>1</td>\n",
       "      <td>19482.50</td>\n",
       "      <td>0</td>\n",
       "    </tr>\n",
       "    <tr>\n",
       "      <th>217</th>\n",
       "      <td>218</td>\n",
       "      <td>15786308</td>\n",
       "      <td>Millar</td>\n",
       "      <td>730</td>\n",
       "      <td>Spain</td>\n",
       "      <td>Female</td>\n",
       "      <td>33</td>\n",
       "      <td>NaN</td>\n",
       "      <td>0.00</td>\n",
       "      <td>2</td>\n",
       "      <td>0</td>\n",
       "      <td>0</td>\n",
       "      <td>176576.62</td>\n",
       "      <td>0</td>\n",
       "    </tr>\n",
       "    <tr>\n",
       "      <th>222</th>\n",
       "      <td>223</td>\n",
       "      <td>15727829</td>\n",
       "      <td>McIntyre</td>\n",
       "      <td>567</td>\n",
       "      <td>France</td>\n",
       "      <td>Male</td>\n",
       "      <td>42</td>\n",
       "      <td>NaN</td>\n",
       "      <td>0.00</td>\n",
       "      <td>2</td>\n",
       "      <td>1</td>\n",
       "      <td>1</td>\n",
       "      <td>167984.61</td>\n",
       "      <td>0</td>\n",
       "    </tr>\n",
       "    <tr>\n",
       "      <th>225</th>\n",
       "      <td>226</td>\n",
       "      <td>15699029</td>\n",
       "      <td>Bagley</td>\n",
       "      <td>670</td>\n",
       "      <td>France</td>\n",
       "      <td>Male</td>\n",
       "      <td>37</td>\n",
       "      <td>NaN</td>\n",
       "      <td>170557.91</td>\n",
       "      <td>2</td>\n",
       "      <td>1</td>\n",
       "      <td>0</td>\n",
       "      <td>198252.88</td>\n",
       "      <td>0</td>\n",
       "    </tr>\n",
       "    <tr>\n",
       "      <th>237</th>\n",
       "      <td>238</td>\n",
       "      <td>15764866</td>\n",
       "      <td>Synnot</td>\n",
       "      <td>539</td>\n",
       "      <td>Germany</td>\n",
       "      <td>Female</td>\n",
       "      <td>43</td>\n",
       "      <td>NaN</td>\n",
       "      <td>116220.50</td>\n",
       "      <td>3</td>\n",
       "      <td>1</td>\n",
       "      <td>0</td>\n",
       "      <td>55803.96</td>\n",
       "      <td>1</td>\n",
       "    </tr>\n",
       "    <tr>\n",
       "      <th>254</th>\n",
       "      <td>255</td>\n",
       "      <td>15665834</td>\n",
       "      <td>Cheatham</td>\n",
       "      <td>696</td>\n",
       "      <td>Spain</td>\n",
       "      <td>Male</td>\n",
       "      <td>28</td>\n",
       "      <td>NaN</td>\n",
       "      <td>0.00</td>\n",
       "      <td>1</td>\n",
       "      <td>0</td>\n",
       "      <td>0</td>\n",
       "      <td>176713.47</td>\n",
       "      <td>0</td>\n",
       "    </tr>\n",
       "    <tr>\n",
       "      <th>258</th>\n",
       "      <td>259</td>\n",
       "      <td>15750803</td>\n",
       "      <td>Jess</td>\n",
       "      <td>693</td>\n",
       "      <td>France</td>\n",
       "      <td>Female</td>\n",
       "      <td>30</td>\n",
       "      <td>NaN</td>\n",
       "      <td>127992.25</td>\n",
       "      <td>1</td>\n",
       "      <td>1</td>\n",
       "      <td>1</td>\n",
       "      <td>50457.20</td>\n",
       "      <td>0</td>\n",
       "    </tr>\n",
       "    <tr>\n",
       "      <th>264</th>\n",
       "      <td>265</td>\n",
       "      <td>15700696</td>\n",
       "      <td>Kang</td>\n",
       "      <td>738</td>\n",
       "      <td>Spain</td>\n",
       "      <td>Male</td>\n",
       "      <td>31</td>\n",
       "      <td>NaN</td>\n",
       "      <td>79019.80</td>\n",
       "      <td>1</td>\n",
       "      <td>1</td>\n",
       "      <td>1</td>\n",
       "      <td>18606.23</td>\n",
       "      <td>0</td>\n",
       "    </tr>\n",
       "    <tr>\n",
       "      <th>270</th>\n",
       "      <td>271</td>\n",
       "      <td>15787071</td>\n",
       "      <td>Dulhunty</td>\n",
       "      <td>650</td>\n",
       "      <td>Spain</td>\n",
       "      <td>Male</td>\n",
       "      <td>41</td>\n",
       "      <td>NaN</td>\n",
       "      <td>0.00</td>\n",
       "      <td>2</td>\n",
       "      <td>0</td>\n",
       "      <td>1</td>\n",
       "      <td>191599.67</td>\n",
       "      <td>0</td>\n",
       "    </tr>\n",
       "    <tr>\n",
       "      <th>275</th>\n",
       "      <td>276</td>\n",
       "      <td>15758685</td>\n",
       "      <td>Dubinina</td>\n",
       "      <td>706</td>\n",
       "      <td>Spain</td>\n",
       "      <td>Female</td>\n",
       "      <td>37</td>\n",
       "      <td>NaN</td>\n",
       "      <td>0.00</td>\n",
       "      <td>2</td>\n",
       "      <td>1</td>\n",
       "      <td>1</td>\n",
       "      <td>110899.30</td>\n",
       "      <td>0</td>\n",
       "    </tr>\n",
       "    <tr>\n",
       "      <th>286</th>\n",
       "      <td>287</td>\n",
       "      <td>15573112</td>\n",
       "      <td>Kang</td>\n",
       "      <td>602</td>\n",
       "      <td>Spain</td>\n",
       "      <td>Male</td>\n",
       "      <td>29</td>\n",
       "      <td>NaN</td>\n",
       "      <td>103907.28</td>\n",
       "      <td>1</td>\n",
       "      <td>1</td>\n",
       "      <td>0</td>\n",
       "      <td>161229.84</td>\n",
       "      <td>0</td>\n",
       "    </tr>\n",
       "    <tr>\n",
       "      <th>290</th>\n",
       "      <td>291</td>\n",
       "      <td>15652266</td>\n",
       "      <td>Chidiebele</td>\n",
       "      <td>703</td>\n",
       "      <td>Germany</td>\n",
       "      <td>Male</td>\n",
       "      <td>42</td>\n",
       "      <td>NaN</td>\n",
       "      <td>63227.00</td>\n",
       "      <td>1</td>\n",
       "      <td>0</td>\n",
       "      <td>1</td>\n",
       "      <td>137316.32</td>\n",
       "      <td>0</td>\n",
       "    </tr>\n",
       "    <tr>\n",
       "      <th>320</th>\n",
       "      <td>321</td>\n",
       "      <td>15810834</td>\n",
       "      <td>Gordon</td>\n",
       "      <td>525</td>\n",
       "      <td>Spain</td>\n",
       "      <td>Female</td>\n",
       "      <td>57</td>\n",
       "      <td>NaN</td>\n",
       "      <td>145965.33</td>\n",
       "      <td>1</td>\n",
       "      <td>1</td>\n",
       "      <td>1</td>\n",
       "      <td>64448.36</td>\n",
       "      <td>0</td>\n",
       "    </tr>\n",
       "    <tr>\n",
       "      <th>323</th>\n",
       "      <td>324</td>\n",
       "      <td>15585215</td>\n",
       "      <td>Yuan</td>\n",
       "      <td>763</td>\n",
       "      <td>France</td>\n",
       "      <td>Female</td>\n",
       "      <td>31</td>\n",
       "      <td>NaN</td>\n",
       "      <td>0.00</td>\n",
       "      <td>2</td>\n",
       "      <td>0</td>\n",
       "      <td>0</td>\n",
       "      <td>50404.72</td>\n",
       "      <td>0</td>\n",
       "    </tr>\n",
       "    <tr>\n",
       "      <th>329</th>\n",
       "      <td>330</td>\n",
       "      <td>15624528</td>\n",
       "      <td>L?</td>\n",
       "      <td>664</td>\n",
       "      <td>Germany</td>\n",
       "      <td>Male</td>\n",
       "      <td>26</td>\n",
       "      <td>NaN</td>\n",
       "      <td>116244.14</td>\n",
       "      <td>2</td>\n",
       "      <td>1</td>\n",
       "      <td>1</td>\n",
       "      <td>95145.14</td>\n",
       "      <td>0</td>\n",
       "    </tr>\n",
       "    <tr>\n",
       "      <th>341</th>\n",
       "      <td>342</td>\n",
       "      <td>15786170</td>\n",
       "      <td>Tien</td>\n",
       "      <td>659</td>\n",
       "      <td>France</td>\n",
       "      <td>Male</td>\n",
       "      <td>31</td>\n",
       "      <td>NaN</td>\n",
       "      <td>118342.26</td>\n",
       "      <td>1</td>\n",
       "      <td>0</td>\n",
       "      <td>0</td>\n",
       "      <td>161574.19</td>\n",
       "      <td>0</td>\n",
       "    </tr>\n",
       "    <tr>\n",
       "      <th>347</th>\n",
       "      <td>348</td>\n",
       "      <td>15747358</td>\n",
       "      <td>Russell</td>\n",
       "      <td>643</td>\n",
       "      <td>Germany</td>\n",
       "      <td>Male</td>\n",
       "      <td>59</td>\n",
       "      <td>NaN</td>\n",
       "      <td>170331.37</td>\n",
       "      <td>1</td>\n",
       "      <td>1</td>\n",
       "      <td>1</td>\n",
       "      <td>32171.79</td>\n",
       "      <td>0</td>\n",
       "    </tr>\n",
       "    <tr>\n",
       "      <th>351</th>\n",
       "      <td>352</td>\n",
       "      <td>15593365</td>\n",
       "      <td>Shih</td>\n",
       "      <td>762</td>\n",
       "      <td>Spain</td>\n",
       "      <td>Male</td>\n",
       "      <td>39</td>\n",
       "      <td>NaN</td>\n",
       "      <td>81273.13</td>\n",
       "      <td>1</td>\n",
       "      <td>1</td>\n",
       "      <td>1</td>\n",
       "      <td>18719.67</td>\n",
       "      <td>0</td>\n",
       "    </tr>\n",
       "    <tr>\n",
       "      <th>353</th>\n",
       "      <td>354</td>\n",
       "      <td>15812007</td>\n",
       "      <td>Power</td>\n",
       "      <td>670</td>\n",
       "      <td>Spain</td>\n",
       "      <td>Male</td>\n",
       "      <td>25</td>\n",
       "      <td>NaN</td>\n",
       "      <td>0.00</td>\n",
       "      <td>2</td>\n",
       "      <td>1</td>\n",
       "      <td>1</td>\n",
       "      <td>78358.94</td>\n",
       "      <td>0</td>\n",
       "    </tr>\n",
       "    <tr>\n",
       "      <th>355</th>\n",
       "      <td>356</td>\n",
       "      <td>15739438</td>\n",
       "      <td>Reed</td>\n",
       "      <td>539</td>\n",
       "      <td>France</td>\n",
       "      <td>Male</td>\n",
       "      <td>30</td>\n",
       "      <td>NaN</td>\n",
       "      <td>0.00</td>\n",
       "      <td>2</td>\n",
       "      <td>1</td>\n",
       "      <td>0</td>\n",
       "      <td>160979.66</td>\n",
       "      <td>0</td>\n",
       "    </tr>\n",
       "    <tr>\n",
       "      <th>357</th>\n",
       "      <td>358</td>\n",
       "      <td>15661629</td>\n",
       "      <td>Ricci</td>\n",
       "      <td>522</td>\n",
       "      <td>Spain</td>\n",
       "      <td>Male</td>\n",
       "      <td>34</td>\n",
       "      <td>NaN</td>\n",
       "      <td>126436.29</td>\n",
       "      <td>1</td>\n",
       "      <td>1</td>\n",
       "      <td>0</td>\n",
       "      <td>174248.52</td>\n",
       "      <td>1</td>\n",
       "    </tr>\n",
       "    <tr>\n",
       "      <th>370</th>\n",
       "      <td>371</td>\n",
       "      <td>15611579</td>\n",
       "      <td>Sutherland</td>\n",
       "      <td>801</td>\n",
       "      <td>Spain</td>\n",
       "      <td>Male</td>\n",
       "      <td>42</td>\n",
       "      <td>NaN</td>\n",
       "      <td>141947.67</td>\n",
       "      <td>1</td>\n",
       "      <td>1</td>\n",
       "      <td>1</td>\n",
       "      <td>10598.29</td>\n",
       "      <td>0</td>\n",
       "    </tr>\n",
       "    <tr>\n",
       "      <th>386</th>\n",
       "      <td>387</td>\n",
       "      <td>15721181</td>\n",
       "      <td>Oliver</td>\n",
       "      <td>611</td>\n",
       "      <td>Spain</td>\n",
       "      <td>Male</td>\n",
       "      <td>46</td>\n",
       "      <td>NaN</td>\n",
       "      <td>0.00</td>\n",
       "      <td>2</td>\n",
       "      <td>1</td>\n",
       "      <td>0</td>\n",
       "      <td>45886.33</td>\n",
       "      <td>0</td>\n",
       "    </tr>\n",
       "    <tr>\n",
       "      <th>390</th>\n",
       "      <td>391</td>\n",
       "      <td>15685226</td>\n",
       "      <td>Morrison</td>\n",
       "      <td>712</td>\n",
       "      <td>Germany</td>\n",
       "      <td>Female</td>\n",
       "      <td>29</td>\n",
       "      <td>NaN</td>\n",
       "      <td>147199.07</td>\n",
       "      <td>1</td>\n",
       "      <td>1</td>\n",
       "      <td>1</td>\n",
       "      <td>84932.40</td>\n",
       "      <td>0</td>\n",
       "    </tr>\n",
       "    <tr>\n",
       "      <th>412</th>\n",
       "      <td>413</td>\n",
       "      <td>15686302</td>\n",
       "      <td>Fisk</td>\n",
       "      <td>745</td>\n",
       "      <td>Spain</td>\n",
       "      <td>Female</td>\n",
       "      <td>31</td>\n",
       "      <td>NaN</td>\n",
       "      <td>124328.84</td>\n",
       "      <td>1</td>\n",
       "      <td>1</td>\n",
       "      <td>1</td>\n",
       "      <td>140451.52</td>\n",
       "      <td>0</td>\n",
       "    </tr>\n",
       "    <tr>\n",
       "      <th>413</th>\n",
       "      <td>414</td>\n",
       "      <td>15801559</td>\n",
       "      <td>Chiang</td>\n",
       "      <td>693</td>\n",
       "      <td>Germany</td>\n",
       "      <td>Female</td>\n",
       "      <td>41</td>\n",
       "      <td>NaN</td>\n",
       "      <td>181461.48</td>\n",
       "      <td>3</td>\n",
       "      <td>1</td>\n",
       "      <td>1</td>\n",
       "      <td>187929.43</td>\n",
       "      <td>1</td>\n",
       "    </tr>\n",
       "    <tr>\n",
       "      <th>414</th>\n",
       "      <td>415</td>\n",
       "      <td>15810432</td>\n",
       "      <td>Moseley</td>\n",
       "      <td>795</td>\n",
       "      <td>Spain</td>\n",
       "      <td>Male</td>\n",
       "      <td>35</td>\n",
       "      <td>NaN</td>\n",
       "      <td>0.00</td>\n",
       "      <td>2</td>\n",
       "      <td>1</td>\n",
       "      <td>0</td>\n",
       "      <td>167155.36</td>\n",
       "      <td>0</td>\n",
       "    </tr>\n",
       "    <tr>\n",
       "      <th>424</th>\n",
       "      <td>425</td>\n",
       "      <td>15566111</td>\n",
       "      <td>Estes</td>\n",
       "      <td>596</td>\n",
       "      <td>France</td>\n",
       "      <td>Male</td>\n",
       "      <td>39</td>\n",
       "      <td>NaN</td>\n",
       "      <td>0.00</td>\n",
       "      <td>1</td>\n",
       "      <td>1</td>\n",
       "      <td>0</td>\n",
       "      <td>48963.59</td>\n",
       "      <td>0</td>\n",
       "    </tr>\n",
       "    <tr>\n",
       "      <th>438</th>\n",
       "      <td>439</td>\n",
       "      <td>15783501</td>\n",
       "      <td>Findlay</td>\n",
       "      <td>800</td>\n",
       "      <td>France</td>\n",
       "      <td>Female</td>\n",
       "      <td>38</td>\n",
       "      <td>NaN</td>\n",
       "      <td>168190.33</td>\n",
       "      <td>2</td>\n",
       "      <td>1</td>\n",
       "      <td>0</td>\n",
       "      <td>68052.08</td>\n",
       "      <td>0</td>\n",
       "    </tr>\n",
       "    <tr>\n",
       "      <th>442</th>\n",
       "      <td>443</td>\n",
       "      <td>15672145</td>\n",
       "      <td>Swift</td>\n",
       "      <td>534</td>\n",
       "      <td>France</td>\n",
       "      <td>Female</td>\n",
       "      <td>34</td>\n",
       "      <td>NaN</td>\n",
       "      <td>121551.58</td>\n",
       "      <td>2</td>\n",
       "      <td>1</td>\n",
       "      <td>1</td>\n",
       "      <td>70179.00</td>\n",
       "      <td>0</td>\n",
       "    </tr>\n",
       "    <tr>\n",
       "      <th>460</th>\n",
       "      <td>461</td>\n",
       "      <td>15732778</td>\n",
       "      <td>Templeman</td>\n",
       "      <td>468</td>\n",
       "      <td>Germany</td>\n",
       "      <td>Male</td>\n",
       "      <td>29</td>\n",
       "      <td>NaN</td>\n",
       "      <td>111681.98</td>\n",
       "      <td>2</td>\n",
       "      <td>1</td>\n",
       "      <td>1</td>\n",
       "      <td>195711.16</td>\n",
       "      <td>0</td>\n",
       "    </tr>\n",
       "    <tr>\n",
       "      <th>461</th>\n",
       "      <td>462</td>\n",
       "      <td>15718443</td>\n",
       "      <td>Chibuzo</td>\n",
       "      <td>539</td>\n",
       "      <td>France</td>\n",
       "      <td>Male</td>\n",
       "      <td>39</td>\n",
       "      <td>NaN</td>\n",
       "      <td>0.00</td>\n",
       "      <td>2</td>\n",
       "      <td>1</td>\n",
       "      <td>0</td>\n",
       "      <td>36692.17</td>\n",
       "      <td>0</td>\n",
       "    </tr>\n",
       "    <tr>\n",
       "      <th>463</th>\n",
       "      <td>464</td>\n",
       "      <td>15773792</td>\n",
       "      <td>Evans</td>\n",
       "      <td>662</td>\n",
       "      <td>France</td>\n",
       "      <td>Female</td>\n",
       "      <td>32</td>\n",
       "      <td>NaN</td>\n",
       "      <td>133950.37</td>\n",
       "      <td>1</td>\n",
       "      <td>1</td>\n",
       "      <td>1</td>\n",
       "      <td>48725.68</td>\n",
       "      <td>1</td>\n",
       "    </tr>\n",
       "    <tr>\n",
       "      <th>473</th>\n",
       "      <td>474</td>\n",
       "      <td>15681705</td>\n",
       "      <td>Fanucci</td>\n",
       "      <td>785</td>\n",
       "      <td>France</td>\n",
       "      <td>Male</td>\n",
       "      <td>28</td>\n",
       "      <td>NaN</td>\n",
       "      <td>0.00</td>\n",
       "      <td>2</td>\n",
       "      <td>1</td>\n",
       "      <td>0</td>\n",
       "      <td>77231.27</td>\n",
       "      <td>0</td>\n",
       "    </tr>\n",
       "    <tr>\n",
       "      <th>482</th>\n",
       "      <td>483</td>\n",
       "      <td>15750658</td>\n",
       "      <td>Obiuto</td>\n",
       "      <td>798</td>\n",
       "      <td>France</td>\n",
       "      <td>Male</td>\n",
       "      <td>37</td>\n",
       "      <td>NaN</td>\n",
       "      <td>0.00</td>\n",
       "      <td>3</td>\n",
       "      <td>0</td>\n",
       "      <td>0</td>\n",
       "      <td>110783.28</td>\n",
       "      <td>0</td>\n",
       "    </tr>\n",
       "  </tbody>\n",
       "</table>\n",
       "</div>"
      ],
      "text/plain": [
       "     RowNumber  CustomerId     Surname  CreditScore Geography  Gender  Age  \\\n",
       "30          31    15589475     Azikiwe          591     Spain  Female   39   \n",
       "48          49    15766205         Yin          550   Germany    Male   38   \n",
       "51          52    15768193   Trevisani          585   Germany    Male   36   \n",
       "53          54    15702298    Parkhill          655   Germany    Male   41   \n",
       "60          61    15651280      Hunter          742   Germany    Male   35   \n",
       "82          83    15641732       Mills          543    France  Female   36   \n",
       "85          86    15805254     Ndukaku          652     Spain  Female   75   \n",
       "94          95    15676966       Capon          730     Spain    Male   42   \n",
       "99         100    15633059     Fanucci          413    France    Male   34   \n",
       "111        112    15665790    Rowntree          538   Germany    Male   39   \n",
       "123        124    15760085   Calabresi          684   Germany  Female   48   \n",
       "125        126    15627360      Fuller          432    France    Male   42   \n",
       "146        147    15705707   Bennelong          635     Spain  Female   29   \n",
       "162        163    15630910      Treacy          800    France  Female   49   \n",
       "173        174    15586310        Ting          578    France    Male   30   \n",
       "180        181    15716334      Rozier          850     Spain  Female   45   \n",
       "217        218    15786308      Millar          730     Spain  Female   33   \n",
       "222        223    15727829    McIntyre          567    France    Male   42   \n",
       "225        226    15699029      Bagley          670    France    Male   37   \n",
       "237        238    15764866      Synnot          539   Germany  Female   43   \n",
       "254        255    15665834    Cheatham          696     Spain    Male   28   \n",
       "258        259    15750803        Jess          693    France  Female   30   \n",
       "264        265    15700696        Kang          738     Spain    Male   31   \n",
       "270        271    15787071    Dulhunty          650     Spain    Male   41   \n",
       "275        276    15758685    Dubinina          706     Spain  Female   37   \n",
       "286        287    15573112        Kang          602     Spain    Male   29   \n",
       "290        291    15652266  Chidiebele          703   Germany    Male   42   \n",
       "320        321    15810834      Gordon          525     Spain  Female   57   \n",
       "323        324    15585215        Yuan          763    France  Female   31   \n",
       "329        330    15624528          L?          664   Germany    Male   26   \n",
       "341        342    15786170        Tien          659    France    Male   31   \n",
       "347        348    15747358     Russell          643   Germany    Male   59   \n",
       "351        352    15593365        Shih          762     Spain    Male   39   \n",
       "353        354    15812007       Power          670     Spain    Male   25   \n",
       "355        356    15739438        Reed          539    France    Male   30   \n",
       "357        358    15661629       Ricci          522     Spain    Male   34   \n",
       "370        371    15611579  Sutherland          801     Spain    Male   42   \n",
       "386        387    15721181      Oliver          611     Spain    Male   46   \n",
       "390        391    15685226    Morrison          712   Germany  Female   29   \n",
       "412        413    15686302        Fisk          745     Spain  Female   31   \n",
       "413        414    15801559      Chiang          693   Germany  Female   41   \n",
       "414        415    15810432     Moseley          795     Spain    Male   35   \n",
       "424        425    15566111       Estes          596    France    Male   39   \n",
       "438        439    15783501     Findlay          800    France  Female   38   \n",
       "442        443    15672145       Swift          534    France  Female   34   \n",
       "460        461    15732778   Templeman          468   Germany    Male   29   \n",
       "461        462    15718443     Chibuzo          539    France    Male   39   \n",
       "463        464    15773792       Evans          662    France  Female   32   \n",
       "473        474    15681705     Fanucci          785    France    Male   28   \n",
       "482        483    15750658      Obiuto          798    France    Male   37   \n",
       "\n",
       "     Tenure    Balance  NumOfProducts  HasCrCard  IsActiveMember  \\\n",
       "30      NaN       0.00              3          1               0   \n",
       "48      NaN  103391.38              1          0               1   \n",
       "51      NaN  146050.97              2          0               0   \n",
       "53      NaN  125561.97              1          0               0   \n",
       "60      NaN  136857.00              1          0               0   \n",
       "82      NaN       0.00              2          0               0   \n",
       "85      NaN       0.00              2          1               1   \n",
       "94      NaN       0.00              2          0               1   \n",
       "99      NaN       0.00              2          0               0   \n",
       "111     NaN  108055.10              2          1               0   \n",
       "123     NaN  126384.42              1          1               1   \n",
       "125     NaN  152603.45              1          1               0   \n",
       "146     NaN  138296.94              2          1               0   \n",
       "162     NaN  108007.36              1          0               0   \n",
       "173     NaN  169462.09              1          1               0   \n",
       "180     NaN  122311.21              1          1               1   \n",
       "217     NaN       0.00              2          0               0   \n",
       "222     NaN       0.00              2          1               1   \n",
       "225     NaN  170557.91              2          1               0   \n",
       "237     NaN  116220.50              3          1               0   \n",
       "254     NaN       0.00              1          0               0   \n",
       "258     NaN  127992.25              1          1               1   \n",
       "264     NaN   79019.80              1          1               1   \n",
       "270     NaN       0.00              2          0               1   \n",
       "275     NaN       0.00              2          1               1   \n",
       "286     NaN  103907.28              1          1               0   \n",
       "290     NaN   63227.00              1          0               1   \n",
       "320     NaN  145965.33              1          1               1   \n",
       "323     NaN       0.00              2          0               0   \n",
       "329     NaN  116244.14              2          1               1   \n",
       "341     NaN  118342.26              1          0               0   \n",
       "347     NaN  170331.37              1          1               1   \n",
       "351     NaN   81273.13              1          1               1   \n",
       "353     NaN       0.00              2          1               1   \n",
       "355     NaN       0.00              2          1               0   \n",
       "357     NaN  126436.29              1          1               0   \n",
       "370     NaN  141947.67              1          1               1   \n",
       "386     NaN       0.00              2          1               0   \n",
       "390     NaN  147199.07              1          1               1   \n",
       "412     NaN  124328.84              1          1               1   \n",
       "413     NaN  181461.48              3          1               1   \n",
       "414     NaN       0.00              2          1               0   \n",
       "424     NaN       0.00              1          1               0   \n",
       "438     NaN  168190.33              2          1               0   \n",
       "442     NaN  121551.58              2          1               1   \n",
       "460     NaN  111681.98              2          1               1   \n",
       "461     NaN       0.00              2          1               0   \n",
       "463     NaN  133950.37              1          1               1   \n",
       "473     NaN       0.00              2          1               0   \n",
       "482     NaN       0.00              3          0               0   \n",
       "\n",
       "     EstimatedSalary  Exited  \n",
       "30         140469.38       1  \n",
       "48          90878.13       0  \n",
       "51          86424.57       0  \n",
       "53         164040.94       1  \n",
       "60          84509.57       0  \n",
       "82          26019.59       0  \n",
       "85         114675.75       0  \n",
       "94          85982.47       0  \n",
       "99           6534.18       0  \n",
       "111         27231.26       0  \n",
       "123        198129.36       0  \n",
       "125        110265.24       1  \n",
       "146        141075.51       0  \n",
       "162         47125.11       0  \n",
       "173        112187.11       0  \n",
       "180         19482.50       0  \n",
       "217        176576.62       0  \n",
       "222        167984.61       0  \n",
       "225        198252.88       0  \n",
       "237         55803.96       1  \n",
       "254        176713.47       0  \n",
       "258         50457.20       0  \n",
       "264         18606.23       0  \n",
       "270        191599.67       0  \n",
       "275        110899.30       0  \n",
       "286        161229.84       0  \n",
       "290        137316.32       0  \n",
       "320         64448.36       0  \n",
       "323         50404.72       0  \n",
       "329         95145.14       0  \n",
       "341        161574.19       0  \n",
       "347         32171.79       0  \n",
       "351         18719.67       0  \n",
       "353         78358.94       0  \n",
       "355        160979.66       0  \n",
       "357        174248.52       1  \n",
       "370         10598.29       0  \n",
       "386         45886.33       0  \n",
       "390         84932.40       0  \n",
       "412        140451.52       0  \n",
       "413        187929.43       1  \n",
       "414        167155.36       0  \n",
       "424         48963.59       0  \n",
       "438         68052.08       0  \n",
       "442         70179.00       0  \n",
       "460        195711.16       0  \n",
       "461         36692.17       0  \n",
       "463         48725.68       1  \n",
       "473         77231.27       0  \n",
       "482        110783.28       0  "
      ]
     },
     "execution_count": 6,
     "metadata": {},
     "output_type": "execute_result"
    }
   ],
   "source": [
    "data[data['Tenure'].isna()].head(50)"
   ]
  },
  {
   "cell_type": "markdown",
   "metadata": {},
   "source": [
    "Может быть есть какая то взазь пропусков с уходом клиента из банка. Проверим,\n",
    "если будет ли явный пререкос в данных."
   ]
  },
  {
   "cell_type": "code",
   "execution_count": 7,
   "metadata": {},
   "outputs": [
    {
     "data": {
      "text/plain": [
       "RowNumber          183\n",
       "CustomerId         183\n",
       "Surname            183\n",
       "CreditScore        183\n",
       "Geography          183\n",
       "Gender             183\n",
       "Age                183\n",
       "Tenure               0\n",
       "Balance            183\n",
       "NumOfProducts      183\n",
       "HasCrCard          183\n",
       "IsActiveMember     183\n",
       "EstimatedSalary    183\n",
       "Exited             183\n",
       "dtype: int64"
      ]
     },
     "execution_count": 7,
     "metadata": {},
     "output_type": "execute_result"
    }
   ],
   "source": [
    "data.loc[(data['Exited']==1)& (data['Tenure'].isna())].count()"
   ]
  },
  {
   "cell_type": "markdown",
   "metadata": {},
   "source": [
    "Особых закономерностей первым осмотром не выявленно, связи\n",
    "по пропускам и уход квлиента из банка не обнаружено, примерно 9%\n",
    "ухода клиентов (183)   имеют пропуски в столбце Tenure и примерно\n",
    "9% всей таблицы имеют пропуски в стлбце  Tenure. Исходя из этого\n",
    "можно предположить сто главный признак не связан с уходом клиента\n",
    "из банка. Заменим пропуски на медианное значение этого столбца."
   ]
  },
  {
   "cell_type": "code",
   "execution_count": 8,
   "metadata": {},
   "outputs": [],
   "source": [
    "data['Tenure'] = data['Tenure'].fillna(data['Tenure'].median())"
   ]
  },
  {
   "cell_type": "markdown",
   "metadata": {},
   "source": [
    "<div class=\"alert alert-success\">\n",
    "<h2> Комментарий ревьюера <a class=\"tocSkip\"> </h2>\n",
    "\n",
    "👍 Всё верно  \n",
    "</div> \n",
    "\n",
    "\n",
    "    "
   ]
  },
  {
   "cell_type": "code",
   "execution_count": 9,
   "metadata": {},
   "outputs": [
    {
     "data": {
      "text/plain": [
       "RowNumber          0\n",
       "CustomerId         0\n",
       "Surname            0\n",
       "CreditScore        0\n",
       "Geography          0\n",
       "Gender             0\n",
       "Age                0\n",
       "Tenure             0\n",
       "Balance            0\n",
       "NumOfProducts      0\n",
       "HasCrCard          0\n",
       "IsActiveMember     0\n",
       "EstimatedSalary    0\n",
       "Exited             0\n",
       "dtype: int64"
      ]
     },
     "execution_count": 9,
     "metadata": {},
     "output_type": "execute_result"
    }
   ],
   "source": [
    "data.isna().sum()"
   ]
  },
  {
   "cell_type": "markdown",
   "metadata": {},
   "source": [
    "Проверим нет ли выбросов в столбцах: Balance, CreditScore, Age, EstimatedSalary, Tenure."
   ]
  },
  {
   "cell_type": "code",
   "execution_count": 10,
   "metadata": {},
   "outputs": [
    {
     "data": {
      "text/plain": [
       "250898.09"
      ]
     },
     "execution_count": 10,
     "metadata": {},
     "output_type": "execute_result"
    }
   ],
   "source": [
    "data['Balance'].max()"
   ]
  },
  {
   "cell_type": "code",
   "execution_count": 11,
   "metadata": {},
   "outputs": [
    {
     "data": {
      "text/plain": [
       "0.0"
      ]
     },
     "execution_count": 11,
     "metadata": {},
     "output_type": "execute_result"
    }
   ],
   "source": [
    "data['Balance'].min()"
   ]
  },
  {
   "cell_type": "code",
   "execution_count": 12,
   "metadata": {},
   "outputs": [
    {
     "data": {
      "text/plain": [
       "10.0"
      ]
     },
     "execution_count": 12,
     "metadata": {},
     "output_type": "execute_result"
    }
   ],
   "source": [
    "data['Tenure'].max()"
   ]
  },
  {
   "cell_type": "code",
   "execution_count": 13,
   "metadata": {},
   "outputs": [
    {
     "data": {
      "text/plain": [
       "0.0"
      ]
     },
     "execution_count": 13,
     "metadata": {},
     "output_type": "execute_result"
    }
   ],
   "source": [
    "data['Tenure'].min()"
   ]
  },
  {
   "cell_type": "code",
   "execution_count": 14,
   "metadata": {},
   "outputs": [
    {
     "data": {
      "text/plain": [
       "850"
      ]
     },
     "execution_count": 14,
     "metadata": {},
     "output_type": "execute_result"
    }
   ],
   "source": [
    "data['CreditScore'].max()"
   ]
  },
  {
   "cell_type": "code",
   "execution_count": 15,
   "metadata": {},
   "outputs": [
    {
     "data": {
      "text/plain": [
       "350"
      ]
     },
     "execution_count": 15,
     "metadata": {},
     "output_type": "execute_result"
    }
   ],
   "source": [
    "data['CreditScore'].min()"
   ]
  },
  {
   "cell_type": "code",
   "execution_count": 16,
   "metadata": {},
   "outputs": [
    {
     "data": {
      "text/plain": [
       "92"
      ]
     },
     "execution_count": 16,
     "metadata": {},
     "output_type": "execute_result"
    }
   ],
   "source": [
    "data['Age'].max()"
   ]
  },
  {
   "cell_type": "code",
   "execution_count": 17,
   "metadata": {},
   "outputs": [
    {
     "data": {
      "text/plain": [
       "18"
      ]
     },
     "execution_count": 17,
     "metadata": {},
     "output_type": "execute_result"
    }
   ],
   "source": [
    "data['Age'].min()"
   ]
  },
  {
   "cell_type": "code",
   "execution_count": 18,
   "metadata": {},
   "outputs": [
    {
     "data": {
      "text/plain": [
       "199992.48"
      ]
     },
     "execution_count": 18,
     "metadata": {},
     "output_type": "execute_result"
    }
   ],
   "source": [
    "data['EstimatedSalary'].max()"
   ]
  },
  {
   "cell_type": "code",
   "execution_count": 19,
   "metadata": {},
   "outputs": [
    {
     "data": {
      "text/plain": [
       "11.58"
      ]
     },
     "execution_count": 19,
     "metadata": {},
     "output_type": "execute_result"
    }
   ],
   "source": [
    "data['EstimatedSalary'].min()"
   ]
  },
  {
   "cell_type": "markdown",
   "metadata": {},
   "source": [
    "Проверим уникальные значения столбца с главным признаком."
   ]
  },
  {
   "cell_type": "code",
   "execution_count": 20,
   "metadata": {},
   "outputs": [
    {
     "data": {
      "text/plain": [
       "array([1, 0])"
      ]
     },
     "execution_count": 20,
     "metadata": {},
     "output_type": "execute_result"
    }
   ],
   "source": [
    "data['Exited'].unique()"
   ]
  },
  {
   "cell_type": "markdown",
   "metadata": {},
   "source": [
    "Удалим столбцы с фамилией, номером клиента, и унткальным индетификатором клиента\n",
    "т.к. они могут не правильно повлиять на обучение модели."
   ]
  },
  {
   "cell_type": "code",
   "execution_count": 21,
   "metadata": {},
   "outputs": [],
   "source": [
    "data = data.drop(['RowNumber','Surname','CustomerId'], axis=1)"
   ]
  },
  {
   "cell_type": "markdown",
   "metadata": {},
   "source": [
    "<div class=\"alert alert-success\">\n",
    "<h2> Комментарий ревьюера <a class=\"tocSkip\"> </h2>\n",
    "\n",
    "👍 Согласен\n",
    "</div> \n"
   ]
  },
  {
   "cell_type": "markdown",
   "metadata": {},
   "source": [
    "Столбцы пол с страна проживания(Geography, Gender) нербходимо преобразовать \n",
    "методом get_dummies() прямое кодирование, с удалением первого столбца"
   ]
  },
  {
   "cell_type": "code",
   "execution_count": 22,
   "metadata": {},
   "outputs": [],
   "source": [
    "var_categorical = ['Geography', 'Gender']\n",
    "data = pd.get_dummies(data, drop_first=True, columns=var_categorical)"
   ]
  },
  {
   "cell_type": "markdown",
   "metadata": {},
   "source": [
    "<div class=\"alert alert-success\">\n",
    "<h2> Комментарий ревьюера <a class=\"tocSkip\"> </h2>\n",
    "\n",
    "👍 Согласен. В дамми-ловушку не попались.\n",
    "</div>\n"
   ]
  },
  {
   "cell_type": "markdown",
   "metadata": {},
   "source": [
    "<div class=\"alert alert-warning\">\n",
    "<h2> Комментарий ревьюера <a class=\"tocSkip\"> </h2>\n",
    "    \n",
    "<b>Некоторые замечания и рекомендации💡:</b> \n",
    "\n",
    "В тренажере давался пример использования прямого кодирования с помощью get_dummies, однако это далеко не самый оптимальный вариант. Он подходит для анализа данных, но в машинном обучении может служить причиной ошибок при обучении моделей.\n",
    "    \n",
    "Можно использовать класс <a href=\"https://scikit-learn.org/stable/modules/generated/sklearn.preprocessing.OneHotEncoder.html\">OHE из sklearn</a>. Он точно понадобится в будущих проектах, можно потренироваться сейчас. \n",
    "\n",
    "Практикум подготовил инструкцию, как использовать OHE: https://colab.research.google.com/drive/1_gAMXcQKoCShB_l8FNtYEejMnosm9mvt?usp=sharing \n",
    "\n",
    "А теперь замечания «под звездочкой»:\n",
    "\n",
    "Есть загвоздка, что нам нужно будет одновременно использовать параметры drop='first' и handle_unknown='ignore’.  в OHE, а на платформе такое сочетание может выдавать ошибку (в части случаев). Если ошибка появляется, необходимо загрузить нужную версию сайкит-лерна. Для этого:\n",
    "\n",
    "1. В отдельной строке в самом начале проекта запускаем такую команду:\n",
    " `!pip install scikit-learn==1.1.3`\n",
    "     \n",
    "2. Находим в меню юпитера кнопку `Kernel`, нажимаем и выбираем Restart&Run all \n",
    "\n",
    "\n",
    "И сразу уточню, что OHE мы используем уже после разделения выборок на обучающую, валидационную и тестовую. Обучаем на трейне, применяем ко всем. Кодируем после разбиения по аналогии с масштабированием. Посмотреть поподробнее также можно здесь <a href=\"https://stackoverflow.com/questions/55525195/do-i-have-to-do-one-hot-encoding-separately-for-train-and-test-dataset\">можно здесь</a> .\n",
    "      \n",
    "</div> "
   ]
  },
  {
   "cell_type": "markdown",
   "metadata": {},
   "source": [
    "Посмотрим на первые пять строк таблицы."
   ]
  },
  {
   "cell_type": "code",
   "execution_count": 23,
   "metadata": {},
   "outputs": [
    {
     "data": {
      "text/html": [
       "<div>\n",
       "<style scoped>\n",
       "    .dataframe tbody tr th:only-of-type {\n",
       "        vertical-align: middle;\n",
       "    }\n",
       "\n",
       "    .dataframe tbody tr th {\n",
       "        vertical-align: top;\n",
       "    }\n",
       "\n",
       "    .dataframe thead th {\n",
       "        text-align: right;\n",
       "    }\n",
       "</style>\n",
       "<table border=\"1\" class=\"dataframe\">\n",
       "  <thead>\n",
       "    <tr style=\"text-align: right;\">\n",
       "      <th></th>\n",
       "      <th>CreditScore</th>\n",
       "      <th>Age</th>\n",
       "      <th>Tenure</th>\n",
       "      <th>Balance</th>\n",
       "      <th>NumOfProducts</th>\n",
       "      <th>HasCrCard</th>\n",
       "      <th>IsActiveMember</th>\n",
       "      <th>EstimatedSalary</th>\n",
       "      <th>Exited</th>\n",
       "      <th>Geography_Germany</th>\n",
       "      <th>Geography_Spain</th>\n",
       "      <th>Gender_Male</th>\n",
       "    </tr>\n",
       "  </thead>\n",
       "  <tbody>\n",
       "    <tr>\n",
       "      <th>0</th>\n",
       "      <td>619</td>\n",
       "      <td>42</td>\n",
       "      <td>2.0</td>\n",
       "      <td>0.00</td>\n",
       "      <td>1</td>\n",
       "      <td>1</td>\n",
       "      <td>1</td>\n",
       "      <td>101348.88</td>\n",
       "      <td>1</td>\n",
       "      <td>0</td>\n",
       "      <td>0</td>\n",
       "      <td>0</td>\n",
       "    </tr>\n",
       "    <tr>\n",
       "      <th>1</th>\n",
       "      <td>608</td>\n",
       "      <td>41</td>\n",
       "      <td>1.0</td>\n",
       "      <td>83807.86</td>\n",
       "      <td>1</td>\n",
       "      <td>0</td>\n",
       "      <td>1</td>\n",
       "      <td>112542.58</td>\n",
       "      <td>0</td>\n",
       "      <td>0</td>\n",
       "      <td>1</td>\n",
       "      <td>0</td>\n",
       "    </tr>\n",
       "    <tr>\n",
       "      <th>2</th>\n",
       "      <td>502</td>\n",
       "      <td>42</td>\n",
       "      <td>8.0</td>\n",
       "      <td>159660.80</td>\n",
       "      <td>3</td>\n",
       "      <td>1</td>\n",
       "      <td>0</td>\n",
       "      <td>113931.57</td>\n",
       "      <td>1</td>\n",
       "      <td>0</td>\n",
       "      <td>0</td>\n",
       "      <td>0</td>\n",
       "    </tr>\n",
       "    <tr>\n",
       "      <th>3</th>\n",
       "      <td>699</td>\n",
       "      <td>39</td>\n",
       "      <td>1.0</td>\n",
       "      <td>0.00</td>\n",
       "      <td>2</td>\n",
       "      <td>0</td>\n",
       "      <td>0</td>\n",
       "      <td>93826.63</td>\n",
       "      <td>0</td>\n",
       "      <td>0</td>\n",
       "      <td>0</td>\n",
       "      <td>0</td>\n",
       "    </tr>\n",
       "    <tr>\n",
       "      <th>4</th>\n",
       "      <td>850</td>\n",
       "      <td>43</td>\n",
       "      <td>2.0</td>\n",
       "      <td>125510.82</td>\n",
       "      <td>1</td>\n",
       "      <td>1</td>\n",
       "      <td>1</td>\n",
       "      <td>79084.10</td>\n",
       "      <td>0</td>\n",
       "      <td>0</td>\n",
       "      <td>1</td>\n",
       "      <td>0</td>\n",
       "    </tr>\n",
       "  </tbody>\n",
       "</table>\n",
       "</div>"
      ],
      "text/plain": [
       "   CreditScore  Age  Tenure    Balance  NumOfProducts  HasCrCard  \\\n",
       "0          619   42     2.0       0.00              1          1   \n",
       "1          608   41     1.0   83807.86              1          0   \n",
       "2          502   42     8.0  159660.80              3          1   \n",
       "3          699   39     1.0       0.00              2          0   \n",
       "4          850   43     2.0  125510.82              1          1   \n",
       "\n",
       "   IsActiveMember  EstimatedSalary  Exited  Geography_Germany  \\\n",
       "0               1        101348.88       1                  0   \n",
       "1               1        112542.58       0                  0   \n",
       "2               0        113931.57       1                  0   \n",
       "3               0         93826.63       0                  0   \n",
       "4               1         79084.10       0                  0   \n",
       "\n",
       "   Geography_Spain  Gender_Male  \n",
       "0                0            0  \n",
       "1                1            0  \n",
       "2                0            0  \n",
       "3                0            0  \n",
       "4                1            0  "
      ]
     },
     "execution_count": 23,
     "metadata": {},
     "output_type": "execute_result"
    }
   ],
   "source": [
    "data.head()"
   ]
  },
  {
   "cell_type": "markdown",
   "metadata": {},
   "source": [
    "<div class=\"alert alert-block alert-danger\">\n",
    "<h2><s> Комментарий ревьюера <a class=\"tocSkip\"></h2>\n",
    "  \n",
    "<b>На доработку🤔:</b>\n",
    " \n",
    "Масштабирование необходимо сделать после разбиения на выборки: учимся на трейне, применяем масштабирование ко всем трем.\n",
    "\n",
    "\n",
    "В реальном применении моделей у нас не будет возможности обучить скелер сразу и на тренировочной, и на рабочей выборке. Поэтому здесь воспроизводим реальную ситуацию - обучаемся только на тренировочной выборке, масштабируем обученным таким образом скелером все три выборки.\n",
    "\n",
    "</div>\n",
    "\n"
   ]
  },
  {
   "cell_type": "code",
   "execution_count": 24,
   "metadata": {},
   "outputs": [
    {
     "data": {
      "text/plain": [
       "CreditScore          0\n",
       "Age                  0\n",
       "Tenure               0\n",
       "Balance              0\n",
       "NumOfProducts        0\n",
       "HasCrCard            0\n",
       "IsActiveMember       0\n",
       "EstimatedSalary      0\n",
       "Exited               0\n",
       "Geography_Germany    0\n",
       "Geography_Spain      0\n",
       "Gender_Male          0\n",
       "dtype: int64"
      ]
     },
     "execution_count": 24,
     "metadata": {},
     "output_type": "execute_result"
    }
   ],
   "source": [
    "data.isna().sum()"
   ]
  },
  {
   "cell_type": "markdown",
   "metadata": {},
   "source": [
    "Разделим таблицу на три выборки, тренировачную, валидационную и тестовую.\n",
    "Соотношением 3:1:1"
   ]
  },
  {
   "cell_type": "code",
   "execution_count": 25,
   "metadata": {},
   "outputs": [],
   "source": [
    "features = data.drop(columns=['Exited'], axis = 1)\n",
    "target = data['Exited']\n",
    " \n",
    "features_train, features_in, target_train, target_in = train_test_split(\\\n",
    "    features, target, test_size=0.4, random_state=12345)\n",
    " \n",
    "features_valid, features_test, target_valid, target_test = train_test_split(\\\n",
    "    features_in, target_in, test_size=0.5, random_state=12345)"
   ]
  },
  {
   "cell_type": "markdown",
   "metadata": {},
   "source": [
    "Проверим результат разделения таблицы методом shape."
   ]
  },
  {
   "cell_type": "code",
   "execution_count": 26,
   "metadata": {},
   "outputs": [
    {
     "data": {
      "text/plain": [
       "((6000, 11), (6000,), (2000, 11), (2000,), (2000, 11), (2000,))"
      ]
     },
     "execution_count": 26,
     "metadata": {},
     "output_type": "execute_result"
    }
   ],
   "source": [
    "features_train.shape, target_train.shape, features_valid.shape, target_valid.shape, features_test.shape, target_test.shape"
   ]
  },
  {
   "cell_type": "markdown",
   "metadata": {},
   "source": [
    "Проведем маштабирование признаков."
   ]
  },
  {
   "cell_type": "code",
   "execution_count": 27,
   "metadata": {},
   "outputs": [
    {
     "data": {
      "text/html": [
       "<div>\n",
       "<style scoped>\n",
       "    .dataframe tbody tr th:only-of-type {\n",
       "        vertical-align: middle;\n",
       "    }\n",
       "\n",
       "    .dataframe tbody tr th {\n",
       "        vertical-align: top;\n",
       "    }\n",
       "\n",
       "    .dataframe thead th {\n",
       "        text-align: right;\n",
       "    }\n",
       "</style>\n",
       "<table border=\"1\" class=\"dataframe\">\n",
       "  <thead>\n",
       "    <tr style=\"text-align: right;\">\n",
       "      <th></th>\n",
       "      <th>CreditScore</th>\n",
       "      <th>Age</th>\n",
       "      <th>Tenure</th>\n",
       "      <th>Balance</th>\n",
       "      <th>NumOfProducts</th>\n",
       "      <th>HasCrCard</th>\n",
       "      <th>IsActiveMember</th>\n",
       "      <th>EstimatedSalary</th>\n",
       "      <th>Geography_Germany</th>\n",
       "      <th>Geography_Spain</th>\n",
       "      <th>Gender_Male</th>\n",
       "    </tr>\n",
       "  </thead>\n",
       "  <tbody>\n",
       "    <tr>\n",
       "      <th>7479</th>\n",
       "      <td>-0.886751</td>\n",
       "      <td>-0.373192</td>\n",
       "      <td>1.082277</td>\n",
       "      <td>1.232271</td>\n",
       "      <td>1</td>\n",
       "      <td>1</td>\n",
       "      <td>0</td>\n",
       "      <td>-0.187705</td>\n",
       "      <td>0</td>\n",
       "      <td>1</td>\n",
       "      <td>1</td>\n",
       "    </tr>\n",
       "    <tr>\n",
       "      <th>3411</th>\n",
       "      <td>0.608663</td>\n",
       "      <td>-0.183385</td>\n",
       "      <td>1.082277</td>\n",
       "      <td>0.600563</td>\n",
       "      <td>1</td>\n",
       "      <td>0</td>\n",
       "      <td>0</td>\n",
       "      <td>-0.333945</td>\n",
       "      <td>0</td>\n",
       "      <td>0</td>\n",
       "      <td>0</td>\n",
       "    </tr>\n",
       "    <tr>\n",
       "      <th>6027</th>\n",
       "      <td>2.052152</td>\n",
       "      <td>0.480939</td>\n",
       "      <td>-0.737696</td>\n",
       "      <td>1.027098</td>\n",
       "      <td>2</td>\n",
       "      <td>0</td>\n",
       "      <td>1</td>\n",
       "      <td>1.503095</td>\n",
       "      <td>1</td>\n",
       "      <td>0</td>\n",
       "      <td>1</td>\n",
       "    </tr>\n",
       "    <tr>\n",
       "      <th>1247</th>\n",
       "      <td>-1.457915</td>\n",
       "      <td>-1.417129</td>\n",
       "      <td>0.354288</td>\n",
       "      <td>-1.233163</td>\n",
       "      <td>2</td>\n",
       "      <td>1</td>\n",
       "      <td>0</td>\n",
       "      <td>-1.071061</td>\n",
       "      <td>0</td>\n",
       "      <td>0</td>\n",
       "      <td>1</td>\n",
       "    </tr>\n",
       "    <tr>\n",
       "      <th>3716</th>\n",
       "      <td>0.130961</td>\n",
       "      <td>-1.132419</td>\n",
       "      <td>-1.101690</td>\n",
       "      <td>1.140475</td>\n",
       "      <td>1</td>\n",
       "      <td>0</td>\n",
       "      <td>0</td>\n",
       "      <td>1.524268</td>\n",
       "      <td>1</td>\n",
       "      <td>0</td>\n",
       "      <td>0</td>\n",
       "    </tr>\n",
       "  </tbody>\n",
       "</table>\n",
       "</div>"
      ],
      "text/plain": [
       "      CreditScore       Age    Tenure   Balance  NumOfProducts  HasCrCard  \\\n",
       "7479    -0.886751 -0.373192  1.082277  1.232271              1          1   \n",
       "3411     0.608663 -0.183385  1.082277  0.600563              1          0   \n",
       "6027     2.052152  0.480939 -0.737696  1.027098              2          0   \n",
       "1247    -1.457915 -1.417129  0.354288 -1.233163              2          1   \n",
       "3716     0.130961 -1.132419 -1.101690  1.140475              1          0   \n",
       "\n",
       "      IsActiveMember  EstimatedSalary  Geography_Germany  Geography_Spain  \\\n",
       "7479               0        -0.187705                  0                1   \n",
       "3411               0        -0.333945                  0                0   \n",
       "6027               1         1.503095                  1                0   \n",
       "1247               0        -1.071061                  0                0   \n",
       "3716               0         1.524268                  1                0   \n",
       "\n",
       "      Gender_Male  \n",
       "7479            1  \n",
       "3411            0  \n",
       "6027            1  \n",
       "1247            1  \n",
       "3716            0  "
      ]
     },
     "execution_count": 27,
     "metadata": {},
     "output_type": "execute_result"
    }
   ],
   "source": [
    "numeric = [ 'CreditScore', 'Age', 'Tenure', 'Balance', 'EstimatedSalary']\n",
    "scaler = StandardScaler()\n",
    "scaler.fit(features_train[numeric])\n",
    "features_train[numeric] = scaler.transform(features_train[numeric])\n",
    "features_valid[numeric] = scaler.transform(features_valid[numeric])\n",
    "features_test[numeric] = scaler.transform(features_test[numeric])\n",
    "pd.options.mode.chained_assignment = None\n",
    "features_train.head()"
   ]
  },
  {
   "cell_type": "markdown",
   "metadata": {},
   "source": [
    "<div class=\"alert alert-success\">\n",
    "<h2> Комментарий ревьюера <a class=\"tocSkip\"> </h2>\n",
    "\n",
    "👍 С разбиением на выборки согласен. \n",
    "</div>"
   ]
  },
  {
   "cell_type": "markdown",
   "metadata": {},
   "source": [
    "## Исследование задачи"
   ]
  },
  {
   "cell_type": "markdown",
   "metadata": {},
   "source": [
    "Необходимо построить модель для предсказания уйдёт клиент из банка в ближайшее \n",
    "время или нет. Распологаемые данные  о поведении клиентов и расторжении договоров\n",
    "с банком, практически подготовленны для построения оптимальной модели.\n",
    "Необходимо довести метрику F1 до 0.59. После чего проверим ее F1-меру на тестовой\n",
    "выборке.\n",
    "Иследуем три модели: Случайный лес, Дерево решений, логистическую регрессию с\n",
    "изменением гиперпараметров."
   ]
  },
  {
   "cell_type": "markdown",
   "metadata": {},
   "source": [
    "Так как в дальнейшем понадобится вычислять метрику auc_roc (площадь под ROC-кривой),\n",
    "напишем функцию \"auc_roc\"  при обращении к которой данная метрика будет  вычисляться\n",
    "автоматичечки с помощью передачи параметров(model, признаки, целевой признак)."
   ]
  },
  {
   "cell_type": "code",
   "execution_count": 40,
   "metadata": {},
   "outputs": [],
   "source": [
    "def auc_roc(model, features, target):\n",
    "    probabilities = model.predict_proba(features)\n",
    "    probabilities_one = probabilities[:, 1]\n",
    "    auc_roc = roc_auc_score(target, probabilities_one)\n",
    "    return 'Площадь под ROC-кривой ', auc_roc"
   ]
  },
  {
   "cell_type": "code",
   "execution_count": 34,
   "metadata": {},
   "outputs": [
    {
     "name": "stdout",
     "output_type": "stream",
     "text": [
      "F1 наилучшей модели на валидационной выборке: 0.5696969696969697\n",
      "Глубина:  6\n"
     ]
    },
    {
     "data": {
      "text/plain": [
       "('Площадь под ROC-кривой ', 0.8164631712023421)"
      ]
     },
     "execution_count": 34,
     "metadata": {},
     "output_type": "execute_result"
    }
   ],
   "source": [
    "model = None\n",
    "best_result = 0\n",
    "best_result1 = 0\n",
    "for i in range(1,21):\n",
    "    model = DecisionTreeClassifier(max_depth = i, random_state=12345)\n",
    "    model.fit(features_train, target_train)\n",
    "    p = model.predict(features_valid)\n",
    "    best_result = f1_score(target_valid, p)\n",
    "    if best_result1 < best_result:\n",
    "        best_result1 = best_result\n",
    "        depth = i\n",
    "        f1 = best_result\n",
    "        mod_roc = model\n",
    "print(\"F1 наилучшей модели на валидационной выборке:\", f1)\n",
    "print('Глубина: ', depth)\n",
    "\n",
    "\n",
    "auc_roc(mod_roc, features_valid, target_valid)"
   ]
  },
  {
   "cell_type": "code",
   "execution_count": 35,
   "metadata": {},
   "outputs": [],
   "source": [
    "#model = RandomForestClassifier(random_state=12345) \n",
    "#model.fit(features_train, target_train)\n",
    "#predictions_valid = model.predict(features_valid)\n",
    "#result = f1_score(target_valid, predictions_valid)\n",
    "#print('F1 модели случайный лес равно: ', result)"
   ]
  },
  {
   "cell_type": "code",
   "execution_count": 36,
   "metadata": {},
   "outputs": [
    {
     "name": "stdout",
     "output_type": "stream",
     "text": [
      "F1 наилучшей модели на валидационной выборке: 0.5999999999999999 9 14\n",
      "Глубина:  14\n",
      "Количество деревьев:  9\n",
      "Площадь под ROC-кривой  0.8428870849690597\n"
     ]
    }
   ],
   "source": [
    "best_model = None\n",
    "best_result = 0;best_est=0\n",
    "for i in range(1,16):    \n",
    "    for est in range(1, 81):\n",
    "        model = RandomForestClassifier(random_state=12345, max_depth = i,  n_estimators=est)\n",
    "        model.fit(features_train, target_train)\n",
    "        predictions_valid = model.predict(features_valid)\n",
    "        result = f1_score(target_valid, predictions_valid)\n",
    "        if result > best_result:\n",
    "            best_model = model\n",
    "            best_result = result\n",
    "            best_est = est\n",
    "            depth = i\n",
    "print(\"F1 наилучшей модели на валидационной выборке:\", best_result, best_est, depth)\n",
    "print('Глубина: ', depth)\n",
    "print('Количество деревьев: ', best_est)\n",
    "probabilities_valid = model.predict_proba(features_valid)\n",
    "probabilities_one_valid = probabilities_valid[:, 1]\n",
    "auc_roc = roc_auc_score(target_valid, probabilities_one_valid)\n",
    "print('Площадь под ROC-кривой ',auc_roc)"
   ]
  },
  {
   "cell_type": "markdown",
   "metadata": {},
   "source": [
    "<div class=\"alert alert-success\">\n",
    "<h2> Комментарий ревьюера #2 <a class=\"tocSkip\"> </h2>\n",
    "\n",
    "👍 Здесь все отлично по обучению моделей.\n",
    "</div>\n"
   ]
  },
  {
   "cell_type": "code",
   "execution_count": 37,
   "metadata": {},
   "outputs": [
    {
     "name": "stdout",
     "output_type": "stream",
     "text": [
      "F1 модели логистическая регрессия равно:  0.33108108108108103\n"
     ]
    }
   ],
   "source": [
    "model = LogisticRegression(random_state=12345)\n",
    "model.fit(features_train, target_train)\n",
    "predictions_valid = model.predict(features_valid)\n",
    "result = f1_score(target_valid, predictions_valid)\n",
    "print('F1 модели логистическая регрессия равно: ', result)"
   ]
  },
  {
   "cell_type": "markdown",
   "metadata": {},
   "source": [
    "Вывод:\n",
    "Было исследованно три модели.\n",
    "Как и следовало ожидать метрика F1 модели случайный лес отказалась самая высокая\n",
    "даже чуть выше заданного параметра 0.59.\n",
    "Значение наибольшей метрики F1 модели случайный лес равна 0.59999 при гиперпара-\n",
    "метрах: глубина - 14, количество деревьев - 9.\n",
    "Модель  дерево  решений  имеет  показатели  F1  примерно 0.57 при глубине 6.\n",
    "Модель  логистическая регрессия  имеет  показатели  F1 = 0.331."
   ]
  },
  {
   "cell_type": "markdown",
   "metadata": {},
   "source": [
    "\n",
    "<div class=\"alert alert-block alert-danger\">\n",
    "<h2><s> Комментарий ревьюера <a class=\"tocSkip\"></h2>\n",
    "  \n",
    "<b>На доработку🤔:</b>\n",
    " \n",
    "По ТЗ проекта мы должны посмотреть на модели без учета дисбаланса классов.\n",
    "    \n",
    "* Нужно выбрать минимум два алгоритма (а лучше три: Случайный лес, Дерево решений, логистическую регрессию).\n",
    "* В Дереве и Лесе нужно в цикле подобрать гиперпараметры (в Лесе - глубину и количество деревьев - обязательно).\n",
    "* Смотрим модель с лучшим F1, измеряем ROC_AUC.\n",
    "\n",
    "</div>\n"
   ]
  },
  {
   "cell_type": "markdown",
   "metadata": {},
   "source": [
    "Тестируем модель с наилучшими гитерпараметрами."
   ]
  },
  {
   "cell_type": "markdown",
   "metadata": {},
   "source": [
    "Вывод:\n",
    "Тестирование модели с наилучшими гиперпараметрами показало не достаточный\n",
    "резуальтат 0.54. Для выполнения задания необходимо добиться показателя F1\n",
    "не ниже 0.59."
   ]
  },
  {
   "cell_type": "markdown",
   "metadata": {},
   "source": [
    "## Исследование моделей с применением методик борьбы с дисбалансом классов"
   ]
  },
  {
   "cell_type": "markdown",
   "metadata": {},
   "source": [
    "**Для борьбы с дисбалансом класса будем использовать\n",
    " \n",
    "1) Метод взвешавания классов - class_weight.\n",
    "2) Технику upsampling. Создадим функцию upsample(), передадим в нее три \n",
    "   аргумента features(тренировочная выборка), target(целевой признак\n",
    "   тренировочной выборки), и  repeat(число на которое умножается положительный\n",
    "   класс тренировочной выборки)"
   ]
  },
  {
   "cell_type": "code",
   "execution_count": 45,
   "metadata": {},
   "outputs": [],
   "source": [
    "def upsample(features, target, repeat):\n",
    "    features_zeros = features[target == 0]\n",
    "    features_ones = features[target == 1]\n",
    "    target_zeros = target[target == 0]\n",
    "    target_ones = target[target == 1]\n",
    "\n",
    "    features_upsampled = pd.concat([features_zeros] + [features_ones] * repeat)\n",
    "    target_upsampled = pd.concat([target_zeros] + [target_ones] * repeat)\n",
    "    \n",
    "    features_upsampled, target_upsampled = shuffle(\n",
    "        features_upsampled, target_upsampled, random_state=12345)\n",
    "    \n",
    "    return features_upsampled, target_upsampled"
   ]
  },
  {
   "cell_type": "markdown",
   "metadata": {},
   "source": [
    "<div class=\"alert alert-success\">\n",
    "<h2> Комментарий ревьюера <a class=\"tocSkip\"> </h2>\n",
    "\n",
    "👍 Отлично, что используешь рукописную функцию, но здесь можно все оптимизировать, используя <a href=\"https://imbalanced-learn.org/stable/references/generated/imblearn.over_sampling.SMOTE.html\">SMOTE</a> для увеличения выборки и <a href=\"https://imbalanced-learn.org/stable/references/generated/imblearn.under_sampling.RandomUnderSampler.html\">RandomUnderSampler</a>  для уменьшения. \n",
    "    \n",
    "Апсемплинг делается очень просто:\n",
    "    \n",
    "`oversample = SMOTE(random_state=RANDOM_STATE)`\n",
    "\n",
    "`features_train_up, target_train_up = oversample.fit_resample(features_train_enc, target_train)`\n",
    "    \n",
    "*предварительно импотрировав `from imblearn.over_sampling import SMOTE`\n",
    "\n",
    "**Чтобы импортировать imblearn его сначала требуется проинсталлировать. через `!pip install imblearn`\n",
    "    \n",
    "</div>\n"
   ]
  },
  {
   "cell_type": "markdown",
   "metadata": {},
   "source": []
  },
  {
   "cell_type": "markdown",
   "metadata": {},
   "source": [
    "<div class=\"alert alert-block alert-danger\">\n",
    "<h2><s> Комментарий ревьюера <a class=\"tocSkip\"></h2>\n",
    "  \n",
    "<b>На доработку🤔:</b>\n",
    " \n",
    "Tестирование - это третий шаг в нашем цикле работы с моделями. 1) подготовка+анализ 2) исследование моделей 3) тестирование. На тестировании мы смотрим лучшую модель, которую нашли на втором шаге, не трогаем валидационную выборку, используем тестовую выборку и уже не подбираем гиперпараметры. \n",
    "    \n",
    "Предлагаю перенести подзаголовок с тестированием ниже, к тому месту проекта, где мы действительно делаем тестирование.\n",
    "    \n",
    "Здесь же можно озаглавить как-то типа «Исследование моделей с применением методик борьбы с дисбалансом классов».\n",
    "\n",
    "</div>"
   ]
  },
  {
   "cell_type": "markdown",
   "metadata": {},
   "source": [
    "Боремся с дисбалансом кдасса, т.к. маквсимальное F1 будет при балансе классов\n",
    "1:1 подставим число умножения выборки класса равное 4."
   ]
  },
  {
   "cell_type": "code",
   "execution_count": 54,
   "metadata": {},
   "outputs": [
    {
     "name": "stdout",
     "output_type": "stream",
     "text": [
      "F1 на тестовой выборке равен:  0.5992779783393503\n"
     ]
    }
   ],
   "source": [
    "features_upsampled, target_upsampled = upsample(features_train, target_train, 4)\n",
    "model = RandomForestClassifier(random_state=12345, max_depth = 14, n_estimators=9)\n",
    "model.fit(features_upsampled, target_upsampled)\n",
    "predicted_valid = model.predict(features_valid)\n",
    "print(\"F1 на валидционной выборке равен: \",f1_score(target_valid, predicted_valid))\n"
   ]
  },
  {
   "cell_type": "markdown",
   "metadata": {},
   "source": [
    "При применение метода class_weigth вычислим налучшие гиперпараметры."
   ]
  },
  {
   "cell_type": "code",
   "execution_count": 62,
   "metadata": {},
   "outputs": [
    {
     "name": "stdout",
     "output_type": "stream",
     "text": [
      "F1 наилучшей модели на валидационной выборке: 0.6292906178489703 60 9\n",
      "Глубина:  9\n",
      "Количество деревьев:  60\n"
     ]
    }
   ],
   "source": [
    "best_model = None\n",
    "best_result = 0;best_est=0\n",
    "for i in range(1,16):    \n",
    "    for est in range(1, 81):\n",
    "        model = RandomForestClassifier(random_state=12345, max_depth = i,  n_estimators=est, class_weight='balanced') # обучите модель с заданным количеством деревьев\n",
    "        model.fit(features_train, target_train)\n",
    "        predictions_valid = model.predict(features_valid)# обучите модель на тренировочной выборке\n",
    "        result = f1_score(target_valid, predictions_valid) # посчитайте качество модели на валидационной выборке\n",
    "        if result > best_result:\n",
    "            best_model = model# сохраните наилучшую модель\n",
    "            best_result = result#  сохраните наилучшее значение метрики accuracy на валидационных данных\n",
    "            best_est = est\n",
    "            depth = i\n",
    "print(\"F1 наилучшей модели на валидационной выборке:\", best_result, best_est, depth)\n",
    "print('Глубина: ', depth)\n",
    "print('Количество деревьев: ', best_est)\n"
   ]
  },
  {
   "cell_type": "markdown",
   "metadata": {},
   "source": [
    "<div class=\"alert alert-block alert-danger\">\n",
    "<h2><s> Комментарий ревьюера <a class=\"tocSkip\"></h2>\n",
    "  \n",
    "<b>На доработку🤔:</b>\n",
    " \n",
    "Ошибка в переменной. Вместо model, видимо, нужно подать best_model.\n",
    "\n",
    "</div>\n"
   ]
  },
  {
   "cell_type": "markdown",
   "metadata": {},
   "source": []
  },
  {
   "cell_type": "markdown",
   "metadata": {},
   "source": [
    "Проверим на тестовой выборке."
   ]
  },
  {
   "cell_type": "markdown",
   "metadata": {},
   "source": [
    "<div class=\"alert alert-block alert-danger\">\n",
    "<h2> <s>Комментарий ревьюера <a class=\"tocSkip\"></h2>\n",
    "  \n",
    "<b>На доработку🤔:</b>\n",
    " \n",
    "Мы не имеем права трогать тестовую выборку до тестирования (или валидационную выборку после тестирования - если у нас вышла такая история с подзаголовком). \n",
    "    \n",
    "На тестировании уже смотрим ранее подобранную лучшую модель. Иначе мы будем в той или иной мере подбирать лучшие параметры на тестовой выборке, а о том, как модель будет работать с реальными данными судить не сможем.\n",
    "    \n",
    "Сначала мы подбираем лучшую модель и ее гиперпараметры на валидационной выборке. Затем в промежуточном выводе описываем эту модель. И только после этого смотрим качество модели на тестовой выборке.\n",
    "\n",
    "</div>\n"
   ]
  },
  {
   "cell_type": "markdown",
   "metadata": {},
   "source": [
    "<div class=\"alert alert-block alert-danger\">\n",
    "<h2> <s>Комментарий ревьюера <a class=\"tocSkip\"></h2>\n",
    "  \n",
    "<b>На доработку🤔:</b>\n",
    " \n",
    "Выше написал, здесь напомню, что в Лесе нужно смотреть и глубину, и количество деревьев.\n",
    "    \n",
    "`for est in range(10, 151, 10):\n",
    "    for depth in range(1, 16):\n",
    "        model = RandomForestClassifier(random_state=12345, n_estimators=est, max_depth=depth)`\n",
    "   \n",
    "\n",
    "    \n",
    "\n",
    "</div>\n"
   ]
  },
  {
   "cell_type": "markdown",
   "metadata": {},
   "source": [
    "<div class=\"alert alert-warning\">\n",
    "<h2> Комментарий ревьюера <a class=\"tocSkip\"> </h2>\n",
    "    \n",
    "<b>Некоторые замечания и рекомендации💡:</b> \n",
    "\n",
    "Здесь также пока не стоит трогать тестовую выборку.\n",
    "       \n",
    "</div>"
   ]
  },
  {
   "cell_type": "markdown",
   "metadata": {},
   "source": [
    "<div class=\"alert alert-block alert-danger\">\n",
    "<h2><s> Комментарий ревьюера <a class=\"tocSkip\"></h2>\n",
    "  \n",
    "<b>На доработку🤔:</b>\n",
    " \n",
    "Нужно починить названия выборок. И да, тестовую пока не трогаем :)\n",
    "\n",
    "</div>\n",
    "\n"
   ]
  },
  {
   "cell_type": "markdown",
   "metadata": {},
   "source": [
    "\n",
    "<div class=\"alert alert-block alert-danger\">\n",
    "<h2><s> Комментарий ревьюера <a class=\"tocSkip\"></h2>\n",
    "  \n",
    "<b>На доработку🤔:</b>\n",
    " \n",
    "Здесь аналитически верным решением будет сделать баланс классов 1:1. Ничего подбирать не стоит, кроме гиперпараметров. При грамотном подборе моделей и параметров лучшее значение баланса будет стремиться к 1:1, количество повторений - к 4-м в нашей задаче.\n",
    "\n",
    "</div>\n",
    "\n"
   ]
  },
  {
   "cell_type": "markdown",
   "metadata": {},
   "source": [
    "<div class=\"alert alert-block alert-danger\">\n",
    "<h2><s> Комментарий ревьюера <a class=\"tocSkip\"></h2>\n",
    "  \n",
    "<b>На доработку🤔:</b>\n",
    " \n",
    "И здесь подаем неверные выборки. \n",
    "\n",
    "</div>"
   ]
  },
  {
   "cell_type": "markdown",
   "metadata": {},
   "source": [
    "<div class=\"alert alert-block alert-danger\">\n",
    "<h2><s> Комментарий ревьюера <a class=\"tocSkip\"></h2>\n",
    "  \n",
    "<b>На доработку🤔:</b>\n",
    " \n",
    "Будет ошибочно использовать одновременно апсеплинг или даунсемплинг и взвешенные классы class_weight='balanced'. Мы и так доводим соотношение классов к 1:1, так что, class_weight работать не будет. Технически это не приведет к падению кода или ухудшению результатов (но и к улучшению не приведет аналитически), фактически же такой код говорит о том, что мы не понимаем механизма работы и назначения этого параметра и, соответственно, техники борьбы с дибсалансом.\n",
    "\n",
    "</div>"
   ]
  },
  {
   "cell_type": "markdown",
   "metadata": {},
   "source": [
    "<div class=\"alert alert-block alert-danger\">\n",
    "<h2> <s>Комментарий ревьюера <a class=\"tocSkip\"></h2>\n",
    "  \n",
    "<b>На доработку🤔:</b>\n",
    " \n",
    "Пока не достигаем необходимого качества по f1.\n",
    "\n",
    "</div>"
   ]
  },
  {
   "cell_type": "markdown",
   "metadata": {},
   "source": [
    "## Тестируем модели с наилучшими гиперпараметрами."
   ]
  },
  {
   "cell_type": "markdown",
   "metadata": {},
   "source": [
    "Тестируем модель на тестовой тыборке. Сначала используем технику upsampled,\n",
    "затем применим метод class_weight(сбалансированность классов)."
   ]
  },
  {
   "cell_type": "code",
   "execution_count": 64,
   "metadata": {},
   "outputs": [
    {
     "name": "stdout",
     "output_type": "stream",
     "text": [
      "F1 на тестовой выборке равен:  0.6070686070686071\n"
     ]
    },
    {
     "data": {
      "text/plain": [
       "('Площадь под ROC-кривой ', 0.8527158278504088)"
      ]
     },
     "execution_count": 64,
     "metadata": {},
     "output_type": "execute_result"
    }
   ],
   "source": [
    "features_upsampled, target_upsampled = upsample(features_train, target_train, 4)\n",
    "model = RandomForestClassifier(random_state=12345, max_depth = 9, n_estimators=60)\n",
    "model.fit(features_upsampled, target_upsampled)\n",
    "predicted_test = model.predict(features_test)\n",
    "print(\"F1 на тестовой выборке равен: \",f1_score(target_test, predicted_test))\n",
    "auc_roc(model, features_test, target_test)"
   ]
  },
  {
   "cell_type": "markdown",
   "metadata": {},
   "source": [
    "<div class=\"alert alert-success\">\n",
    "<h2> Комментарий ревьюера #2 <a class=\"tocSkip\"> </h2>\n",
    "\n",
    "👍 Ага, теперь все верно и по исследованию моделей, и по качеству на тесте.\n",
    "</div>\n"
   ]
  },
  {
   "cell_type": "code",
   "execution_count": 59,
   "metadata": {},
   "outputs": [
    {
     "name": "stdout",
     "output_type": "stream",
     "text": [
      "F1 на тестовой выборке равен:  0.610738255033557\n"
     ]
    },
    {
     "data": {
      "text/plain": [
       "('Площадь под ROC-кривой ', 0.8532495041757174)"
      ]
     },
     "execution_count": 59,
     "metadata": {},
     "output_type": "execute_result"
    }
   ],
   "source": [
    "model = RandomForestClassifier(random_state=12345, max_depth = 9, n_estimators=60, class_weight='balanced')\n",
    "model.fit(features_train, target_train)\n",
    "predicted_test = model.predict(features_test)\n",
    "print(\"F1 на тестовой выборке равен: \",f1_score(target_test, predicted_test))\n",
    "auc_roc(model, features_test, target_test)"
   ]
  },
  {
   "cell_type": "markdown",
   "metadata": {},
   "source": [
    "Вычислим полноту recall(показатель качества модели, доля охвата моделью из клиентов\n",
    "которые перестанут пользоваться услугами банка)."
   ]
  },
  {
   "cell_type": "code",
   "execution_count": 66,
   "metadata": {},
   "outputs": [
    {
     "data": {
      "text/plain": [
       "0.6903073286052009"
      ]
     },
     "execution_count": 66,
     "metadata": {},
     "output_type": "execute_result"
    }
   ],
   "source": [
    "recall_score(target_test, predicted_test)"
   ]
  },
  {
   "cell_type": "markdown",
   "metadata": {},
   "source": [
    "\"recall \" = 0.69"
   ]
  },
  {
   "cell_type": "markdown",
   "metadata": {},
   "source": [
    "<div class=\"alert alert-success\">\n",
    "<h2> Комментарий ревьюера #2 <a class=\"tocSkip\"> </h2>\n",
    "\n",
    "👍 Кстати, это достаточно неплохой результат.\n",
    "</div>\n"
   ]
  },
  {
   "cell_type": "markdown",
   "metadata": {},
   "source": [
    "Построим ROC- кривую самой лучшей модели."
   ]
  },
  {
   "cell_type": "code",
   "execution_count": 60,
   "metadata": {},
   "outputs": [],
   "source": [
    "probabilities_test = model.predict_proba(features_test)\n",
    "probabilities_one_test = probabilities_test[:, 1]\n",
    "\n",
    "fpr, tpr, thresholds = roc_curve(target_test, probabilities_one_test)"
   ]
  },
  {
   "cell_type": "code",
   "execution_count": 61,
   "metadata": {},
   "outputs": [
    {
     "data": {
      "image/png": "[encoded data removed]",
      "text/plain": [
       "<Figure size 432x288 with 1 Axes>"
      ]
     },
     "metadata": {
      "needs_background": "light"
     },
     "output_type": "display_data"
    }
   ],
   "source": [
    "plt.figure()\n",
    "plt.plot(fpr,tpr)\n",
    "plt.plot([0, 1], [0, 1], linestyle='--')\n",
    "plt.xlim([0.0, 1.0])\n",
    "plt.ylim([0.0, 1.0])\n",
    "plt.xlabel(\"False Positive Rate\")# < примените функции plt.xlim() и plt.ylim(), чтобы\n",
    "plt.ylabel(\"True Positive Rate\")\n",
    "plt.title('ROC-кривая')#   установить границы осей от 0 до 1 >\n",
    "plt.show()"
   ]
  },
  {
   "cell_type": "markdown",
   "metadata": {},
   "source": [
    "### Вывод:\n",
    "     Из «Бета-Банка» стали уходить клиенты. Каждый месяц. Немного, но заметно.\n",
    "Банковские маркетологи  посчитали: сохранять  текущих  клиентов  дешевле, чем \n",
    "привлекать новых. Нужно спрогнозировать, уйдёт клиент из  банка  в  ближайшее \n",
    "время или нет. Вам предоставлены исторические данные о  поведении  клиентов и \n",
    "расторжении договоров с банком. \n",
    "     Были построины модели для задачи предсказания отказа клиента от банковс-\n",
    "ких услуг «Бета-Банка». \n",
    "Распологаемые данные переработанны. Пропуски в толбце Tenure(сколько лет клиен\n",
    "пользуется услугами банка) на медианное значения этого столбца, данные  чистые\n",
    "без выбросов и авнамалий.\n",
    "   - Было проведенно исследование моделей дерево решений, случайный лес и \n",
    "     логистическая регрессия.\n",
    "   - Самое высокое качество у модели случайный лес(RandomForestClassifier)\n",
    "     с гиперпараметрами n_estimators равным - 60 и max_depth равным 9\n",
    "     метрика F1 = 0.61; auc_roc = 0.85\n",
    "   \n",
    "        \n",
    "Рекомендации бизнесу.\n",
    "Рекомендую: \n",
    "Для предсказания поведения клиента использовать модель случайный лес.\n",
    "Показатель качества этой модели F1 = 0.61(это выше установленного порога для \n",
    "технического задания на 0.2) auc_roc = 0.85 это самые высокие показатели. \n",
    "А также показатель качества recall  почти 70% это говорит о том, что модель предскажет\n",
    "70% клиентов из 100% которые уйдут из банка.\n",
    "Показатели auc_roc и F1 коррелируют между собой, метрика F1 более подхоит в этой\n",
    "задаче т.к. в ней необходима точность прогноза.\n",
    "\n",
    "\n",
    "\n"
   ]
  },
  {
   "cell_type": "markdown",
   "metadata": {},
   "source": [
    "<div class=\"alert alert-success\">\n",
    "<h2> Комментарий ревьюера #2 <a class=\"tocSkip\"> </h2>\n",
    "\n",
    "👍 По выводу: со смысловыми акцентами все ок. Единственное, по ТЗ у нас порог не 0.2, а 0.59. \n",
    "</div>\n"
   ]
  },
  {
   "cell_type": "markdown",
   "metadata": {},
   "source": [
    "<div class=\"alert alert-block alert-danger\">\n",
    "<h2><s> Комментарий ревьюера <a class=\"tocSkip\"></h2>\n",
    "  \n",
    "<b>На доработку🤔:</b>\n",
    "    \n",
    "Наша задача - найти оптимальную модель и объяснить, что она будет полезна бизнесу. Именно на этом следует сделать акцент в финальном выводе.\n",
    " \n",
    "Необходимо дополнить общий вывод по проекту: описать лучшую модель, ее результаты на тестовой выборке, сравнить модель с константной, прокомментировать, как модель решает задачу бизнеса: здесь можно подсчитать recall и объяснить, какую долю клиентов на отток мы детектируем верно.\n",
    "\n",
    "</div>"
   ]
  },
  {
   "cell_type": "markdown",
   "metadata": {},
   "source": [
    "<div class=\"alert alert-warning\">\n",
    "<h2> Комментарий ревьюера <a class=\"tocSkip\"> </h2>\n",
    "    \n",
    "<b>Некоторые замечания и рекомендации💡:</b> \n",
    "\n",
    "Здесь в дамми-модели я бы предсказал везде «1». Условно говоря, если предсказываем ноль, моделируем ситуацию, когда акцию с бонусами для удержания клиентов решили не проводить. Если предсказываем единицу − решили раздать бонусы вообще всем клиентам. Если в дамми-модели предсказываем по единице, можно подсчитать F1, она не будет зануляться.\n",
    "    \n",
    "`dummy_model = DummyClassifier(strategy='constant', constant=1)\n",
    "dummy_model.fit(features_train, target_train)\n",
    "f1_score(dummy_model.predict(features_test), target_test)`\n",
    "    \n",
    "Импорт: from sklearn.dummy import DummyClassifier\n",
    "\n",
    "       \n",
    "</div>"
   ]
  },
  {
   "cell_type": "markdown",
   "metadata": {},
   "source": [
    "<div style=\"border:solid Chocolate 2px; padding: 40px\">\n",
    "\n",
    "**Общий вывод по проекту**\n",
    "    \n",
    "Спасибо за твой проект! Есть несколько важных моментов, которые необходимо улучшить. Их ты найдешь в разноцветных комментариях.\n",
    "    \n",
    "**Отмечу положительные моменты проекта🚀**\n",
    "    \n",
    "* Хорошая структура проекта. Выбор моделей, порядок исследования.\n",
    "* Есть пояснения к шагам, код с высокой читаемостью. \n",
    "    \n",
    "**На что стоит обратить внимание🤔**\n",
    "    \n",
    "* Необходимо поправить ошибки, чтобы проект отрабатывал без падений.\n",
    "* Нужно масштабировать данные после разбиения на выборки.\n",
    "* Гиперпараметры моделеям подбираем в каждом случае применения методики борьбы с дисбалансом и в исследовании моделей без учета дисбаланса. Смотрим везде все модели.\n",
    "* До тестирования тестовую выборку не трогаем. После объявления тестирования уже не трогаем валидационную: Гиперпараметры подбираем на валидационной, после чего описываем лучшую модель. Затем проводим тестирование этой лучшей модели на тестовой выборке.\n",
    "* Апсемплинг не нужно сочетать с гиперпараметром взвешенных классов.\n",
    "* Необходимо везде оставлять промежуточные выводы и дополнить итоговый вывод.\n",
    "* Необходимо достичь качества модели F1>0.59 на тесте.\n",
    "* Эти и остальные замечания я также написал по ходу проекта.\n",
    "    \n",
    "**Желаю удачи и жду твой проект на повторное ревью!**😉\n",
    "    \n",
    "    \n",
    "</div>\n"
   ]
  },
  {
   "cell_type": "markdown",
   "metadata": {},
   "source": [
    "Привет Кирил. Проект я начал делать почти 2 недели назад, накидать код без пояснений\n",
    "давольнотаки быстро, но у меня ни как не выходило 0,62 т.к. когда я начал делать проект\n",
    "в условии задачи было F1 не 0.59 а 0.62. По этому я использовал умножение класов и \n",
    "баланс в месте, хотя это не правильно. В теории не говорили что кодирование надо использовать\n",
    "до разделения выборок"
   ]
  },
  {
   "cell_type": "markdown",
   "metadata": {},
   "source": [
    "<div class=\"alert alert-success\">\n",
    "<h2> Комментарий ревьюера #2 <a class=\"tocSkip\"> </h2>\n",
    "\n",
    "👍 По сочетанию методов - да, это ошибка, но зато мы увидели, что качество не меняется(если заметил, там один в один до десятой доли после запятой будет результат равным). По энкодингу - выше написал, что если используем get_dummies(), то нужно применять до разбиения на выборки, так как если какая-то категория не попадет в тренировочную и окажется на валидационной или тестовой, то код упадет (количество колонок не совпадет в выборках). \n",
    "    \n",
    "Второй метод от Sklearn (также дал инструкцию выше в желтом комментарии)  уже умеет работать с незнакомыми категориями, что и удобно, и правильно, если берем модель в прод. Более подробно о том, чем методы отличаются, описано по ссылке на колаб. Там же и решения по коду. Дальше в проектах все это понадобится. Я думаю, ссылку или инструкцию еще должны будут скинуть или отобразить в тренажере, но на всякий случай советую ее себе сохранить.\n",
    "    \n",
    "    \n",
    "</div>\n"
   ]
  },
  {
   "cell_type": "markdown",
   "metadata": {},
   "source": [
    "<div style=\"border:solid Chocolate 2px; padding: 40px\">\n",
    "\n",
    "**Комментарий ко второй проверке**\n",
    "\n",
    "Спасибо за доработку. Критичных комментариев нет. \n",
    "\n",
    "Желаю удачи в дальнейшей учебе!\n",
    "\n",
    "</div>\n",
    "\n"
   ]
  },
  {
   "cell_type": "markdown",
   "metadata": {},
   "source": [
    "## Чек-лист готовности проекта"
   ]
  },
  {
   "cell_type": "markdown",
   "metadata": {},
   "source": [
    "Поставьте 'x' в выполненных пунктах. Далее нажмите Shift+Enter."
   ]
  },
  {
   "cell_type": "markdown",
   "metadata": {},
   "source": [
    "- [x]  Jupyter Notebook открыт\n",
    "- [ ]  Весь код выполняется без ошибок\n",
    "- [ ]  Ячейки с кодом расположены в порядке исполнения\n",
    "- [ ]  Выполнен шаг 1: данные подготовлены\n",
    "- [ ]  Выполнен шаг 2: задача исследована\n",
    "    - [ ]  Исследован баланс классов\n",
    "    - [ ]  Изучены модели без учёта дисбаланса\n",
    "    - [ ]  Написаны выводы по результатам исследования\n",
    "- [ ]  Выполнен шаг 3: учтён дисбаланс\n",
    "    - [ ]  Применено несколько способов борьбы с дисбалансом\n",
    "    - [ ]  Написаны выводы по результатам исследования\n",
    "- [ ]  Выполнен шаг 4: проведено тестирование\n",
    "- [ ]  Удалось достичь *F1*-меры не менее 0.59\n",
    "- [ ]  Исследована метрика *AUC-ROC*"
   ]
  }
 ],
 "metadata": {
  "ExecuteTimeLog": [
   {
    "duration": 1155,
    "start_time": "2023-03-20T13:23:57.049Z"
   },
   {
    "duration": 167,
    "start_time": "2023-03-20T13:23:58.206Z"
   },
   {
    "duration": 19,
    "start_time": "2023-03-20T13:23:58.589Z"
   },
   {
    "duration": 15,
    "start_time": "2023-03-20T13:24:26.163Z"
   },
   {
    "duration": 9,
    "start_time": "2023-03-20T13:25:04.137Z"
   },
   {
    "duration": 11,
    "start_time": "2023-03-20T13:25:47.938Z"
   },
   {
    "duration": 5,
    "start_time": "2023-03-20T13:25:49.216Z"
   },
   {
    "duration": 8,
    "start_time": "2023-03-20T13:25:50.875Z"
   },
   {
    "duration": 4,
    "start_time": "2023-03-20T13:26:24.089Z"
   },
   {
    "duration": 12,
    "start_time": "2023-03-20T13:27:02.955Z"
   },
   {
    "duration": 12,
    "start_time": "2023-03-20T13:27:26.416Z"
   },
   {
    "duration": 5,
    "start_time": "2023-03-20T13:28:27.312Z"
   },
   {
    "duration": 18,
    "start_time": "2023-03-20T13:29:03.663Z"
   },
   {
    "duration": 7,
    "start_time": "2023-03-20T13:30:08.814Z"
   },
   {
    "duration": 29,
    "start_time": "2023-03-20T13:30:48.821Z"
   },
   {
    "duration": 37,
    "start_time": "2023-03-20T16:00:10.290Z"
   },
   {
    "duration": 103,
    "start_time": "2023-03-20T20:20:08.124Z"
   },
   {
    "duration": 65,
    "start_time": "2023-03-21T16:04:10.392Z"
   },
   {
    "duration": 1224,
    "start_time": "2023-03-21T16:04:32.241Z"
   },
   {
    "duration": 190,
    "start_time": "2023-03-21T16:04:33.467Z"
   },
   {
    "duration": 20,
    "start_time": "2023-03-21T16:04:33.659Z"
   },
   {
    "duration": 16,
    "start_time": "2023-03-21T16:04:33.681Z"
   },
   {
    "duration": 10,
    "start_time": "2023-03-21T16:04:33.699Z"
   },
   {
    "duration": 4,
    "start_time": "2023-03-21T16:04:34.881Z"
   },
   {
    "duration": 8,
    "start_time": "2023-03-21T16:04:35.924Z"
   },
   {
    "duration": 5,
    "start_time": "2023-03-21T16:04:38.222Z"
   },
   {
    "duration": 10,
    "start_time": "2023-03-21T16:04:38.779Z"
   },
   {
    "duration": 12,
    "start_time": "2023-03-21T16:04:39.747Z"
   },
   {
    "duration": 2,
    "start_time": "2023-03-21T16:04:49.259Z"
   },
   {
    "duration": 12,
    "start_time": "2023-03-21T16:04:50.756Z"
   },
   {
    "duration": 4,
    "start_time": "2023-03-21T16:04:56.489Z"
   },
   {
    "duration": 5,
    "start_time": "2023-03-21T16:06:19.251Z"
   },
   {
    "duration": 4,
    "start_time": "2023-03-21T16:06:19.348Z"
   },
   {
    "duration": 73,
    "start_time": "2023-03-21T16:06:20.118Z"
   },
   {
    "duration": 11,
    "start_time": "2023-03-21T16:06:20.826Z"
   },
   {
    "duration": 5,
    "start_time": "2023-03-21T16:06:35.185Z"
   },
   {
    "duration": 45,
    "start_time": "2023-03-21T16:06:35.861Z"
   },
   {
    "duration": 13,
    "start_time": "2023-03-21T16:06:36.439Z"
   },
   {
    "duration": 13,
    "start_time": "2023-03-21T16:06:37.281Z"
   },
   {
    "duration": 10,
    "start_time": "2023-03-21T16:06:37.688Z"
   },
   {
    "duration": 5,
    "start_time": "2023-03-21T16:06:38.341Z"
   },
   {
    "duration": 13,
    "start_time": "2023-03-21T16:06:38.989Z"
   },
   {
    "duration": 4,
    "start_time": "2023-03-21T16:06:39.636Z"
   },
   {
    "duration": 9,
    "start_time": "2023-03-21T16:06:40.393Z"
   },
   {
    "duration": 12,
    "start_time": "2023-03-21T16:06:42.231Z"
   },
   {
    "duration": 14,
    "start_time": "2023-03-21T16:06:43.720Z"
   },
   {
    "duration": 2,
    "start_time": "2023-03-21T16:06:47.081Z"
   },
   {
    "duration": 9,
    "start_time": "2023-03-21T16:06:47.836Z"
   },
   {
    "duration": 6,
    "start_time": "2023-03-21T16:06:49.617Z"
   },
   {
    "duration": 7,
    "start_time": "2023-03-21T16:06:54.284Z"
   },
   {
    "duration": 31,
    "start_time": "2023-03-21T16:07:52.457Z"
   },
   {
    "duration": 614,
    "start_time": "2023-03-21T16:18:37.095Z"
   },
   {
    "duration": 0,
    "start_time": "2023-03-21T16:33:57.477Z"
   },
   {
    "duration": 15643,
    "start_time": "2023-03-21T17:19:04.811Z"
   },
   {
    "duration": 509,
    "start_time": "2023-03-21T17:28:33.136Z"
   },
   {
    "duration": 17821,
    "start_time": "2023-03-21T17:44:58.534Z"
   },
   {
    "duration": 1144,
    "start_time": "2023-03-22T11:10:32.187Z"
   },
   {
    "duration": 173,
    "start_time": "2023-03-22T11:10:33.333Z"
   },
   {
    "duration": 27,
    "start_time": "2023-03-22T11:10:33.509Z"
   },
   {
    "duration": 17,
    "start_time": "2023-03-22T11:10:33.538Z"
   },
   {
    "duration": 8,
    "start_time": "2023-03-22T11:10:33.558Z"
   },
   {
    "duration": 21,
    "start_time": "2023-03-22T11:10:33.567Z"
   },
   {
    "duration": 9,
    "start_time": "2023-03-22T11:10:33.591Z"
   },
   {
    "duration": 5,
    "start_time": "2023-03-22T11:10:33.603Z"
   },
   {
    "duration": 6,
    "start_time": "2023-03-22T11:10:33.610Z"
   },
   {
    "duration": 15,
    "start_time": "2023-03-22T11:10:33.618Z"
   },
   {
    "duration": 18,
    "start_time": "2023-03-22T11:10:33.635Z"
   },
   {
    "duration": 6,
    "start_time": "2023-03-22T11:10:33.692Z"
   },
   {
    "duration": 16,
    "start_time": "2023-03-22T11:10:33.700Z"
   },
   {
    "duration": 5,
    "start_time": "2023-03-22T11:10:33.720Z"
   },
   {
    "duration": 63,
    "start_time": "2023-03-22T11:10:33.727Z"
   },
   {
    "duration": 574,
    "start_time": "2023-03-22T11:10:33.792Z"
   },
   {
    "duration": 13285,
    "start_time": "2023-03-22T11:10:34.367Z"
   },
   {
    "duration": 243,
    "start_time": "2023-03-22T11:10:47.653Z"
   },
   {
    "duration": 13103,
    "start_time": "2023-03-22T11:10:47.898Z"
   },
   {
    "duration": 240,
    "start_time": "2023-03-22T11:11:01.003Z"
   },
   {
    "duration": 143,
    "start_time": "2023-03-22T11:11:01.290Z"
   },
   {
    "duration": 325,
    "start_time": "2023-03-22T11:11:01.434Z"
   },
   {
    "duration": 9554,
    "start_time": "2023-03-22T11:11:01.761Z"
   },
   {
    "duration": 9247,
    "start_time": "2023-03-22T12:37:33.864Z"
   },
   {
    "duration": 5,
    "start_time": "2023-03-22T12:38:12.695Z"
   },
   {
    "duration": 38,
    "start_time": "2023-03-22T12:38:13.186Z"
   },
   {
    "duration": 12,
    "start_time": "2023-03-22T12:38:13.937Z"
   },
   {
    "duration": 13,
    "start_time": "2023-03-22T12:38:17.782Z"
   },
   {
    "duration": 10,
    "start_time": "2023-03-22T12:38:17.797Z"
   },
   {
    "duration": 5,
    "start_time": "2023-03-22T12:38:17.809Z"
   },
   {
    "duration": 8,
    "start_time": "2023-03-22T12:38:17.861Z"
   },
   {
    "duration": 5,
    "start_time": "2023-03-22T12:38:17.910Z"
   },
   {
    "duration": 6,
    "start_time": "2023-03-22T12:38:18.734Z"
   },
   {
    "duration": 8,
    "start_time": "2023-03-22T12:38:22.934Z"
   },
   {
    "duration": 13,
    "start_time": "2023-03-22T12:38:22.944Z"
   },
   {
    "duration": 3,
    "start_time": "2023-03-22T12:38:23.010Z"
   },
   {
    "duration": 11,
    "start_time": "2023-03-22T12:38:23.213Z"
   },
   {
    "duration": 5,
    "start_time": "2023-03-22T12:38:24.026Z"
   },
   {
    "duration": 29,
    "start_time": "2023-03-22T12:38:33.183Z"
   },
   {
    "duration": 483,
    "start_time": "2023-03-22T12:38:33.506Z"
   },
   {
    "duration": 0,
    "start_time": "2023-03-22T12:43:51.850Z"
   },
   {
    "duration": 61,
    "start_time": "2023-03-22T12:43:55.022Z"
   },
   {
    "duration": 13118,
    "start_time": "2023-03-22T12:44:26.389Z"
   },
   {
    "duration": 13345,
    "start_time": "2023-03-22T12:44:45.889Z"
   },
   {
    "duration": 13304,
    "start_time": "2023-03-22T12:45:12.258Z"
   },
   {
    "duration": 475,
    "start_time": "2023-03-22T12:47:03.987Z"
   },
   {
    "duration": 4,
    "start_time": "2023-03-22T12:47:27.612Z"
   },
   {
    "duration": 13199,
    "start_time": "2023-03-22T12:48:06.631Z"
   },
   {
    "duration": 5,
    "start_time": "2023-03-22T12:48:48.058Z"
   },
   {
    "duration": 258,
    "start_time": "2023-03-22T12:48:50.320Z"
   },
   {
    "duration": 256,
    "start_time": "2023-03-22T12:49:03.284Z"
   },
   {
    "duration": 324,
    "start_time": "2023-03-22T12:51:55.834Z"
   },
   {
    "duration": 9418,
    "start_time": "2023-03-22T12:52:06.591Z"
   },
   {
    "duration": 9507,
    "start_time": "2023-03-22T12:53:08.777Z"
   },
   {
    "duration": 461,
    "start_time": "2023-03-22T12:55:41.594Z"
   },
   {
    "duration": 3,
    "start_time": "2023-03-22T12:55:48.858Z"
   },
   {
    "duration": 12826,
    "start_time": "2023-03-22T12:55:49.897Z"
   },
   {
    "duration": 263,
    "start_time": "2023-03-22T12:56:13.948Z"
   },
   {
    "duration": 42,
    "start_time": "2023-03-22T12:57:25.713Z"
   },
   {
    "duration": 472,
    "start_time": "2023-03-22T12:57:28.111Z"
   },
   {
    "duration": 4,
    "start_time": "2023-03-22T12:57:30.690Z"
   },
   {
    "duration": 13380,
    "start_time": "2023-03-22T12:57:32.454Z"
   },
   {
    "duration": 3,
    "start_time": "2023-03-22T12:57:45.836Z"
   },
   {
    "duration": 259,
    "start_time": "2023-03-22T12:57:45.841Z"
   },
   {
    "duration": 243,
    "start_time": "2023-03-22T12:57:51.012Z"
   },
   {
    "duration": 14277,
    "start_time": "2023-03-22T12:57:59.716Z"
   },
   {
    "duration": 225,
    "start_time": "2023-03-22T12:58:13.996Z"
   },
   {
    "duration": 75,
    "start_time": "2023-03-22T12:58:14.521Z"
   },
   {
    "duration": 332,
    "start_time": "2023-03-22T12:58:17.192Z"
   },
   {
    "duration": 9116,
    "start_time": "2023-03-22T12:58:33.440Z"
   },
   {
    "duration": 9141,
    "start_time": "2023-03-22T12:59:21.221Z"
   },
   {
    "duration": 4,
    "start_time": "2023-03-22T13:00:19.315Z"
   },
   {
    "duration": 38,
    "start_time": "2023-03-22T13:00:20.181Z"
   },
   {
    "duration": 12,
    "start_time": "2023-03-22T13:00:20.933Z"
   },
   {
    "duration": 13,
    "start_time": "2023-03-22T13:00:21.817Z"
   },
   {
    "duration": 9,
    "start_time": "2023-03-22T13:00:22.678Z"
   },
   {
    "duration": 6,
    "start_time": "2023-03-22T13:00:23.547Z"
   },
   {
    "duration": 7,
    "start_time": "2023-03-22T13:00:24.514Z"
   },
   {
    "duration": 4,
    "start_time": "2023-03-22T13:00:25.410Z"
   },
   {
    "duration": 4,
    "start_time": "2023-03-22T13:00:26.350Z"
   },
   {
    "duration": 10,
    "start_time": "2023-03-22T13:00:27.235Z"
   },
   {
    "duration": 12,
    "start_time": "2023-03-22T13:00:28.126Z"
   },
   {
    "duration": 2,
    "start_time": "2023-03-22T13:00:29.132Z"
   },
   {
    "duration": 9,
    "start_time": "2023-03-22T13:00:30.026Z"
   },
   {
    "duration": 4,
    "start_time": "2023-03-22T13:00:30.951Z"
   },
   {
    "duration": 37,
    "start_time": "2023-03-22T13:00:36.949Z"
   },
   {
    "duration": 458,
    "start_time": "2023-03-22T13:00:45.715Z"
   },
   {
    "duration": 4,
    "start_time": "2023-03-22T13:00:47.629Z"
   },
   {
    "duration": 13044,
    "start_time": "2023-03-22T13:01:01.398Z"
   },
   {
    "duration": 3,
    "start_time": "2023-03-22T13:01:14.444Z"
   },
   {
    "duration": 250,
    "start_time": "2023-03-22T13:01:14.449Z"
   },
   {
    "duration": 14665,
    "start_time": "2023-03-22T13:01:28.124Z"
   },
   {
    "duration": 146,
    "start_time": "2023-03-22T13:01:42.798Z"
   },
   {
    "duration": 55,
    "start_time": "2023-03-22T13:01:50.150Z"
   },
   {
    "duration": 340,
    "start_time": "2023-03-22T13:02:16.286Z"
   },
   {
    "duration": 47,
    "start_time": "2023-03-22T13:03:45.011Z"
   },
   {
    "duration": 39,
    "start_time": "2023-03-22T13:04:47.417Z"
   },
   {
    "duration": 44,
    "start_time": "2023-03-22T13:04:55.228Z"
   },
   {
    "duration": 38,
    "start_time": "2023-03-22T13:05:00.973Z"
   },
   {
    "duration": 51,
    "start_time": "2023-03-22T13:05:06.694Z"
   },
   {
    "duration": 55,
    "start_time": "2023-03-22T13:05:12.446Z"
   },
   {
    "duration": 61,
    "start_time": "2023-03-22T13:05:19.659Z"
   },
   {
    "duration": 48,
    "start_time": "2023-03-22T13:05:26.378Z"
   },
   {
    "duration": 52,
    "start_time": "2023-03-22T13:05:44.776Z"
   },
   {
    "duration": 9496,
    "start_time": "2023-03-22T13:06:57.168Z"
   },
   {
    "duration": 9065,
    "start_time": "2023-03-22T13:07:21.610Z"
   },
   {
    "duration": 113671,
    "start_time": "2023-03-22T13:18:17.470Z"
   },
   {
    "duration": 31,
    "start_time": "2023-03-22T13:27:41.938Z"
   },
   {
    "duration": 16,
    "start_time": "2023-03-22T13:28:45.991Z"
   },
   {
    "duration": 7,
    "start_time": "2023-03-22T13:29:28.746Z"
   },
   {
    "duration": 3,
    "start_time": "2023-03-22T13:29:41.295Z"
   },
   {
    "duration": 38,
    "start_time": "2023-03-22T13:29:42.447Z"
   },
   {
    "duration": 23,
    "start_time": "2023-03-22T13:29:43.996Z"
   },
   {
    "duration": 12,
    "start_time": "2023-03-22T13:29:46.106Z"
   },
   {
    "duration": 8,
    "start_time": "2023-03-22T13:29:50.489Z"
   },
   {
    "duration": 19,
    "start_time": "2023-03-22T13:32:12.451Z"
   },
   {
    "duration": 25,
    "start_time": "2023-03-22T13:34:14.546Z"
   },
   {
    "duration": 11,
    "start_time": "2023-03-22T13:43:44.640Z"
   },
   {
    "duration": 9,
    "start_time": "2023-03-22T13:44:00.615Z"
   },
   {
    "duration": 9,
    "start_time": "2023-03-22T13:46:26.029Z"
   },
   {
    "duration": 4,
    "start_time": "2023-03-22T14:10:28.434Z"
   },
   {
    "duration": 5,
    "start_time": "2023-03-22T14:16:47.903Z"
   },
   {
    "duration": 12,
    "start_time": "2023-03-22T14:16:49.234Z"
   },
   {
    "duration": 13,
    "start_time": "2023-03-22T14:16:49.982Z"
   },
   {
    "duration": 3,
    "start_time": "2023-03-22T14:16:52.556Z"
   },
   {
    "duration": 8,
    "start_time": "2023-03-22T14:16:53.466Z"
   },
   {
    "duration": 5,
    "start_time": "2023-03-22T14:16:55.142Z"
   },
   {
    "duration": 13,
    "start_time": "2023-03-22T14:21:28.149Z"
   },
   {
    "duration": 9,
    "start_time": "2023-03-22T14:23:31.701Z"
   },
   {
    "duration": 4,
    "start_time": "2023-03-22T14:24:45.764Z"
   },
   {
    "duration": 39,
    "start_time": "2023-03-22T15:27:24.494Z"
   },
   {
    "duration": 3,
    "start_time": "2023-03-22T15:27:29.878Z"
   },
   {
    "duration": 9,
    "start_time": "2023-03-22T15:27:38.213Z"
   },
   {
    "duration": 5,
    "start_time": "2023-03-22T15:27:42.894Z"
   },
   {
    "duration": 3,
    "start_time": "2023-03-22T15:28:29.564Z"
   },
   {
    "duration": 18,
    "start_time": "2023-03-22T15:28:31.619Z"
   },
   {
    "duration": 4,
    "start_time": "2023-03-22T15:29:50.138Z"
   },
   {
    "duration": 49,
    "start_time": "2023-03-22T15:29:51.582Z"
   },
   {
    "duration": 33,
    "start_time": "2023-03-22T15:29:52.988Z"
   },
   {
    "duration": 18,
    "start_time": "2023-03-22T15:29:55.286Z"
   },
   {
    "duration": 7,
    "start_time": "2023-03-22T15:29:57.649Z"
   },
   {
    "duration": 28,
    "start_time": "2023-03-22T15:29:59.546Z"
   },
   {
    "duration": 13,
    "start_time": "2023-03-22T15:30:07.587Z"
   },
   {
    "duration": 5,
    "start_time": "2023-03-22T15:30:09.436Z"
   },
   {
    "duration": 10,
    "start_time": "2023-03-22T15:30:10.919Z"
   },
   {
    "duration": 5,
    "start_time": "2023-03-22T15:30:13.470Z"
   },
   {
    "duration": 4,
    "start_time": "2023-03-22T15:30:15.252Z"
   },
   {
    "duration": 10,
    "start_time": "2023-03-22T15:30:17.654Z"
   },
   {
    "duration": 12,
    "start_time": "2023-03-22T15:30:20.672Z"
   },
   {
    "duration": 37,
    "start_time": "2023-03-22T15:30:25.327Z"
   },
   {
    "duration": 2,
    "start_time": "2023-03-22T15:30:26.474Z"
   },
   {
    "duration": 11,
    "start_time": "2023-03-22T15:30:28.833Z"
   },
   {
    "duration": 6,
    "start_time": "2023-03-22T15:31:18.066Z"
   },
   {
    "duration": 2,
    "start_time": "2023-03-22T15:31:24.139Z"
   },
   {
    "duration": 9,
    "start_time": "2023-03-22T15:31:25.728Z"
   },
   {
    "duration": 5,
    "start_time": "2023-03-22T15:31:30.165Z"
   },
   {
    "duration": 3,
    "start_time": "2023-03-22T15:31:34.615Z"
   },
   {
    "duration": 529,
    "start_time": "2023-03-22T15:31:36.731Z"
   },
   {
    "duration": 120476,
    "start_time": "2023-03-22T15:32:06.388Z"
   },
   {
    "duration": 525,
    "start_time": "2023-03-22T15:35:17.216Z"
   },
   {
    "duration": 121437,
    "start_time": "2023-03-22T15:35:26.067Z"
   },
   {
    "duration": 13807,
    "start_time": "2023-03-22T15:40:31.301Z"
   },
   {
    "duration": 8074,
    "start_time": "2023-03-22T15:41:43.907Z"
   },
   {
    "duration": 13911,
    "start_time": "2023-03-22T15:42:14.017Z"
   },
   {
    "duration": 6,
    "start_time": "2023-03-22T15:43:13.396Z"
   },
   {
    "duration": 508,
    "start_time": "2023-03-22T15:43:35.364Z"
   },
   {
    "duration": 4,
    "start_time": "2023-03-22T15:43:37.913Z"
   },
   {
    "duration": 13712,
    "start_time": "2023-03-22T15:43:40.906Z"
   },
   {
    "duration": 276,
    "start_time": "2023-03-22T15:44:22.524Z"
   },
   {
    "duration": 11051,
    "start_time": "2023-03-22T15:44:37.547Z"
   },
   {
    "duration": 201,
    "start_time": "2023-03-22T15:44:48.603Z"
   },
   {
    "duration": 54,
    "start_time": "2023-03-22T15:45:23.308Z"
   },
   {
    "duration": 62,
    "start_time": "2023-03-22T15:45:29.773Z"
   },
   {
    "duration": 58,
    "start_time": "2023-03-22T15:45:36.663Z"
   },
   {
    "duration": 42,
    "start_time": "2023-03-22T15:46:31.749Z"
   },
   {
    "duration": 47,
    "start_time": "2023-03-22T15:46:38.928Z"
   },
   {
    "duration": 46,
    "start_time": "2023-03-22T15:46:53.526Z"
   },
   {
    "duration": 46,
    "start_time": "2023-03-22T15:47:20.581Z"
   },
   {
    "duration": 51,
    "start_time": "2023-03-22T15:47:27.161Z"
   },
   {
    "duration": 44,
    "start_time": "2023-03-22T15:47:33.271Z"
   },
   {
    "duration": 31,
    "start_time": "2023-03-22T15:50:02.541Z"
   },
   {
    "duration": 59,
    "start_time": "2023-03-22T15:50:27.238Z"
   },
   {
    "duration": 3502,
    "start_time": "2023-03-22T15:52:54.431Z"
   },
   {
    "duration": 473,
    "start_time": "2023-03-22T18:18:01.755Z"
   },
   {
    "duration": 12783,
    "start_time": "2023-03-22T18:23:10.668Z"
   },
   {
    "duration": 461,
    "start_time": "2023-03-22T18:27:02.443Z"
   },
   {
    "duration": 455,
    "start_time": "2023-03-22T18:27:15.989Z"
   },
   {
    "duration": 449,
    "start_time": "2023-03-22T18:27:36.764Z"
   },
   {
    "duration": 22,
    "start_time": "2023-03-22T18:29:36.537Z"
   },
   {
    "duration": 23,
    "start_time": "2023-03-22T18:30:18.666Z"
   },
   {
    "duration": 12903,
    "start_time": "2023-03-22T18:30:39.134Z"
   },
   {
    "duration": 255,
    "start_time": "2023-03-22T18:32:03.051Z"
   },
   {
    "duration": 13305,
    "start_time": "2023-03-22T18:35:53.092Z"
   },
   {
    "duration": 28,
    "start_time": "2023-03-22T18:37:41.430Z"
   },
   {
    "duration": 13796,
    "start_time": "2023-03-22T18:39:00.395Z"
   },
   {
    "duration": 24,
    "start_time": "2023-03-22T18:40:22.762Z"
   },
   {
    "duration": 3696,
    "start_time": "2023-03-22T18:43:40.895Z"
   },
   {
    "duration": 3614,
    "start_time": "2023-03-22T18:44:07.329Z"
   },
   {
    "duration": 3,
    "start_time": "2023-03-22T18:44:50.629Z"
   },
   {
    "duration": 3573,
    "start_time": "2023-03-22T18:44:51.866Z"
   },
   {
    "duration": 3531,
    "start_time": "2023-03-22T18:45:30.512Z"
   },
   {
    "duration": 3645,
    "start_time": "2023-03-22T18:45:40.642Z"
   },
   {
    "duration": 3552,
    "start_time": "2023-03-22T18:47:16.546Z"
   },
   {
    "duration": 3590,
    "start_time": "2023-03-22T18:48:00.954Z"
   },
   {
    "duration": 3578,
    "start_time": "2023-03-22T18:48:51.123Z"
   },
   {
    "duration": 3379,
    "start_time": "2023-03-22T18:49:12.357Z"
   },
   {
    "duration": 3327,
    "start_time": "2023-03-22T18:49:58.213Z"
   },
   {
    "duration": 3299,
    "start_time": "2023-03-22T18:51:37.935Z"
   },
   {
    "duration": 3414,
    "start_time": "2023-03-22T18:52:02.827Z"
   },
   {
    "duration": 3358,
    "start_time": "2023-03-22T18:52:24.243Z"
   },
   {
    "duration": 3372,
    "start_time": "2023-03-22T18:53:34.870Z"
   },
   {
    "duration": 3249,
    "start_time": "2023-03-22T18:54:01.740Z"
   },
   {
    "duration": 3336,
    "start_time": "2023-03-22T18:56:07.315Z"
   },
   {
    "duration": 57,
    "start_time": "2023-03-22T18:56:49.417Z"
   },
   {
    "duration": 30,
    "start_time": "2023-03-22T18:56:58.795Z"
   },
   {
    "duration": 672,
    "start_time": "2023-03-22T19:03:21.346Z"
   },
   {
    "duration": 28,
    "start_time": "2023-03-22T19:04:33.203Z"
   },
   {
    "duration": 4,
    "start_time": "2023-03-22T19:14:57.870Z"
   },
   {
    "duration": 8673,
    "start_time": "2023-03-22T19:15:09.671Z"
   },
   {
    "duration": 30,
    "start_time": "2023-03-22T19:16:16.809Z"
   },
   {
    "duration": 647,
    "start_time": "2023-03-22T19:16:42.390Z"
   },
   {
    "duration": 334,
    "start_time": "2023-03-22T19:17:24.754Z"
   },
   {
    "duration": 331,
    "start_time": "2023-03-22T19:17:34.081Z"
   },
   {
    "duration": 352,
    "start_time": "2023-03-22T19:17:40.265Z"
   },
   {
    "duration": 326,
    "start_time": "2023-03-22T19:23:20.234Z"
   },
   {
    "duration": 320,
    "start_time": "2023-03-22T19:24:28.056Z"
   },
   {
    "duration": 246540,
    "start_time": "2023-03-22T19:39:30.796Z"
   },
   {
    "duration": 5,
    "start_time": "2023-03-22T19:44:21.749Z"
   },
   {
    "duration": 470,
    "start_time": "2023-03-22T19:46:59.848Z"
   },
   {
    "duration": 38,
    "start_time": "2023-03-22T19:59:29.951Z"
   },
   {
    "duration": 5,
    "start_time": "2023-03-22T20:00:22.487Z"
   },
   {
    "duration": 33,
    "start_time": "2023-03-22T20:00:32.001Z"
   },
   {
    "duration": 10,
    "start_time": "2023-03-22T20:00:53.643Z"
   },
   {
    "duration": 359,
    "start_time": "2023-03-22T20:01:29.142Z"
   },
   {
    "duration": 7,
    "start_time": "2023-03-22T20:01:38.332Z"
   },
   {
    "duration": 139,
    "start_time": "2023-03-22T20:02:30.943Z"
   },
   {
    "duration": 508,
    "start_time": "2023-03-22T20:07:01.458Z"
   },
   {
    "duration": 609,
    "start_time": "2023-03-22T20:17:43.637Z"
   },
   {
    "duration": 60,
    "start_time": "2023-03-22T20:18:07.872Z"
   },
   {
    "duration": 56,
    "start_time": "2023-03-22T20:19:19.512Z"
   },
   {
    "duration": 14120,
    "start_time": "2023-03-22T20:20:13.079Z"
   },
   {
    "duration": 4,
    "start_time": "2023-03-22T20:30:22.738Z"
   },
   {
    "duration": 277,
    "start_time": "2023-03-22T20:30:24.965Z"
   },
   {
    "duration": 507,
    "start_time": "2023-03-22T20:33:00.924Z"
   },
   {
    "duration": 13077,
    "start_time": "2023-03-22T20:33:52.302Z"
   },
   {
    "duration": 13045,
    "start_time": "2023-03-22T20:34:28.265Z"
   },
   {
    "duration": 3583,
    "start_time": "2023-03-22T20:35:05.325Z"
   },
   {
    "duration": 681,
    "start_time": "2023-03-22T20:35:30.581Z"
   },
   {
    "duration": 8542,
    "start_time": "2023-03-22T20:37:46.629Z"
   },
   {
    "duration": 8702,
    "start_time": "2023-03-22T20:38:05.629Z"
   },
   {
    "duration": 497,
    "start_time": "2023-03-22T20:41:08.809Z"
   },
   {
    "duration": 40,
    "start_time": "2023-03-22T20:41:54.211Z"
   },
   {
    "duration": 25,
    "start_time": "2023-03-22T20:42:26.038Z"
   },
   {
    "duration": 49,
    "start_time": "2023-03-22T20:45:04.374Z"
   },
   {
    "duration": 196,
    "start_time": "2023-03-22T20:45:42.195Z"
   },
   {
    "duration": 34,
    "start_time": "2023-03-22T20:47:01.778Z"
   },
   {
    "duration": 305,
    "start_time": "2023-03-22T20:47:26.342Z"
   },
   {
    "duration": 431,
    "start_time": "2023-03-22T20:47:49.080Z"
   },
   {
    "duration": 421,
    "start_time": "2023-03-22T20:55:53.220Z"
   },
   {
    "duration": 36,
    "start_time": "2023-03-22T20:56:09.467Z"
   },
   {
    "duration": 185,
    "start_time": "2023-03-22T20:56:10.319Z"
   },
   {
    "duration": 41,
    "start_time": "2023-03-22T21:59:17.954Z"
   },
   {
    "duration": 2145,
    "start_time": "2023-03-23T09:32:26.039Z"
   },
   {
    "duration": 308,
    "start_time": "2023-03-23T09:32:28.186Z"
   },
   {
    "duration": 33,
    "start_time": "2023-03-23T09:32:28.496Z"
   },
   {
    "duration": 15,
    "start_time": "2023-03-23T09:32:28.530Z"
   },
   {
    "duration": 13,
    "start_time": "2023-03-23T09:32:28.548Z"
   },
   {
    "duration": 30,
    "start_time": "2023-03-23T09:32:28.563Z"
   },
   {
    "duration": 10,
    "start_time": "2023-03-23T09:32:28.595Z"
   },
   {
    "duration": 6,
    "start_time": "2023-03-23T09:32:28.608Z"
   },
   {
    "duration": 24,
    "start_time": "2023-03-23T09:32:28.616Z"
   },
   {
    "duration": 8,
    "start_time": "2023-03-23T09:32:28.658Z"
   },
   {
    "duration": 13,
    "start_time": "2023-03-23T09:32:28.668Z"
   },
   {
    "duration": 10,
    "start_time": "2023-03-23T09:32:28.683Z"
   },
   {
    "duration": 6,
    "start_time": "2023-03-23T09:32:28.695Z"
   },
   {
    "duration": 16,
    "start_time": "2023-03-23T09:32:28.704Z"
   },
   {
    "duration": 9,
    "start_time": "2023-03-23T09:32:28.721Z"
   },
   {
    "duration": 10,
    "start_time": "2023-03-23T09:32:28.732Z"
   },
   {
    "duration": 15,
    "start_time": "2023-03-23T09:32:28.744Z"
   },
   {
    "duration": 14,
    "start_time": "2023-03-23T09:32:28.761Z"
   },
   {
    "duration": 16,
    "start_time": "2023-03-23T09:32:28.777Z"
   },
   {
    "duration": 10,
    "start_time": "2023-03-23T09:32:28.795Z"
   },
   {
    "duration": 12,
    "start_time": "2023-03-23T09:32:28.807Z"
   },
   {
    "duration": 16,
    "start_time": "2023-03-23T09:32:28.821Z"
   },
   {
    "duration": 17,
    "start_time": "2023-03-23T09:32:28.839Z"
   },
   {
    "duration": 35,
    "start_time": "2023-03-23T09:32:28.858Z"
   },
   {
    "duration": 7,
    "start_time": "2023-03-23T09:32:28.894Z"
   },
   {
    "duration": 13,
    "start_time": "2023-03-23T09:32:28.902Z"
   },
   {
    "duration": 19,
    "start_time": "2023-03-23T09:32:28.917Z"
   },
   {
    "duration": 5,
    "start_time": "2023-03-23T09:32:28.938Z"
   },
   {
    "duration": 29,
    "start_time": "2023-03-23T09:32:28.945Z"
   },
   {
    "duration": 8,
    "start_time": "2023-03-23T09:32:28.977Z"
   },
   {
    "duration": 143,
    "start_time": "2023-03-23T09:32:28.987Z"
   },
   {
    "duration": 0,
    "start_time": "2023-03-23T09:32:29.132Z"
   },
   {
    "duration": 0,
    "start_time": "2023-03-23T09:32:29.134Z"
   },
   {
    "duration": 0,
    "start_time": "2023-03-23T09:32:29.135Z"
   },
   {
    "duration": 0,
    "start_time": "2023-03-23T09:32:29.136Z"
   },
   {
    "duration": 0,
    "start_time": "2023-03-23T09:32:29.137Z"
   },
   {
    "duration": 0,
    "start_time": "2023-03-23T09:32:29.138Z"
   },
   {
    "duration": 0,
    "start_time": "2023-03-23T09:32:29.139Z"
   },
   {
    "duration": 0,
    "start_time": "2023-03-23T09:32:29.140Z"
   },
   {
    "duration": 0,
    "start_time": "2023-03-23T09:32:29.141Z"
   },
   {
    "duration": 0,
    "start_time": "2023-03-23T09:32:29.158Z"
   },
   {
    "duration": 0,
    "start_time": "2023-03-23T09:32:29.159Z"
   },
   {
    "duration": 0,
    "start_time": "2023-03-23T09:32:29.161Z"
   },
   {
    "duration": 0,
    "start_time": "2023-03-23T09:32:29.162Z"
   },
   {
    "duration": 0,
    "start_time": "2023-03-23T09:32:29.163Z"
   },
   {
    "duration": 0,
    "start_time": "2023-03-23T09:32:29.164Z"
   },
   {
    "duration": 0,
    "start_time": "2023-03-23T09:32:29.165Z"
   },
   {
    "duration": 22,
    "start_time": "2023-03-23T10:13:02.074Z"
   },
   {
    "duration": 7474,
    "start_time": "2023-03-23T10:15:30.277Z"
   },
   {
    "duration": 26,
    "start_time": "2023-03-23T10:15:37.753Z"
   },
   {
    "duration": 15487,
    "start_time": "2023-03-23T10:15:37.781Z"
   },
   {
    "duration": 203,
    "start_time": "2023-03-23T10:15:53.361Z"
   },
   {
    "duration": 3709,
    "start_time": "2023-03-23T10:15:53.657Z"
   },
   {
    "duration": 110,
    "start_time": "2023-03-23T10:15:57.458Z"
   },
   {
    "duration": 0,
    "start_time": "2023-03-23T10:15:57.659Z"
   },
   {
    "duration": 0,
    "start_time": "2023-03-23T10:15:57.661Z"
   },
   {
    "duration": 0,
    "start_time": "2023-03-23T10:15:57.662Z"
   },
   {
    "duration": 0,
    "start_time": "2023-03-23T10:15:57.664Z"
   },
   {
    "duration": 0,
    "start_time": "2023-03-23T10:15:57.665Z"
   },
   {
    "duration": 0,
    "start_time": "2023-03-23T10:15:57.666Z"
   },
   {
    "duration": 0,
    "start_time": "2023-03-23T10:15:57.668Z"
   },
   {
    "duration": 0,
    "start_time": "2023-03-23T10:15:57.669Z"
   },
   {
    "duration": 0,
    "start_time": "2023-03-23T10:15:57.670Z"
   },
   {
    "duration": 378,
    "start_time": "2023-03-23T10:58:00.014Z"
   },
   {
    "duration": 25,
    "start_time": "2023-03-23T10:58:00.394Z"
   },
   {
    "duration": 38,
    "start_time": "2023-03-23T10:58:00.421Z"
   },
   {
    "duration": 659,
    "start_time": "2023-03-23T10:58:00.462Z"
   },
   {
    "duration": 48,
    "start_time": "2023-03-23T10:58:01.123Z"
   },
   {
    "duration": 253592,
    "start_time": "2023-03-23T10:58:01.173Z"
   },
   {
    "duration": 504,
    "start_time": "2023-03-23T11:02:14.767Z"
   },
   {
    "duration": 0,
    "start_time": "2023-03-23T11:02:15.273Z"
   },
   {
    "duration": 0,
    "start_time": "2023-03-23T11:02:15.274Z"
   },
   {
    "duration": 31,
    "start_time": "2023-03-23T11:11:54.482Z"
   },
   {
    "duration": 152,
    "start_time": "2023-03-23T11:11:55.505Z"
   },
   {
    "duration": 1741,
    "start_time": "2023-03-23T16:41:15.312Z"
   },
   {
    "duration": 207,
    "start_time": "2023-03-23T16:41:17.497Z"
   },
   {
    "duration": 48,
    "start_time": "2023-03-23T16:41:19.457Z"
   },
   {
    "duration": 18,
    "start_time": "2023-03-23T16:41:21.165Z"
   },
   {
    "duration": 11,
    "start_time": "2023-03-23T16:41:22.682Z"
   },
   {
    "duration": 27,
    "start_time": "2023-03-23T16:41:24.274Z"
   },
   {
    "duration": 13,
    "start_time": "2023-03-23T16:41:26.013Z"
   },
   {
    "duration": 9,
    "start_time": "2023-03-23T16:41:27.767Z"
   },
   {
    "duration": 7,
    "start_time": "2023-03-23T16:41:33.330Z"
   },
   {
    "duration": 4,
    "start_time": "2023-03-23T16:41:33.379Z"
   },
   {
    "duration": 4,
    "start_time": "2023-03-23T16:41:33.691Z"
   },
   {
    "duration": 5,
    "start_time": "2023-03-23T16:41:34.914Z"
   },
   {
    "duration": 5,
    "start_time": "2023-03-23T16:41:35.790Z"
   },
   {
    "duration": 5,
    "start_time": "2023-03-23T16:41:36.532Z"
   },
   {
    "duration": 7,
    "start_time": "2023-03-23T16:41:37.295Z"
   },
   {
    "duration": 5,
    "start_time": "2023-03-23T16:41:38.072Z"
   },
   {
    "duration": 9,
    "start_time": "2023-03-23T16:41:38.867Z"
   },
   {
    "duration": 6,
    "start_time": "2023-03-23T16:41:39.612Z"
   },
   {
    "duration": 4,
    "start_time": "2023-03-23T16:41:40.385Z"
   },
   {
    "duration": 12,
    "start_time": "2023-03-23T16:41:41.855Z"
   },
   {
    "duration": 6,
    "start_time": "2023-03-23T16:41:43.381Z"
   },
   {
    "duration": 17,
    "start_time": "2023-03-23T16:41:46.957Z"
   },
   {
    "duration": 15,
    "start_time": "2023-03-23T16:41:56.469Z"
   },
   {
    "duration": 8,
    "start_time": "2023-03-23T16:42:02.970Z"
   },
   {
    "duration": 12,
    "start_time": "2023-03-23T16:42:05.418Z"
   },
   {
    "duration": 5,
    "start_time": "2023-03-23T16:42:07.667Z"
   },
   {
    "duration": 65,
    "start_time": "2023-03-23T16:42:08.734Z"
   },
   {
    "duration": 5,
    "start_time": "2023-03-23T16:49:35.418Z"
   },
   {
    "duration": 4,
    "start_time": "2023-03-23T16:49:36.171Z"
   },
   {
    "duration": 571,
    "start_time": "2023-03-23T16:49:42.174Z"
   },
   {
    "duration": 43,
    "start_time": "2023-03-23T16:53:16.532Z"
   },
   {
    "duration": 72,
    "start_time": "2023-03-23T17:00:57.940Z"
   },
   {
    "duration": 48,
    "start_time": "2023-03-23T17:01:07.427Z"
   },
   {
    "duration": 127,
    "start_time": "2023-03-23T17:01:40.716Z"
   },
   {
    "duration": 49,
    "start_time": "2023-03-23T17:01:58.732Z"
   },
   {
    "duration": 36,
    "start_time": "2023-03-23T17:02:49.978Z"
   },
   {
    "duration": 873,
    "start_time": "2023-03-23T17:02:50.016Z"
   },
   {
    "duration": 840,
    "start_time": "2023-03-23T17:05:03.922Z"
   },
   {
    "duration": 496,
    "start_time": "2023-03-23T17:05:13.669Z"
   },
   {
    "duration": 575,
    "start_time": "2023-03-23T17:11:01.960Z"
   },
   {
    "duration": 3,
    "start_time": "2023-03-23T17:11:30.757Z"
   },
   {
    "duration": 283083,
    "start_time": "2023-03-23T17:15:29.823Z"
   },
   {
    "duration": 6,
    "start_time": "2023-03-24T18:02:29.305Z"
   },
   {
    "duration": 204,
    "start_time": "2023-03-24T18:02:38.133Z"
   },
   {
    "duration": 41,
    "start_time": "2023-03-24T18:02:39.960Z"
   },
   {
    "duration": 21,
    "start_time": "2023-03-24T18:02:41.769Z"
   },
   {
    "duration": 9,
    "start_time": "2023-03-24T18:02:43.193Z"
   },
   {
    "duration": 27,
    "start_time": "2023-03-24T18:02:45.901Z"
   },
   {
    "duration": 13,
    "start_time": "2023-03-24T18:02:47.817Z"
   },
   {
    "duration": 6,
    "start_time": "2023-03-24T18:02:50.270Z"
   },
   {
    "duration": 10,
    "start_time": "2023-03-24T18:02:51.363Z"
   },
   {
    "duration": 6,
    "start_time": "2023-03-24T18:02:53.335Z"
   },
   {
    "duration": 5,
    "start_time": "2023-03-24T18:02:54.299Z"
   },
   {
    "duration": 7,
    "start_time": "2023-03-24T18:02:55.195Z"
   },
   {
    "duration": 5,
    "start_time": "2023-03-24T18:02:56.098Z"
   },
   {
    "duration": 5,
    "start_time": "2023-03-24T18:02:56.496Z"
   },
   {
    "duration": 6,
    "start_time": "2023-03-24T18:02:56.503Z"
   },
   {
    "duration": 5,
    "start_time": "2023-03-24T18:02:56.766Z"
   },
   {
    "duration": 6,
    "start_time": "2023-03-24T18:02:57.169Z"
   },
   {
    "duration": 4,
    "start_time": "2023-03-24T18:02:57.561Z"
   },
   {
    "duration": 7,
    "start_time": "2023-03-24T18:02:57.867Z"
   },
   {
    "duration": 5,
    "start_time": "2023-03-24T18:02:58.279Z"
   },
   {
    "duration": 8,
    "start_time": "2023-03-24T18:02:59.033Z"
   },
   {
    "duration": 11,
    "start_time": "2023-03-24T18:03:00.158Z"
   },
   {
    "duration": 14,
    "start_time": "2023-03-24T18:03:02.387Z"
   },
   {
    "duration": 7,
    "start_time": "2023-03-24T18:03:04.422Z"
   },
   {
    "duration": 14,
    "start_time": "2023-03-24T18:03:08.812Z"
   },
   {
    "duration": 7,
    "start_time": "2023-03-24T18:03:25.061Z"
   },
   {
    "duration": 34,
    "start_time": "2023-03-24T18:03:27.155Z"
   },
   {
    "duration": 2,
    "start_time": "2023-03-24T18:03:34.007Z"
   },
   {
    "duration": 535,
    "start_time": "2023-03-24T18:03:34.137Z"
   },
   {
    "duration": 0,
    "start_time": "2023-03-24T18:03:34.673Z"
   },
   {
    "duration": 0,
    "start_time": "2023-03-24T18:08:14.741Z"
   },
   {
    "duration": 0,
    "start_time": "2023-03-24T18:08:14.743Z"
   },
   {
    "duration": 0,
    "start_time": "2023-03-24T18:08:14.746Z"
   },
   {
    "duration": 5,
    "start_time": "2023-03-24T18:13:15.266Z"
   },
   {
    "duration": 50,
    "start_time": "2023-03-24T18:13:16.227Z"
   },
   {
    "duration": 36,
    "start_time": "2023-03-24T18:13:17.816Z"
   },
   {
    "duration": 14,
    "start_time": "2023-03-24T18:13:20.379Z"
   },
   {
    "duration": 8,
    "start_time": "2023-03-24T18:13:22.225Z"
   },
   {
    "duration": 45,
    "start_time": "2023-03-24T18:13:23.737Z"
   },
   {
    "duration": 15,
    "start_time": "2023-03-24T18:13:25.897Z"
   },
   {
    "duration": 8,
    "start_time": "2023-03-24T18:13:27.556Z"
   },
   {
    "duration": 8,
    "start_time": "2023-03-24T18:13:29.267Z"
   },
   {
    "duration": 5,
    "start_time": "2023-03-24T18:13:30.965Z"
   },
   {
    "duration": 15,
    "start_time": "2023-03-24T18:13:31.739Z"
   },
   {
    "duration": 6,
    "start_time": "2023-03-24T18:13:32.539Z"
   },
   {
    "duration": 5,
    "start_time": "2023-03-24T18:13:33.302Z"
   },
   {
    "duration": 4,
    "start_time": "2023-03-24T18:13:33.871Z"
   },
   {
    "duration": 4,
    "start_time": "2023-03-24T18:13:34.399Z"
   },
   {
    "duration": 4,
    "start_time": "2023-03-24T18:13:34.889Z"
   },
   {
    "duration": 4,
    "start_time": "2023-03-24T18:13:35.529Z"
   },
   {
    "duration": 5,
    "start_time": "2023-03-24T18:13:36.217Z"
   },
   {
    "duration": 4,
    "start_time": "2023-03-24T18:13:36.801Z"
   },
   {
    "duration": 4,
    "start_time": "2023-03-24T18:13:38.213Z"
   },
   {
    "duration": 4,
    "start_time": "2023-03-24T18:13:39.585Z"
   },
   {
    "duration": 13,
    "start_time": "2023-03-24T18:13:41.754Z"
   },
   {
    "duration": 12,
    "start_time": "2023-03-24T18:13:44.677Z"
   },
   {
    "duration": 9,
    "start_time": "2023-03-24T18:13:47.405Z"
   },
   {
    "duration": 11,
    "start_time": "2023-03-24T18:13:49.220Z"
   },
   {
    "duration": 5,
    "start_time": "2023-03-24T18:13:50.707Z"
   },
   {
    "duration": 36,
    "start_time": "2023-03-24T18:13:52.284Z"
   },
   {
    "duration": 2,
    "start_time": "2023-03-24T18:13:58.688Z"
   },
   {
    "duration": 561,
    "start_time": "2023-03-24T18:14:04.820Z"
   },
   {
    "duration": 4,
    "start_time": "2023-03-24T18:14:36.732Z"
   },
   {
    "duration": 560,
    "start_time": "2023-03-24T18:14:41.174Z"
   },
   {
    "duration": 1716,
    "start_time": "2023-03-25T02:56:55.589Z"
   },
   {
    "duration": 95,
    "start_time": "2023-03-25T02:56:57.919Z"
   },
   {
    "duration": 32,
    "start_time": "2023-03-25T02:56:59.655Z"
   },
   {
    "duration": 16,
    "start_time": "2023-03-25T02:57:01.169Z"
   },
   {
    "duration": 8,
    "start_time": "2023-03-25T02:57:02.635Z"
   },
   {
    "duration": 49,
    "start_time": "2023-03-25T02:57:04.117Z"
   },
   {
    "duration": 15,
    "start_time": "2023-03-25T02:57:06.029Z"
   },
   {
    "duration": 7,
    "start_time": "2023-03-25T02:57:07.732Z"
   },
   {
    "duration": 11,
    "start_time": "2023-03-25T02:57:09.447Z"
   },
   {
    "duration": 6,
    "start_time": "2023-03-25T02:57:11.157Z"
   },
   {
    "duration": 5,
    "start_time": "2023-03-25T02:57:12.019Z"
   },
   {
    "duration": 5,
    "start_time": "2023-03-25T02:57:13.107Z"
   },
   {
    "duration": 5,
    "start_time": "2023-03-25T02:57:14.069Z"
   },
   {
    "duration": 6,
    "start_time": "2023-03-25T02:57:14.861Z"
   },
   {
    "duration": 6,
    "start_time": "2023-03-25T02:57:15.721Z"
   },
   {
    "duration": 7,
    "start_time": "2023-03-25T02:57:16.575Z"
   },
   {
    "duration": 4,
    "start_time": "2023-03-25T02:57:17.335Z"
   },
   {
    "duration": 4,
    "start_time": "2023-03-25T02:57:18.105Z"
   },
   {
    "duration": 5,
    "start_time": "2023-03-25T02:57:18.883Z"
   },
   {
    "duration": 5,
    "start_time": "2023-03-25T02:57:20.681Z"
   },
   {
    "duration": 4,
    "start_time": "2023-03-25T02:57:21.963Z"
   },
   {
    "duration": 11,
    "start_time": "2023-03-25T02:57:25.662Z"
   },
   {
    "duration": 13,
    "start_time": "2023-03-25T03:00:23.099Z"
   },
   {
    "duration": 10,
    "start_time": "2023-03-25T03:00:25.232Z"
   },
   {
    "duration": 15,
    "start_time": "2023-03-25T03:00:26.941Z"
   },
   {
    "duration": 6,
    "start_time": "2023-03-25T03:00:28.504Z"
   },
   {
    "duration": 49,
    "start_time": "2023-03-25T03:00:30.123Z"
   },
   {
    "duration": 3,
    "start_time": "2023-03-25T03:00:39.207Z"
   },
   {
    "duration": 514,
    "start_time": "2023-03-25T03:00:48.821Z"
   },
   {
    "duration": 3,
    "start_time": "2023-03-25T03:00:59.375Z"
   },
   {
    "duration": 4,
    "start_time": "2023-03-25T03:10:05.915Z"
   },
   {
    "duration": 534,
    "start_time": "2023-03-25T03:10:05.921Z"
   },
   {
    "duration": 2,
    "start_time": "2023-03-25T03:10:06.457Z"
   },
   {
    "duration": 259330,
    "start_time": "2023-03-25T03:10:06.461Z"
   },
   {
    "duration": 296,
    "start_time": "2023-03-25T03:14:25.792Z"
   },
   {
    "duration": 191,
    "start_time": "2023-03-25T03:34:48.367Z"
   },
   {
    "duration": 79,
    "start_time": "2023-03-25T03:37:47.498Z"
   },
   {
    "duration": 5,
    "start_time": "2023-03-25T03:37:58.717Z"
   },
   {
    "duration": 87,
    "start_time": "2023-03-25T03:38:10.823Z"
   },
   {
    "duration": 3,
    "start_time": "2023-03-25T03:41:18.659Z"
   },
   {
    "duration": 2,
    "start_time": "2023-03-25T03:41:20.992Z"
   },
   {
    "duration": 88,
    "start_time": "2023-03-25T03:42:45.990Z"
   },
   {
    "duration": 5,
    "start_time": "2023-03-25T03:54:01.792Z"
   },
   {
    "duration": 92,
    "start_time": "2023-03-25T04:00:03.561Z"
   },
   {
    "duration": 132,
    "start_time": "2023-03-25T04:02:30.915Z"
   },
   {
    "duration": 127,
    "start_time": "2023-03-25T04:03:04.306Z"
   },
   {
    "duration": 125,
    "start_time": "2023-03-25T04:03:10.064Z"
   },
   {
    "duration": 116,
    "start_time": "2023-03-25T04:03:19.245Z"
   },
   {
    "duration": 117,
    "start_time": "2023-03-25T04:13:09.176Z"
   },
   {
    "duration": 161,
    "start_time": "2023-03-25T04:18:31.379Z"
   },
   {
    "duration": 126,
    "start_time": "2023-03-25T04:19:17.859Z"
   },
   {
    "duration": 38,
    "start_time": "2023-03-25T04:20:44.062Z"
   },
   {
    "duration": 281909,
    "start_time": "2023-03-25T04:23:56.410Z"
   },
   {
    "duration": 134,
    "start_time": "2023-03-25T04:35:18.607Z"
   },
   {
    "duration": 104,
    "start_time": "2023-03-25T04:37:57.498Z"
   },
   {
    "duration": 448,
    "start_time": "2023-03-25T04:38:16.759Z"
   },
   {
    "duration": 32,
    "start_time": "2023-03-25T04:38:38.134Z"
   },
   {
    "duration": 276,
    "start_time": "2023-03-25T04:38:39.056Z"
   },
   {
    "duration": 283299,
    "start_time": "2023-03-25T04:43:50.471Z"
   },
   {
    "duration": 659,
    "start_time": "2023-03-25T04:48:34.387Z"
   },
   {
    "duration": 10,
    "start_time": "2023-03-25T05:49:16.241Z"
   },
   {
    "duration": 7,
    "start_time": "2023-03-25T06:07:37.898Z"
   }
  ],
  "kernelspec": {
   "display_name": "Python 3 (ipykernel)",
   "language": "python",
   "name": "python3"
  },
  "language_info": {
   "codemirror_mode": {
    "name": "ipython",
    "version": 3
   },
   "file_extension": ".py",
   "mimetype": "text/x-python",
   "name": "python",
   "nbconvert_exporter": "python",
   "pygments_lexer": "ipython3",
   "version": "3.9.5"
  },
  "toc": {
   "base_numbering": 1,
   "nav_menu": {},
   "number_sections": true,
   "sideBar": true,
   "skip_h1_title": true,
   "title_cell": "Содержание",
   "title_sidebar": "Contents",
   "toc_cell": true,
   "toc_position": {},
   "toc_section_display": true,
   "toc_window_display": false
  }
 },
 "nbformat": 4,
 "nbformat_minor": 2
}
